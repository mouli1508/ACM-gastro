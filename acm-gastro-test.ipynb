{
 "cells": [
  {
   "cell_type": "code",
   "execution_count": 1,
   "id": "b43474bb-7167-4208-852a-6762160372f6",
   "metadata": {},
   "outputs": [],
   "source": [
    "from unstructured.partition.pdf import partition_pdf"
   ]
  },
  {
   "cell_type": "code",
   "execution_count": 7,
   "id": "2b18952d",
   "metadata": {},
   "outputs": [],
   "source": [
    "# partition_pdf??"
   ]
  },
  {
   "cell_type": "code",
   "execution_count": 3,
   "id": "6a6695a5-358e-499f-a96e-6fda59c91ec3",
   "metadata": {},
   "outputs": [
    {
     "name": "stderr",
     "output_type": "stream",
     "text": [
      "Some weights of the model checkpoint at microsoft/table-transformer-structure-recognition were not used when initializing TableTransformerForObjectDetection: ['model.backbone.conv_encoder.model.layer2.0.downsample.1.num_batches_tracked', 'model.backbone.conv_encoder.model.layer3.0.downsample.1.num_batches_tracked', 'model.backbone.conv_encoder.model.layer4.0.downsample.1.num_batches_tracked']\n",
      "- This IS expected if you are initializing TableTransformerForObjectDetection from the checkpoint of a model trained on another task or with another architecture (e.g. initializing a BertForSequenceClassification model from a BertForPreTraining model).\n",
      "- This IS NOT expected if you are initializing TableTransformerForObjectDetection from the checkpoint of a model that you expect to be exactly identical (initializing a BertForSequenceClassification model from a BertForSequenceClassification model).\n"
     ]
    }
   ],
   "source": [
    "elements = partition_pdf(\n",
    "    filename=\"data-pdf/Gastrointestinal and Liver Disease.pdf\",\n",
    "    strategy=\"hi_res\",\n",
    "    infer_table_structure=True,\n",
    "    chunking_stratgey='by_title',\n",
    "    extract_images_in_pdf=True,                       # mandatory to set as ``True``\n",
    "    extract_image_block_types=[\"Image\", \"Table\"],          # optional\n",
    "    extract_image_block_to_payload=False,                  # optional\n",
    "    extract_image_block_output_dir=\"extracted_data\",\n",
    ")"
   ]
  },
  {
   "cell_type": "code",
   "execution_count": null,
   "id": "311196e3-ae3e-40d5-a09e-5cf035567f1b",
   "metadata": {},
   "outputs": [],
   "source": [
    "elements"
   ]
  },
  {
   "cell_type": "code",
   "execution_count": 5,
   "id": "f3148707",
   "metadata": {},
   "outputs": [],
   "source": [
    "Header=[]\n",
    "Footer=[]\n",
    "Title=[]\n",
    "NarrativeText=[]\n",
    "Text=[]\n",
    "ListItem=[]\n",
    "img=[]\n",
    "tab=[]\n",
    "\n",
    "\n",
    "for element in elements:\n",
    "    if \"unstructured.documents.elements.Header\" in str(type(element)):\n",
    "                Header.append(str(element))\n",
    "    elif \"unstructured.documents.elements.Footer\" in str(type(element)):\n",
    "                Footer.append(str(element))\n",
    "    elif \"unstructured.documents.elements.Title\" in str(type(element)):\n",
    "                Title.append(str(element))\n",
    "    elif \"unstructured.documents.elements.NarrativeText\" in str(type(element)):\n",
    "                NarrativeText.append(str(element))\n",
    "    elif \"unstructured.documents.elements.Text\" in str(type(element)):\n",
    "                Text.append(str(element))\n",
    "    elif \"unstructured.documents.elements.ListItem\" in str(type(element)):\n",
    "                ListItem.append(str(element))\n",
    "    elif \"unstructured.documents.elements.Image\" in str(type(element)):\n",
    "            img.append(str(element))\n",
    "    elif \"unstructured.documents.elements.Table\" in str(type(element)):\n",
    "            tab.append(str(element))\n",
    "    "
   ]
  },
  {
   "cell_type": "code",
   "execution_count": 6,
   "id": "65883082-1ebc-42f5-9e7a-b7dd44224024",
   "metadata": {},
   "outputs": [
    {
     "name": "stdout",
     "output_type": "stream",
     "text": [
      "358\n",
      "3\n",
      "1425\n",
      "2358\n",
      "420\n",
      "1295\n",
      "608\n",
      "50\n"
     ]
    }
   ],
   "source": [
    "print(len(Header))\n",
    "print(len(Footer))\n",
    "print(len(Title))\n",
    "print(len(NarrativeText))\n",
    "print(len(Text))\n",
    "print(len(ListItem))\n",
    "print(len(img))\n",
    "print(len(tab))"
   ]
  },
  {
   "cell_type": "code",
   "execution_count": 8,
   "id": "3f7f2968-278f-4b55-977e-de60244d3053",
   "metadata": {},
   "outputs": [],
   "source": [
    "data = {\n",
    "\"Header\": Header,\n",
    "\"Footer\": Footer,\n",
    "\"Title\": Title,\n",
    "\"NarrativeText\": NarrativeText,\n",
    "\"Text\": Text,\n",
    "\"ListItem\": ListItem,\n",
    "\"img\": img,\n",
    "\"tab\": tab\n",
    "}"
   ]
  },
  {
   "cell_type": "markdown",
   "id": "e45a8d8e-df2f-488f-aee9-7b418e6e894b",
   "metadata": {},
   "source": [
    "# Save the elements as json file"
   ]
  },
  {
   "cell_type": "code",
   "execution_count": 9,
   "id": "c14a31f3-65fe-4fb3-8866-c0b6d3c4fa2d",
   "metadata": {},
   "outputs": [],
   "source": [
    "import json\n",
    "\n",
    "with open(\"unsrtuctured_result_data.json\", \"w\") as json_file:\n",
    "    json.dump(data, json_file)"
   ]
  },
  {
   "cell_type": "code",
   "execution_count": 10,
   "id": "399c15d4-3303-4a59-854f-a3366509afb4",
   "metadata": {},
   "outputs": [],
   "source": [
    "with open(\"unsrtuctured_result_data.json\", \"r\") as json_file:\n",
    "    saved_data = json.load(json_file)"
   ]
  },
  {
   "cell_type": "code",
   "execution_count": null,
   "id": "332b6135-810a-4e05-9d2d-7c7aa3c90434",
   "metadata": {},
   "outputs": [],
   "source": []
  },
  {
   "cell_type": "code",
   "execution_count": 11,
   "id": "48dab223-1b26-4b67-8d48-de111cc6f817",
   "metadata": {},
   "outputs": [],
   "source": [
    "new_Header = data.get(\"Header\", [])\n",
    "new_Footer = data.get(\"Footer\", [])\n",
    "new_Title = data.get(\"Title\", [])\n",
    "new_NarrativeText = data.get(\"NarrativeText\", [])\n",
    "new_Text = data.get(\"Text\", [])\n",
    "new_ListItem = data.get(\"ListItem\", [])\n",
    "new_img = data.get(\"img\", [])\n",
    "new_tab = data.get(\"tab\", [])"
   ]
  },
  {
   "cell_type": "code",
   "execution_count": 42,
   "id": "fa2ba827-cc1f-4a3e-8638-a2a87afed559",
   "metadata": {},
   "outputs": [
    {
     "data": {
      "text/plain": [
       "2358"
      ]
     },
     "execution_count": 42,
     "metadata": {},
     "output_type": "execute_result"
    }
   ],
   "source": [
    "len(NarrativeText)"
   ]
  },
  {
   "cell_type": "code",
   "execution_count": 27,
   "id": "79974d64-4c1a-4a18-967b-e30dbdfe7151",
   "metadata": {},
   "outputs": [
    {
     "data": {
      "text/plain": [
       "'As discussed in Chapters 51 and 52, Hp causes an antrum- predominant gastritis in 10% to 20% of infected patients, which results in high gastric acid secretion and an increased risk of DU. The increased acid output from the stomach results in increased acid load to the duodenum that can result in gastric metaplasia in the duodenal bulb.12 Some believe that the metaplastic epithe- lium then becomes infected with Hp from the stomach, resulting in focal “duodenitis” (technically, gastritis), sometimes followed by erosion and ulcer formation.'"
      ]
     },
     "execution_count": 27,
     "metadata": {},
     "output_type": "execute_result"
    }
   ],
   "source": [
    "NarrativeText[10]"
   ]
  },
  {
   "cell_type": "code",
   "execution_count": 32,
   "id": "7ba124f0-9f52-42fd-9c4c-d08d434e2457",
   "metadata": {},
   "outputs": [],
   "source": [
    "total_characters = sum(len(item) for item in NarrativeText)"
   ]
  },
  {
   "cell_type": "code",
   "execution_count": 33,
   "id": "c2ad1ae4-c017-4b7b-8e4f-bbabbdf4911b",
   "metadata": {},
   "outputs": [
    {
     "data": {
      "text/plain": [
       "983129"
      ]
     },
     "execution_count": 33,
     "metadata": {},
     "output_type": "execute_result"
    }
   ],
   "source": [
    "total_characters"
   ]
  },
  {
   "cell_type": "code",
   "execution_count": 34,
   "id": "5f5b80d9-d48f-4658-8670-1ac4929cb959",
   "metadata": {},
   "outputs": [],
   "source": [
    "total_words = sum(len(item.split()) for item in NarrativeText)"
   ]
  },
  {
   "cell_type": "code",
   "execution_count": 35,
   "id": "be170bc0-bd53-4e82-a5e1-ef35b34e96d5",
   "metadata": {},
   "outputs": [
    {
     "data": {
      "text/plain": [
       "147198"
      ]
     },
     "execution_count": 35,
     "metadata": {},
     "output_type": "execute_result"
    }
   ],
   "source": [
    "total_words"
   ]
  },
  {
   "cell_type": "code",
   "execution_count": 37,
   "id": "61f30a6b-bd1b-4d93-ace8-c6f3ab2ced91",
   "metadata": {},
   "outputs": [],
   "source": [
    "avg_words_list = total_words / len(NarrativeText) if NarrativeText else 0"
   ]
  },
  {
   "cell_type": "code",
   "execution_count": 38,
   "id": "5343dcc4-fd22-412f-93fc-65590685a1e2",
   "metadata": {},
   "outputs": [
    {
     "data": {
      "text/plain": [
       "62.42493638676845"
      ]
     },
     "execution_count": 38,
     "metadata": {},
     "output_type": "execute_result"
    }
   ],
   "source": [
    "avg_words_list"
   ]
  },
  {
   "cell_type": "code",
   "execution_count": 39,
   "id": "d7678998-c0f1-421f-b277-7bdc9260dd0e",
   "metadata": {},
   "outputs": [],
   "source": [
    "avg_char_list = total_characters / len(NarrativeText) if NarrativeText else 0"
   ]
  },
  {
   "cell_type": "code",
   "execution_count": 40,
   "id": "e2381f97-39a0-4d0f-a07d-650677f11c51",
   "metadata": {},
   "outputs": [
    {
     "data": {
      "text/plain": [
       "416.9334181509754"
      ]
     },
     "execution_count": 40,
     "metadata": {},
     "output_type": "execute_result"
    }
   ],
   "source": [
    "avg_char_list"
   ]
  },
  {
   "cell_type": "code",
   "execution_count": null,
   "id": "4b0d2a98-f435-4a8c-8480-324ec8738c8f",
   "metadata": {},
   "outputs": [],
   "source": []
  },
  {
   "cell_type": "code",
   "execution_count": 16,
   "id": "3bc73b3c",
   "metadata": {},
   "outputs": [],
   "source": [
    "from langchain_core.output_parsers import StrOutputParser\n",
    "from langchain_core.prompts import ChatPromptTemplate\n",
    "from langchain_openai import ChatOpenAI"
   ]
  },
  {
   "cell_type": "markdown",
   "id": "8a537e3e",
   "metadata": {},
   "source": [
    "# Table Summary"
   ]
  },
  {
   "cell_type": "code",
   "execution_count": 17,
   "id": "c04bada7",
   "metadata": {},
   "outputs": [],
   "source": [
    "prompt_text = \"\"\"You are an assistant tasked with summarizing tables for retrieval. \\\n",
    "    These summaries will be embedded and used to retrieve the raw table elements. \\\n",
    "    Give a concise summary of the table that is well optimized for retrieval. Table:{element} \"\"\""
   ]
  },
  {
   "cell_type": "code",
   "execution_count": 18,
   "id": "e1734cf9",
   "metadata": {},
   "outputs": [],
   "source": [
    "prompt = ChatPromptTemplate.from_template(prompt_text)"
   ]
  },
  {
   "cell_type": "code",
   "execution_count": 19,
   "id": "a597257d",
   "metadata": {},
   "outputs": [],
   "source": [
    "OPENAI_API_TOKEN = \"sk-3j0cFKF5cjjHnmR1rwm2NlxYno3Dalko6m9LM0lImeT3BlbkFJ3JUoGhG7POjgKJ_YjWG2f6FT3blA5IF_a6FuLLFa0A\""
   ]
  },
  {
   "cell_type": "code",
   "execution_count": 21,
   "id": "23883c34",
   "metadata": {},
   "outputs": [],
   "source": [
    "import os\n",
    "os.environ[\"OPENAI_API_KEY\"] = OPENAI_API_TOKEN"
   ]
  },
  {
   "cell_type": "code",
   "execution_count": 22,
   "id": "64f3b994",
   "metadata": {},
   "outputs": [],
   "source": [
    "# Text summary chain\n",
    "model = ChatOpenAI(temperature=0, model=\"gpt-4\")\n",
    "summarize_chain = {\"element\": lambda x: x} | prompt | model | StrOutputParser()"
   ]
  },
  {
   "cell_type": "code",
   "execution_count": 23,
   "id": "40916ba7",
   "metadata": {},
   "outputs": [],
   "source": [
    "table_summaries = []\n",
    "table_summaries = summarize_chain.batch(tab, {\"max_concurrency\": 5})"
   ]
  },
  {
   "cell_type": "code",
   "execution_count": 24,
   "id": "b738d1ad",
   "metadata": {},
   "outputs": [
    {
     "data": {
      "text/plain": [
       "'The table provides comprehensive information on peptic ulcer disease, covering aspects such as epidemiology, etiology, pathogenesis, clinical features, diagnosis, and medical therapy. It discusses the role of Hp infection, use of aspirin and other NSAIDs, and other causes in the development of ulcers. The table also details various pharmaceutical agents used in the treatment of active peptic ulcer disease, including those for Hp-associated ulcers, NSAID ulcers, and idiopathic ulcers. It further addresses refractory ulcers, prevention strategies, and complications like bleeding, perforation, and obstruction. The table concludes with a section on stress ulcers.'"
      ]
     },
     "execution_count": 24,
     "metadata": {},
     "output_type": "execute_result"
    }
   ],
   "source": [
    "table_summaries[0]"
   ]
  },
  {
   "cell_type": "code",
   "execution_count": 25,
   "id": "37ff0622",
   "metadata": {},
   "outputs": [
    {
     "data": {
      "text/plain": [
       "'EPIDEMIOLOGY � � � � � � � � � � � � � � � � � � � � � � � � � � � � � � � � 806 ETIOLOGY AND PATHOGENESIS � � � � � � � � � � � � � � � � � � � � 806 Hp Infection � � � � � � � � � � � � � � � � � � � � � � � � � � � � � � � � � � 807 Use of Aspirin and Other NSAIDs � � � � � � � � � � � � � � � � � � 807 Other Causes of Ulcers and Idiopathic Ulcers � � � � � � � � � 808 CLINICAL FEATURES AND DIAGNOSIS � � � � � � � � � � � � � � � 808 MEDICAL THERAPY OF ACTIVE PEPTIC ULCER DISEASE � � � � � � � � � � � � � � � � � � � � � � � � � � � � � � � � � � � � � � 810 Pharmaceutical Agents � � � � � � � � � � � � � � � � � � � � � � � � � 810 Hp-associated Ulcers � � � � � � � � � � � � � � � � � � � � � � � � � � 811 NSAID Ulcers � � � � � � � � � � � � � � � � � � � � � � � � � � � � � � � � � 812 Other Causes of Ulcers and Idiopathic Ulcers � � � � � � � � � 812 REFRACTORY ULCERS � � � � � � � � � � � � � � � � � � � � � � � � � � � 812 PREVENTION OF ULCER DISEASE � � � � � � � � � � � � � � � � � � 812 Antacids � � � � � � � � � � � � � � � � � � � � � � � � � � � � � � � � � � � � 812 H2RAs � � � � � � � � � � � � � � � � � � � � � � � � � � � � � � � � � � � � � � 813 Misoprostol � � � � � � � � � � � � � � � � � � � � � � � � � � � � � � � � � � 813 PPIs � � � � � � � � � � � � � � � � � � � � � � � � � � � � � � � � � � � � � � � 813 COX-2 Inhibitors (In Place of NSAIDs) � � � � � � � � � � � � � � � 813 Assessing Risk and Choice of Agent(s) � � � � � � � � � � � � � � 814 COMPLICATIONS AND THEIR TREATMENT � � � � � � � � � � � 815 Bleeding � � � � � � � � � � � � � � � � � � � � � � � � � � � � � � � � � � � � 815 Perforation � � � � � � � � � � � � � � � � � � � � � � � � � � � � � � � � � � 817 Obstruction � � � � � � � � � � � � � � � � � � � � � � � � � � � � � � � � � � 818 STRESS ULCERS � � � � � � � � � � � � � � � � � � � � � � � � � � � � � � � 819'"
      ]
     },
     "execution_count": 25,
     "metadata": {},
     "output_type": "execute_result"
    }
   ],
   "source": [
    "tab[0]"
   ]
  },
  {
   "cell_type": "markdown",
   "id": "578c80af",
   "metadata": {},
   "source": [
    "# Text Summary"
   ]
  },
  {
   "cell_type": "code",
   "execution_count": 26,
   "id": "8471b5b4",
   "metadata": {},
   "outputs": [],
   "source": [
    "# Prompt\n",
    "prompt_text = \"\"\"You are an assistant tasked with summarizing text for retrieval. \\\n",
    "    These summaries will be embedded and used to retrieve the raw text elements. \\\n",
    "    Give a concise summary of the table or text that is well optimized for retrieval.text: {element} \"\"\"\n"
   ]
  },
  {
   "cell_type": "code",
   "execution_count": 27,
   "id": "9ad24888",
   "metadata": {},
   "outputs": [],
   "source": [
    "prompt = ChatPromptTemplate.from_template(prompt_text)"
   ]
  },
  {
   "cell_type": "code",
   "execution_count": 42,
   "id": "f507686a",
   "metadata": {},
   "outputs": [],
   "source": [
    "# Text summary chain\n",
    "model = ChatOpenAI(temperature=0, model=\"gpt-4-turbo\")\n",
    "summarize_chain = {\"element\": lambda x: x} | prompt | model | StrOutputParser()"
   ]
  },
  {
   "cell_type": "code",
   "execution_count": 43,
   "id": "4a8dcc0f",
   "metadata": {},
   "outputs": [],
   "source": [
    "# Initialize empty summaries\n",
    "\n",
    "text_summaries = []\n",
    "text_summaries = summarize_chain.batch(NarrativeText, {\"max_concurrency\": 5})"
   ]
  },
  {
   "cell_type": "code",
   "execution_count": null,
   "id": "c2c714d2",
   "metadata": {},
   "outputs": [],
   "source": []
  },
  {
   "cell_type": "code",
   "execution_count": null,
   "id": "6fb5713d",
   "metadata": {},
   "outputs": [],
   "source": [
    "text_summaries"
   ]
  },
  {
   "cell_type": "markdown",
   "id": "bce4c926",
   "metadata": {},
   "source": [
    "# Image Summary"
   ]
  },
  {
   "cell_type": "code",
   "execution_count": 45,
   "id": "6c0d81a5",
   "metadata": {},
   "outputs": [],
   "source": [
    "import base64\n",
    "import os\n",
    "from langchain_core.messages import HumanMessage"
   ]
  },
  {
   "cell_type": "code",
   "execution_count": 46,
   "id": "0e8539bd",
   "metadata": {},
   "outputs": [],
   "source": [
    "def encode_image(image_path):\n",
    "    \"\"\"Getting the base64 string\"\"\"\n",
    "    with open(image_path, \"rb\") as image_file:\n",
    "        return base64.b64encode(image_file.read()).decode(\"utf-8\")"
   ]
  },
  {
   "cell_type": "code",
   "execution_count": 53,
   "id": "48924db3",
   "metadata": {},
   "outputs": [],
   "source": [
    "def image_summarize(img_base64, prompt):\n",
    "    \"\"\"Make image summary\"\"\"\n",
    "    chat = ChatOpenAI(model=\"gpt-4-turbo\", max_tokens=1024)\n",
    "\n",
    "    msg = chat.invoke(\n",
    "        [\n",
    "            HumanMessage(\n",
    "                content=[\n",
    "                    {\"type\": \"text\", \"text\": prompt},\n",
    "                    {\n",
    "                        \"type\": \"image_url\",\n",
    "                        \"image_url\": {\"url\": f\"data:image/jpeg;base64,{img_base64}\"},\n",
    "                    },\n",
    "                ]\n",
    "            )\n",
    "        ]\n",
    "    )\n",
    "    return msg.content"
   ]
  },
  {
   "cell_type": "code",
   "execution_count": 54,
   "id": "f56bbe1f",
   "metadata": {},
   "outputs": [],
   "source": [
    "def generate_img_summaries(path):\n",
    "    \"\"\"\n",
    "    Generate summaries and base64 encoded strings for images\n",
    "    path: Path to list of .jpg files extracted by Unstructured\n",
    "    \"\"\"\n",
    "\n",
    "    # Store base64 encoded images\n",
    "    img_base64_list = []\n",
    "\n",
    "    # Store image summaries\n",
    "    image_summaries = []\n",
    "\n",
    "    # Prompt\n",
    "    prompt = \"\"\"You are an assistant tasked with summarizing images for retrieval. \\\n",
    "    These summaries will be embedded and used to retrieve the raw image. \\\n",
    "    Give a concise summary of the image that is well optimized for retrieval.\"\"\"\n",
    "\n",
    "    # Apply to images\n",
    "    for img_file in sorted(os.listdir(path)):\n",
    "        if img_file.endswith(\".jpg\"):\n",
    "            img_path = os.path.join(path, img_file)\n",
    "            base64_image = encode_image(img_path)\n",
    "            img_base64_list.append(base64_image)\n",
    "            image_summaries.append(image_summarize(base64_image, prompt))\n",
    "\n",
    "\n",
    "    return img_base64_list, image_summaries"
   ]
  },
  {
   "cell_type": "code",
   "execution_count": 55,
   "id": "52205bf3",
   "metadata": {},
   "outputs": [],
   "source": [
    "fpath=\"extracted_images/\""
   ]
  },
  {
   "cell_type": "code",
   "execution_count": 56,
   "id": "e0e13dce",
   "metadata": {},
   "outputs": [],
   "source": [
    "# Image summaries\n",
    "img_base64_list, image_summaries = generate_img_summaries(fpath)"
   ]
  },
  {
   "cell_type": "code",
   "execution_count": null,
   "id": "1e2e6f43",
   "metadata": {},
   "outputs": [],
   "source": [
    "image_summaries"
   ]
  },
  {
   "cell_type": "markdown",
   "id": "f9326a4b",
   "metadata": {},
   "source": [
    "# Multivector Retriver"
   ]
  },
  {
   "cell_type": "code",
   "execution_count": 59,
   "id": "dbb6988b",
   "metadata": {},
   "outputs": [],
   "source": [
    "import uuid\n",
    "\n",
    "from langchain.retrievers.multi_vector import MultiVectorRetriever\n",
    "from langchain.storage import InMemoryStore\n",
    "from langchain_community.vectorstores import Chroma\n",
    "from langchain_core.documents import Document\n",
    "from langchain_openai import OpenAIEmbeddings"
   ]
  },
  {
   "cell_type": "code",
   "execution_count": 60,
   "id": "f2f4366f",
   "metadata": {},
   "outputs": [
    {
     "name": "stderr",
     "output_type": "stream",
     "text": [
      "/tmp/ipykernel_9988/437797437.py:44: LangChainDeprecationWarning: The class `Chroma` was deprecated in LangChain 0.2.9 and will be removed in 1.0. An updated version of the class exists in the langchain-chroma package and should be used instead. To use it run `pip install -U langchain-chroma` and import as `from langchain_chroma import Chroma`.\n",
      "  vectorstore = Chroma(\n"
     ]
    }
   ],
   "source": [
    "def create_multi_vector_retriever(vectorstore, text_summaries, texts, table_summaries, tables, image_summaries, images):\n",
    "    \"\"\"\n",
    "    Create retriever that indexes summaries, but returns raw images or texts\n",
    "    \"\"\"\n",
    "\n",
    "    # Initialize the storage layer\n",
    "    store = InMemoryStore()\n",
    "    id_key = \"doc_id\"\n",
    "\n",
    "    # Create the multi-vector retriever\n",
    "    retriever = MultiVectorRetriever(\n",
    "        vectorstore=vectorstore,\n",
    "        docstore=store,\n",
    "        id_key=id_key,\n",
    "    )\n",
    "\n",
    "\n",
    "    # Helper function to add documents to the vectorstore and docstore\n",
    "    def add_documents(retriever, doc_summaries, doc_contents):\n",
    "\n",
    "      doc_ids = [str(uuid.uuid4()) for _ in doc_contents]\n",
    "\n",
    "      summary_docs = [\n",
    "              Document(page_content=s, metadata={id_key: doc_ids[i]})\n",
    "              for i, s in enumerate(doc_summaries)\n",
    "          ]\n",
    "\n",
    "      retriever.vectorstore.add_documents(summary_docs)\n",
    "      retriever.docstore.mset(list(zip(doc_ids, doc_contents)))\n",
    "\n",
    "      # Add texts, tables, and images\n",
    "      # Check that text_summaries is not empty before adding\n",
    "      if text_summaries:\n",
    "          add_documents(retriever, text_summaries, texts)\n",
    "      # Check that table_summaries is not empty before adding\n",
    "      if table_summaries:\n",
    "          add_documents(retriever, table_summaries, tab)\n",
    "      # Check that image_summaries is not empty before adding\n",
    "      if image_summaries:\n",
    "          add_documents(retriever, image_summaries, img)\n",
    "\n",
    "    return retriever\n",
    "\n",
    "vectorstore = Chroma(\n",
    "    collection_name=\"mm_rag\", embedding_function=OpenAIEmbeddings()\n",
    ")\n",
    "\n",
    "# Create retriever\n",
    "retriever_multi_vector_img = create_multi_vector_retriever(\n",
    "    vectorstore,\n",
    "    text_summaries,\n",
    "    NarrativeText,\n",
    "    table_summaries,\n",
    "    tab,\n",
    "    image_summaries,\n",
    "    img_base64_list,\n",
    ")"
   ]
  },
  {
   "cell_type": "code",
   "execution_count": 61,
   "id": "1abfe00f",
   "metadata": {},
   "outputs": [
    {
     "data": {
      "text/plain": [
       "MultiVectorRetriever(vectorstore=<langchain_community.vectorstores.chroma.Chroma object at 0x7fa1eff26800>, docstore=<langchain_core.stores.InMemoryStore object at 0x7fa1ed0c7520>)"
      ]
     },
     "execution_count": 61,
     "metadata": {},
     "output_type": "execute_result"
    }
   ],
   "source": [
    "retriever_multi_vector_img"
   ]
  },
  {
   "cell_type": "code",
   "execution_count": 62,
   "id": "fd6012f3",
   "metadata": {},
   "outputs": [],
   "source": [
    "import io\n",
    "import re\n",
    "\n",
    "from IPython.display import HTML, display\n",
    "from PIL import Image"
   ]
  },
  {
   "cell_type": "code",
   "execution_count": 63,
   "id": "a9d85c37",
   "metadata": {},
   "outputs": [],
   "source": [
    "def plt_img_base64(img_base64):\n",
    "    \"\"\"Disply base64 encoded string as image\"\"\"\n",
    "    # Create an HTML img tag with the base64 string as the source\n",
    "    image_html = f'<img src=\"data:image/jpeg;base64,{img_base64}\" />'\n",
    "    # Display the image by rendering the HTML\n",
    "    display(HTML(image_html))\n"
   ]
  },
  {
   "cell_type": "code",
   "execution_count": 66,
   "id": "abffdb50",
   "metadata": {},
   "outputs": [
    {
     "data": {
      "text/html": [
       "<img src=\"data:image/jpeg;base64,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\" />"
      ],
      "text/plain": [
       "<IPython.core.display.HTML object>"
      ]
     },
     "metadata": {},
     "output_type": "display_data"
    }
   ],
   "source": [
    "plt_img_base64(img_base64_list[30])"
   ]
  },
  {
   "cell_type": "code",
   "execution_count": 67,
   "id": "e84b2e9b",
   "metadata": {},
   "outputs": [
    {
     "data": {
      "text/plain": [
       "'This image is a flowchart detailing treatment options for peptic ulcer associated with Helicobacter pylori infection based on penicillin allergy status and clarithromycin resistance. It outlines first-line therapies including combinations of Bismuth, PPI, tetracycline, metronidazole, amoxicillin, and clarithromycin, depending on the allergy status and resistance levels. For cases where the initial treatment fails, rescue therapies and culture susceptibility testing are suggested with various drug combinations listed for a duration of 14 days. The flowchart is organized with decision points and subsequent treatment pathways to guide medical treatment decisions.'"
      ]
     },
     "execution_count": 67,
     "metadata": {},
     "output_type": "execute_result"
    }
   ],
   "source": [
    "image_summaries[30]"
   ]
  },
  {
   "cell_type": "code",
   "execution_count": 68,
   "id": "7fb353a4",
   "metadata": {},
   "outputs": [],
   "source": [
    "def looks_like_base64(sb):\n",
    "    \"\"\"Check if the string looks like base64\"\"\"\n",
    "    return re.match(\"^[A-Za-z0-9+/]+[=]{0,2}$\", sb) is not None\n"
   ]
  },
  {
   "cell_type": "code",
   "execution_count": 69,
   "id": "79c4f11e",
   "metadata": {},
   "outputs": [],
   "source": [
    "def is_image_data(b64data):\n",
    "    \"\"\"\n",
    "    Check if the base64 data is an image by looking at the start of the data\n",
    "    \"\"\"\n",
    "    image_signatures = {\n",
    "        b\"\\xFF\\xD8\\xFF\": \"jpg\",\n",
    "        b\"\\x89\\x50\\x4E\\x47\\x0D\\x0A\\x1A\\x0A\": \"png\",\n",
    "        b\"\\x47\\x49\\x46\\x38\": \"gif\",\n",
    "        b\"\\x52\\x49\\x46\\x46\": \"webp\",\n",
    "    }\n",
    "    try:\n",
    "        header = base64.b64decode(b64data)[:8]  # Decode and get the first 8 bytes\n",
    "        for sig, format in image_signatures.items():\n",
    "            if header.startswith(sig):\n",
    "                return True\n",
    "        return False\n",
    "    except Exception:\n",
    "        return False"
   ]
  },
  {
   "cell_type": "code",
   "execution_count": 70,
   "id": "721be4a4",
   "metadata": {},
   "outputs": [],
   "source": [
    "def resize_base64_image(base64_string, size=(128, 128)):\n",
    "    \"\"\"\n",
    "    Resize an image encoded as a Base64 string\n",
    "    \"\"\"\n",
    "    # Decode the Base64 string\n",
    "    img_data = base64.b64decode(base64_string)\n",
    "    img = Image.open(io.BytesIO(img_data))\n",
    "\n",
    "    # Resize the image\n",
    "    resized_img = img.resize(size, Image.LANCZOS)\n",
    "\n",
    "    # Save the resized image to a bytes buffer\n",
    "    buffered = io.BytesIO()\n",
    "    resized_img.save(buffered, format=img.format)\n",
    "\n",
    "    # Encode the resized image to Base64\n",
    "    return base64.b64encode(buffered.getvalue()).decode(\"utf-8\")"
   ]
  },
  {
   "cell_type": "code",
   "execution_count": 71,
   "id": "6503bff0",
   "metadata": {},
   "outputs": [],
   "source": [
    "def split_image_text_types(docs):\n",
    "    \"\"\"\n",
    "    Split base64-encoded images and texts\n",
    "    \"\"\"\n",
    "    b64_images = []\n",
    "    texts = []\n",
    "\n",
    "    for doc in docs:\n",
    "        # Check if the document is of type Document and extract page_content if so\n",
    "        if isinstance(doc, Document):\n",
    "            doc = doc.page_content\n",
    "        if looks_like_base64(doc) and is_image_data(doc):\n",
    "            doc = resize_base64_image(doc, size=(1300, 600))\n",
    "            b64_images.append(doc)\n",
    "        else:\n",
    "            texts.append(doc)\n",
    "\n",
    "    return {\"images\": b64_images, \"texts\": texts}"
   ]
  },
  {
   "cell_type": "code",
   "execution_count": 72,
   "id": "a5caa25e",
   "metadata": {},
   "outputs": [],
   "source": [
    "def img_prompt_func(data_dict):\n",
    "    \"\"\"\n",
    "    Join the context into a single string\n",
    "    \"\"\"\n",
    "    #print(data_dict)\n",
    "    formatted_texts = \"\\n\".join(data_dict[\"context\"][\"texts\"])\n",
    "    messages = []\n",
    "\n",
    "    # Adding image(s) to the messages if present\n",
    "    if data_dict[\"context\"][\"images\"]:\n",
    "        for image in data_dict[\"context\"][\"images\"]:\n",
    "            image_message = {\n",
    "                \"type\": \"image_url\",\n",
    "                \"image_url\": {\"url\": f\"data:image/jpeg;base64,{image}\"},\n",
    "            }\n",
    "            messages.append(image_message)\n",
    "\n",
    "    # Adding the text for analysis\n",
    "    text_message = {\n",
    "        \"type\": \"text\",\n",
    "        \"text\": (\n",
    "            \"You are a helpful assistant.\\n\"\n",
    "            \"You will be given a mixed info(s) .\\n\"\n",
    "            \"Use this information to provide relevant information to the user question. \\n\"\n",
    "            f\"User-provided question: {data_dict['question']}\\n\\n\"\n",
    "            \"Text and / or tables:\\n\"\n",
    "            f\"{formatted_texts}\"\n",
    "        ),\n",
    "    }\n",
    "    messages.append(text_message)\n",
    "    return [HumanMessage(content=messages)]"
   ]
  },
  {
   "cell_type": "code",
   "execution_count": 73,
   "id": "68132a86",
   "metadata": {},
   "outputs": [],
   "source": [
    "from langchain_core.runnables import RunnableLambda, RunnablePassthrough"
   ]
  },
  {
   "cell_type": "code",
   "execution_count": 76,
   "id": "82d10ab0",
   "metadata": {},
   "outputs": [],
   "source": [
    "def multi_modal_rag_chain(retriever):\n",
    "    \"\"\"\n",
    "    Multi-modal RAG chain\n",
    "    \"\"\"\n",
    "\n",
    "    # Multi-modal LLM\n",
    "    model = ChatOpenAI(temperature=0, model=\"gpt-4-turbo\")\n",
    "\n",
    "\n",
    "    # RAG pipeline\n",
    "    chain = (\n",
    "        {\n",
    "            \"context\": retriever | RunnableLambda(split_image_text_types),\n",
    "            \"question\": RunnablePassthrough(),\n",
    "        }\n",
    "        | RunnableLambda(img_prompt_func)\n",
    "        | model\n",
    "        | StrOutputParser()\n",
    "    )\n",
    "\n",
    "    return chain"
   ]
  },
  {
   "cell_type": "code",
   "execution_count": 77,
   "id": "c2cd753b",
   "metadata": {},
   "outputs": [],
   "source": [
    "# Create RAG chain\n",
    "chain_multimodal_rag = multi_modal_rag_chain(retriever_multi_vector_img)"
   ]
  },
  {
   "cell_type": "code",
   "execution_count": 78,
   "id": "8295d965",
   "metadata": {},
   "outputs": [
    {
     "data": {
      "text/plain": [
       "{\n",
       "  context: MultiVectorRetriever(vectorstore=<langchain_community.vectorstores.chroma.Chroma object at 0x7fa1eff26800>, docstore=<langchain_core.stores.InMemoryStore object at 0x7fa1ed0c7520>)\n",
       "           | RunnableLambda(split_image_text_types),\n",
       "  question: RunnablePassthrough()\n",
       "}\n",
       "| RunnableLambda(img_prompt_func)\n",
       "| ChatOpenAI(client=<openai.resources.chat.completions.Completions object at 0x7fa1ed0c4070>, async_client=<openai.resources.chat.completions.AsyncCompletions object at 0x7fa1eee804f0>, root_client=<openai.OpenAI object at 0x7fa1ee844730>, root_async_client=<openai.AsyncOpenAI object at 0x7fa1ed0c74c0>, model_name='gpt-4-turbo', temperature=0.0, openai_api_key=SecretStr('**********'), openai_proxy='')\n",
       "| StrOutputParser()"
      ]
     },
     "execution_count": 78,
     "metadata": {},
     "output_type": "execute_result"
    }
   ],
   "source": [
    "chain_multimodal_rag"
   ]
  },
  {
   "cell_type": "code",
   "execution_count": 95,
   "id": "b0abfb42",
   "metadata": {},
   "outputs": [],
   "source": [
    "# Check retrieval\n",
    "query = \"explain treatment options for peptic ulcer based on penicillin allergy\"\n",
    "docs = retriever_multi_vector_img.invoke(query)\n",
    "\n"
   ]
  },
  {
   "cell_type": "code",
   "execution_count": 96,
   "id": "8948435d",
   "metadata": {},
   "outputs": [
    {
     "data": {
      "text/plain": [
       "[]"
      ]
     },
     "execution_count": 96,
     "metadata": {},
     "output_type": "execute_result"
    }
   ],
   "source": [
    "docs"
   ]
  },
  {
   "cell_type": "code",
   "execution_count": null,
   "id": "557b6c25",
   "metadata": {},
   "outputs": [],
   "source": []
  },
  {
   "cell_type": "markdown",
   "id": "eca241ff",
   "metadata": {},
   "source": [
    "# RAG"
   ]
  },
  {
   "cell_type": "code",
   "execution_count": 81,
   "id": "0a63b117",
   "metadata": {},
   "outputs": [],
   "source": [
    "query=\"Are gastric ulcers hereditary?\""
   ]
  },
  {
   "cell_type": "code",
   "execution_count": 83,
   "id": "5b427d26",
   "metadata": {},
   "outputs": [],
   "source": [
    "# Run RAG chain\n",
    "result = chain_multimodal_rag.invoke(query)"
   ]
  },
  {
   "cell_type": "code",
   "execution_count": 84,
   "id": "957ee204",
   "metadata": {},
   "outputs": [
    {
     "name": "stdout",
     "output_type": "stream",
     "text": [
      "Gastric ulcers, also known as peptic ulcers, are sores that develop on the lining of the stomach, lower esophagus, or small intestine. They occur when the stomach's protective mucus is reduced and allows the acidic digestive juices to erode the organ's tissue.\n",
      "\n",
      "The development of gastric ulcers is not directly hereditary, meaning they are not passed down from parents to children through genes. However, certain genetic factors may increase a person's susceptibility to the H. pylori bacteria, which is known to be a major cause of ulcers. Additionally, genetic predispositions to excessive acid production or weaker stomach lining protection could increase the risk of developing ulcers.\n",
      "\n",
      "Other factors that contribute to the development of gastric ulcers include:\n",
      "- Frequent use of nonsteroidal anti-inflammatory drugs (NSAIDs), like ibuprofen and aspirin.\n",
      "- Smoking cigarettes and drinking alcohol.\n",
      "- Stress, although it is not a direct cause, can exacerbate symptoms and slow the healing process.\n",
      "\n",
      "In summary, while gastric ulcers themselves are not hereditary, certain genetic factors can increase an individual's risk of developing them.\n"
     ]
    }
   ],
   "source": [
    "print(result)"
   ]
  },
  {
   "cell_type": "code",
   "execution_count": 85,
   "id": "2f35488b",
   "metadata": {},
   "outputs": [],
   "source": [
    "questions_text = \"\"\"\n",
    "What is a gastric ulcer?\n",
    "What causes gastric ulcers?\n",
    "How does H. pylori infection contribute to gastric ulcers?\n",
    "What are the common symptoms of a gastric ulcer?\n",
    "How are gastric ulcers and duodenal ulcers different?\n",
    "What risk factors increase the likelihood of developing a gastric ulcer?\n",
    "Can stress cause gastric ulcers?\n",
    "How is a gastric ulcer diagnosed?\n",
    "What tests are used to detect H. pylori infection?\n",
    "Are gastric ulcers hereditary?\n",
    "Can smoking contribute to gastric ulcers?\n",
    "How do NSAIDs (nonsteroidal anti-inflammatory drugs) cause gastric ulcers?\n",
    "Can alcohol consumption lead to gastric ulcers?\n",
    "What lifestyle changes can help prevent gastric ulcers?\n",
    "How does diet affect gastric ulcers?\n",
    "What are the common treatments for gastric ulcers?\n",
    "How effective are antibiotics in treating H. pylori-related ulcers?\n",
    "How long does it typically take for a gastric ulcer to heal?\n",
    "Are there any dietary changes recommended for someone with a gastric ulcer?\n",
    "What foods should be avoided if you have a gastric ulcer?\n",
    "Can lifestyle changes such as quitting smoking help with gastric ulcers?\n",
    "What are the potential side effects of ulcer medications?\n",
    "How often should I follow up with my doctor if I have a gastric ulcer?\n",
    "Can gastric ulcers recur after treatment?\n",
    "How do proton pump inhibitors (PPIs) work to treat gastric ulcers?\n",
    "Is surgery ever required to treat a gastric ulcer?\n",
    "What are the long-term effects of untreated gastric ulcers?\n",
    "What are the signs that a gastric ulcer is bleeding?\n",
    "How serious is a bleeding gastric ulcer?\n",
    "What should I do if I suspect my gastric ulcer is bleeding?\n",
    "Can a gastric ulcer lead to other complications such as perforation or obstruction?\n",
    "How is a bleeding gastric ulcer treated in an emergency?\n",
    "What are the symptoms of a perforated gastric ulcer?\n",
    "How is a perforated gastric ulcer treated?\n",
    "How does anemia relate to gastric ulcers?\n",
    "Can chronic stomach ulcers lead to gastric cancer?\n",
    "Are there any ways to prevent gastric ulcers?\n",
    "How can I reduce my risk of developing a gastric ulcer?\n",
    "Can long-term use of NSAIDs cause gastric ulcers?\n",
    "What are the alternatives to NSAIDs if I have a history of gastric ulcers?\n",
    "How often should I get screened for H. pylori if I've had a gastric ulcer before?\n",
    "Are there any new treatments or research developments for gastric ulcers?\n",
    "How does gastric acid secretion influence the formation of stomach ulcers?\n",
    "What role do prostaglandins play in the pathophysiology of stomach ulcers?\n",
    "How is the urea breath test used to diagnose H. pylori infection?\n",
    "What are the mechanisms of action of proton pump inhibitors (PPIs) in ulcer treatment?\n",
    "How do NSAIDs induce gastric mucosal injury leading to ulcers?\n",
    "What is the role of endoscopy in the management of peptic ulcer disease?\n",
    "How do you assess the severity of bleeding in a peptic ulcer patient?\n",
    "What are the indications for surgical intervention in peptic ulcer disease?\n",
    "How does H. pylori eradication therapy affect the recurrence of stomach ulcers?\n",
    "How are refractory peptic ulcers managed clinically?\n",
    "What are the long-term outcomes of patients with peptic ulcer bleeding?\n",
    "How does chronic use of corticosteroids influence peptic ulcer formation?\n",
    "How do you differentiate between benign and malignant gastric ulcers during endoscopy?\n",
    "How do you manage patients with non-healing gastric ulcers despite standard treatment?\n",
    "What are the indications for endoscopic biopsy in patients with suspected gastric ulcers?\n",
    "How do you approach the treatment of gastric ulcers in patients with concurrent liver disease?\n",
    "How do you tailor the treatment of peptic ulcers in elderly patients with multiple comorbidities?\n",
    "What is your approach to managing patients with peptic ulcers who are on anticoagulant therapy?\n",
    "What are the current guidelines for the use of proton pump inhibitors (PPIs) in peptic ulcer disease?\n",
    "How do you handle cases of refractory H. pylori infection that do not respond to standard eradication regimens?\n",
    "Is a bleeding gastric ulcer a sign of stomach cancer?\n",
    "Where does acute pain from a gastric ulcer typically manifest?\n",
    "What are the differences between gastritis, gastric erosion, and gastric ulcers?\n",
    "Can black stool indicate a gastric ulcer?\n",
    "What is the purpose of performing a tissue biopsy in cases of gastric ulcers?\n",
    "What is the Sakita classification in gastric ulcers?\n",
    "Could vomiting blood indicate a gastric ulcer?\n",
    "Are there any significant blood test results when a patient has a gastric ulcer?\n",
    "\"\"\""
   ]
  },
  {
   "cell_type": "code",
   "execution_count": 86,
   "id": "131f1cb1",
   "metadata": {},
   "outputs": [],
   "source": [
    "questions_list = [question.astrip() for question in questions_text.strip().split('\\n') if question]"
   ]
  },
  {
   "cell_type": "code",
   "execution_count": 87,
   "id": "2c409877",
   "metadata": {},
   "outputs": [
    {
     "name": "stdout",
     "output_type": "stream",
     "text": [
      "['What is a gastric ulcer?', 'What causes gastric ulcers?', 'How does H. pylori infection contribute to gastric ulcers?', 'What are the common symptoms of a gastric ulcer?', 'How are gastric ulcers and duodenal ulcers different?', 'What risk factors increase the likelihood of developing a gastric ulcer?', 'Can stress cause gastric ulcers?', 'How is a gastric ulcer diagnosed?', 'What tests are used to detect H. pylori infection?', 'Are gastric ulcers hereditary?', 'Can smoking contribute to gastric ulcers?', 'How do NSAIDs (nonsteroidal anti-inflammatory drugs) cause gastric ulcers?', 'Can alcohol consumption lead to gastric ulcers?', 'What lifestyle changes can help prevent gastric ulcers?', 'How does diet affect gastric ulcers?', 'What are the common treatments for gastric ulcers?', 'How effective are antibiotics in treating H. pylori-related ulcers?', 'How long does it typically take for a gastric ulcer to heal?', 'Are there any dietary changes recommended for someone with a gastric ulcer?', 'What foods should be avoided if you have a gastric ulcer?', 'Can lifestyle changes such as quitting smoking help with gastric ulcers?', 'What are the potential side effects of ulcer medications?', 'How often should I follow up with my doctor if I have a gastric ulcer?', 'Can gastric ulcers recur after treatment?', 'How do proton pump inhibitors (PPIs) work to treat gastric ulcers?', 'Is surgery ever required to treat a gastric ulcer?', 'What are the long-term effects of untreated gastric ulcers?', 'What are the signs that a gastric ulcer is bleeding?', 'How serious is a bleeding gastric ulcer?', 'What should I do if I suspect my gastric ulcer is bleeding?', 'Can a gastric ulcer lead to other complications such as perforation or obstruction?', 'How is a bleeding gastric ulcer treated in an emergency?', 'What are the symptoms of a perforated gastric ulcer?', 'How is a perforated gastric ulcer treated?', 'How does anemia relate to gastric ulcers?', 'Can chronic stomach ulcers lead to gastric cancer?', 'Are there any ways to prevent gastric ulcers?', 'How can I reduce my risk of developing a gastric ulcer?', 'Can long-term use of NSAIDs cause gastric ulcers?', 'What are the alternatives to NSAIDs if I have a history of gastric ulcers?', \"How often should I get screened for H. pylori if I've had a gastric ulcer before?\", 'Are there any new treatments or research developments for gastric ulcers?', 'How does gastric acid secretion influence the formation of stomach ulcers?', 'What role do prostaglandins play in the pathophysiology of stomach ulcers?', 'How is the urea breath test used to diagnose H. pylori infection?', 'What are the mechanisms of action of proton pump inhibitors (PPIs) in ulcer treatment?', 'How do NSAIDs induce gastric mucosal injury leading to ulcers?', 'What is the role of endoscopy in the management of peptic ulcer disease?', 'How do you assess the severity of bleeding in a peptic ulcer patient?', 'What are the indications for surgical intervention in peptic ulcer disease?', 'How does H. pylori eradication therapy affect the recurrence of stomach ulcers?', 'How are refractory peptic ulcers managed clinically?', 'What are the long-term outcomes of patients with peptic ulcer bleeding?', 'How does chronic use of corticosteroids influence peptic ulcer formation?', 'How do you differentiate between benign and malignant gastric ulcers during endoscopy?', 'How do you manage patients with non-healing gastric ulcers despite standard treatment?', 'What are the indications for endoscopic biopsy in patients with suspected gastric ulcers?', 'How do you approach the treatment of gastric ulcers in patients with concurrent liver disease?', 'How do you tailor the treatment of peptic ulcers in elderly patients with multiple comorbidities?', 'What is your approach to managing patients with peptic ulcers who are on anticoagulant therapy?', 'What are the current guidelines for the use of proton pump inhibitors (PPIs) in peptic ulcer disease?', 'How do you handle cases of refractory H. pylori infection that do not respond to standard eradication regimens?', 'Is a bleeding gastric ulcer a sign of stomach cancer?', 'Where does acute pain from a gastric ulcer typically manifest?', 'What are the differences between gastritis, gastric erosion, and gastric ulcers?', 'Can black stool indicate a gastric ulcer?', 'What is the purpose of performing a tissue biopsy in cases of gastric ulcers?', 'What is the Sakita classification in gastric ulcers?', 'Could vomiting blood indicate a gastric ulcer?', 'Are there any significant blood test results when a patient has a gastric ulcer?']\n"
     ]
    }
   ],
   "source": [
    "print(questions_list)"
   ]
  },
  {
   "cell_type": "code",
   "execution_count": 88,
   "id": "6e788ae5",
   "metadata": {},
   "outputs": [],
   "source": [
    "answers_dict = {}"
   ]
  },
  {
   "cell_type": "code",
   "execution_count": 89,
   "id": "90285c1e",
   "metadata": {},
   "outputs": [],
   "source": [
    "for question in questions_list:\n",
    "    result = chain_multimodal_rag.invoke(question)\n",
    "    answers_dict[question] = result"
   ]
  },
  {
   "cell_type": "code",
   "execution_count": 90,
   "id": "82716a23",
   "metadata": {},
   "outputs": [],
   "source": [
    "import pandas as pd\n",
    "df = pd.DataFrame(list(answers_dict.items()), columns=['Question', 'Answer'])"
   ]
  },
  {
   "cell_type": "code",
   "execution_count": 91,
   "id": "febec730",
   "metadata": {},
   "outputs": [],
   "source": [
    "df.to_csv('gastric_ulcer_questions_answers.csv', index=False)"
   ]
  },
  {
   "cell_type": "code",
   "execution_count": 93,
   "id": "e3391ed1",
   "metadata": {},
   "outputs": [
    {
     "data": {
      "text/html": [
       "<div>\n",
       "<style scoped>\n",
       "    .dataframe tbody tr th:only-of-type {\n",
       "        vertical-align: middle;\n",
       "    }\n",
       "\n",
       "    .dataframe tbody tr th {\n",
       "        vertical-align: top;\n",
       "    }\n",
       "\n",
       "    .dataframe thead th {\n",
       "        text-align: right;\n",
       "    }\n",
       "</style>\n",
       "<table border=\"1\" class=\"dataframe\">\n",
       "  <thead>\n",
       "    <tr style=\"text-align: right;\">\n",
       "      <th></th>\n",
       "      <th>Question</th>\n",
       "      <th>Answer</th>\n",
       "    </tr>\n",
       "  </thead>\n",
       "  <tbody>\n",
       "    <tr>\n",
       "      <th>0</th>\n",
       "      <td>What is a gastric ulcer?</td>\n",
       "      <td>A gastric ulcer, also known as a stomach ulcer...</td>\n",
       "    </tr>\n",
       "    <tr>\n",
       "      <th>1</th>\n",
       "      <td>What causes gastric ulcers?</td>\n",
       "      <td>Gastric ulcers, also known as stomach ulcers, ...</td>\n",
       "    </tr>\n",
       "    <tr>\n",
       "      <th>2</th>\n",
       "      <td>How does H. pylori infection contribute to gas...</td>\n",
       "      <td>Helicobacter pylori (H. pylori) infection cont...</td>\n",
       "    </tr>\n",
       "    <tr>\n",
       "      <th>3</th>\n",
       "      <td>What are the common symptoms of a gastric ulcer?</td>\n",
       "      <td>Common symptoms of a gastric ulcer include:\\n\\...</td>\n",
       "    </tr>\n",
       "    <tr>\n",
       "      <th>4</th>\n",
       "      <td>How are gastric ulcers and duodenal ulcers dif...</td>\n",
       "      <td>Gastric ulcers and duodenal ulcers are both ty...</td>\n",
       "    </tr>\n",
       "    <tr>\n",
       "      <th>...</th>\n",
       "      <td>...</td>\n",
       "      <td>...</td>\n",
       "    </tr>\n",
       "    <tr>\n",
       "      <th>65</th>\n",
       "      <td>Can black stool indicate a gastric ulcer?</td>\n",
       "      <td>Yes, black stool can be an indication of a gas...</td>\n",
       "    </tr>\n",
       "    <tr>\n",
       "      <th>66</th>\n",
       "      <td>What is the purpose of performing a tissue bio...</td>\n",
       "      <td>A tissue biopsy in the case of gastric ulcers ...</td>\n",
       "    </tr>\n",
       "    <tr>\n",
       "      <th>67</th>\n",
       "      <td>What is the Sakita classification in gastric u...</td>\n",
       "      <td>The Sakita classification is a system used to ...</td>\n",
       "    </tr>\n",
       "    <tr>\n",
       "      <th>68</th>\n",
       "      <td>Could vomiting blood indicate a gastric ulcer?</td>\n",
       "      <td>Yes, vomiting blood can indeed indicate a gast...</td>\n",
       "    </tr>\n",
       "    <tr>\n",
       "      <th>69</th>\n",
       "      <td>Are there any significant blood test results w...</td>\n",
       "      <td>When a patient has a gastric ulcer, certain bl...</td>\n",
       "    </tr>\n",
       "  </tbody>\n",
       "</table>\n",
       "<p>70 rows × 2 columns</p>\n",
       "</div>"
      ],
      "text/plain": [
       "                                             Question  \\\n",
       "0                            What is a gastric ulcer?   \n",
       "1                         What causes gastric ulcers?   \n",
       "2   How does H. pylori infection contribute to gas...   \n",
       "3    What are the common symptoms of a gastric ulcer?   \n",
       "4   How are gastric ulcers and duodenal ulcers dif...   \n",
       "..                                                ...   \n",
       "65          Can black stool indicate a gastric ulcer?   \n",
       "66  What is the purpose of performing a tissue bio...   \n",
       "67  What is the Sakita classification in gastric u...   \n",
       "68     Could vomiting blood indicate a gastric ulcer?   \n",
       "69  Are there any significant blood test results w...   \n",
       "\n",
       "                                               Answer  \n",
       "0   A gastric ulcer, also known as a stomach ulcer...  \n",
       "1   Gastric ulcers, also known as stomach ulcers, ...  \n",
       "2   Helicobacter pylori (H. pylori) infection cont...  \n",
       "3   Common symptoms of a gastric ulcer include:\\n\\...  \n",
       "4   Gastric ulcers and duodenal ulcers are both ty...  \n",
       "..                                                ...  \n",
       "65  Yes, black stool can be an indication of a gas...  \n",
       "66  A tissue biopsy in the case of gastric ulcers ...  \n",
       "67  The Sakita classification is a system used to ...  \n",
       "68  Yes, vomiting blood can indeed indicate a gast...  \n",
       "69  When a patient has a gastric ulcer, certain bl...  \n",
       "\n",
       "[70 rows x 2 columns]"
      ]
     },
     "execution_count": 93,
     "metadata": {},
     "output_type": "execute_result"
    }
   ],
   "source": [
    "df"
   ]
  },
  {
   "cell_type": "code",
   "execution_count": 94,
   "id": "85a9af51",
   "metadata": {},
   "outputs": [],
   "source": [
    "df.to_excel('gastric_ulcer_questions_answers_excel.xlsx', index=False)"
   ]
  },
  {
   "cell_type": "code",
   "execution_count": null,
   "id": "16d82d05",
   "metadata": {},
   "outputs": [],
   "source": []
  }
 ],
 "metadata": {
  "kernelspec": {
   "display_name": "acm",
   "language": "python",
   "name": "acm"
  },
  "language_info": {
   "codemirror_mode": {
    "name": "ipython",
    "version": 3
   },
   "file_extension": ".py",
   "mimetype": "text/x-python",
   "name": "python",
   "nbconvert_exporter": "python",
   "pygments_lexer": "ipython3",
   "version": "3.10.14"
  }
 },
 "nbformat": 4,
 "nbformat_minor": 5
}
