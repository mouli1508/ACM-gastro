{
 "cells": [
  {
   "cell_type": "code",
   "execution_count": 1,
   "id": "7eb232dd-e7ee-4ba9-a1b2-702b51efa609",
   "metadata": {},
   "outputs": [],
   "source": [
    "from langchain_text_splitters import RecursiveCharacterTextSplitter\n",
    "from langchain_core.prompts import ChatPromptTemplate\n",
    "from langchain_core.prompts.prompt import PromptTemplate\n",
    "from langchain_core.messages import AIMessage, HumanMessage\n",
    "from langchain_core.output_parsers import StrOutputParser\n",
    "from langchain_core.runnables import ConfigurableField\n",
    "from langchain_experimental.graph_transformers import LLMGraphTransformer\n",
    "from langchain_ollama.llms import OllamaLLM\n",
    "from typing import Tuple, List, Optional\n",
    "from yfiles_jupyter_graphs import GraphWidget\n",
    "from neo4j import GraphDatabase\n",
    "from langchain.chains import GraphCypherQAChain\n",
    "\n",
    "from neo4j import GraphDatabase\n",
    "from langchain_community.vectorstores import Neo4jVector\n",
    "from langchain_community.graphs import Neo4jGraph\n",
    "\n",
    "import torch\n",
    "\n",
    "import pickle\n",
    "import os"
   ]
  },
  {
   "cell_type": "code",
   "execution_count": 2,
   "id": "1164af77-424f-4fa6-89f6-f59dd8503198",
   "metadata": {},
   "outputs": [],
   "source": [
    "NEO4J_URI=\"neo4j+s://9269fc71.databases.neo4j.io\"\n",
    "NEO4J_USERNAME=\"neo4j\"\n",
    "NEO4J_PASSWORD=\"lOnpSSiAFQg0uWzA1EvYYBhK45_rWbxXb9SHRDwZRfk\""
   ]
  },
  {
   "cell_type": "code",
   "execution_count": 3,
   "id": "a757f4b4-bbbb-454f-a933-88afee37e6e0",
   "metadata": {},
   "outputs": [],
   "source": [
    "# os.environ[\"OPENAI_API_KEY\"] = OPENAI_API_KEY\n",
    "os.environ[\"NEO4J_URI\"] = NEO4J_URI\n",
    "os.environ[\"NEO4J_USERNAME\"] = NEO4J_USERNAME\n",
    "os.environ[\"NEO4J_PASSWORD\"] = NEO4J_PASSWORD"
   ]
  },
  {
   "cell_type": "code",
   "execution_count": 4,
   "id": "6fec776b-036d-404b-9c2f-24acaf7228a2",
   "metadata": {},
   "outputs": [],
   "source": [
    "graph = Neo4jGraph()"
   ]
  },
  {
   "cell_type": "code",
   "execution_count": 5,
   "id": "9ed2ea9e-df76-4e9d-a37e-8c102f82a1e1",
   "metadata": {},
   "outputs": [
    {
     "name": "stdout",
     "output_type": "stream",
     "text": [
      "Documents loaded successfully!\n"
     ]
    }
   ],
   "source": [
    "\n",
    "# Load the cleaned_documents list from the file\n",
    "with open('final_pdf_pages.pkl', 'rb') as file:\n",
    "    docs = pickle.load(file)\n",
    "\n",
    "print(\"Documents loaded successfully!\")\n"
   ]
  },
  {
   "cell_type": "code",
   "execution_count": 6,
   "id": "4431a78e-af47-4316-9d91-6b9cfda24450",
   "metadata": {},
   "outputs": [],
   "source": [
    "text_splitter = RecursiveCharacterTextSplitter(\n",
    "    # Set a really small chunk size, just to show.\n",
    "    separators=['\\n'],\n",
    "    chunk_size=2024,\n",
    "    chunk_overlap=506,\n",
    "    length_function=len,\n",
    ")"
   ]
  },
  {
   "cell_type": "code",
   "execution_count": 7,
   "id": "6edabbd6-3dd4-4348-8db3-ab65f57e77bf",
   "metadata": {},
   "outputs": [],
   "source": [
    "data = text_splitter.split_documents(docs)"
   ]
  },
  {
   "cell_type": "code",
   "execution_count": 8,
   "id": "98d5debe-e2ff-4543-91f6-8202c41527a3",
   "metadata": {},
   "outputs": [
    {
     "data": {
      "text/plain": [
       "langchain_core.documents.base.Document"
      ]
     },
     "execution_count": 8,
     "metadata": {},
     "output_type": "execute_result"
    }
   ],
   "source": [
    "type(data[0])"
   ]
  },
  {
   "cell_type": "code",
   "execution_count": 9,
   "id": "23afc910-37c4-4584-aa0a-ac51460fe7f1",
   "metadata": {},
   "outputs": [
    {
     "data": {
      "text/plain": [
       "667"
      ]
     },
     "execution_count": 9,
     "metadata": {},
     "output_type": "execute_result"
    }
   ],
   "source": [
    "len(data)"
   ]
  },
  {
   "cell_type": "code",
   "execution_count": 13,
   "id": "99ef963d-a9a7-4d93-905e-91e815eece21",
   "metadata": {},
   "outputs": [],
   "source": [
    "torch.cuda.empty_cache()"
   ]
  },
  {
   "cell_type": "code",
   "execution_count": 14,
   "id": "f3f08df6-3044-4fd0-b40e-f5c91a9a94d4",
   "metadata": {},
   "outputs": [
    {
     "name": "stdout",
     "output_type": "stream",
     "text": [
      "Mon Nov  4 19:27:06 2024       \n",
      "+-----------------------------------------------------------------------------------------+\n",
      "| NVIDIA-SMI 560.35.03              Driver Version: 560.35.03      CUDA Version: 12.6     |\n",
      "|-----------------------------------------+------------------------+----------------------+\n",
      "| GPU  Name                 Persistence-M | Bus-Id          Disp.A | Volatile Uncorr. ECC |\n",
      "| Fan  Temp   Perf          Pwr:Usage/Cap |           Memory-Usage | GPU-Util  Compute M. |\n",
      "|                                         |                        |               MIG M. |\n",
      "|=========================================+========================+======================|\n",
      "|   0  NVIDIA RTX A5000               Off |   00000000:19:00.0 Off |                  Off |\n",
      "| 30%   29C    P5             11W /  230W |      24MiB /  24564MiB |      0%      Default |\n",
      "|                                         |                        |                  N/A |\n",
      "+-----------------------------------------+------------------------+----------------------+\n",
      "|   1  NVIDIA RTX A5000               Off |   00000000:1A:00.0 Off |                  Off |\n",
      "| 30%   32C    P5             14W /  230W |      24MiB /  24564MiB |      0%      Default |\n",
      "|                                         |                        |                  N/A |\n",
      "+-----------------------------------------+------------------------+----------------------+\n",
      "|   2  NVIDIA RTX A5000               Off |   00000000:67:00.0 Off |                  Off |\n",
      "| 30%   36C    P5             13W /  230W |      24MiB /  24564MiB |      0%      Default |\n",
      "|                                         |                        |                  N/A |\n",
      "+-----------------------------------------+------------------------+----------------------+\n",
      "|   3  NVIDIA RTX A5000               Off |   00000000:68:00.0  On |                  Off |\n",
      "| 31%   61C    P0             75W /  230W |    1786MiB /  24564MiB |      4%      Default |\n",
      "|                                         |                        |                  N/A |\n",
      "+-----------------------------------------+------------------------+----------------------+\n",
      "                                                                                         \n",
      "+-----------------------------------------------------------------------------------------+\n",
      "| Processes:                                                                              |\n",
      "|  GPU   GI   CI        PID   Type   Process name                              GPU Memory |\n",
      "|        ID   ID                                                               Usage      |\n",
      "|=========================================================================================|\n",
      "|    0   N/A  N/A      2095      G   /usr/lib/xorg/Xorg                              4MiB |\n",
      "|    0   N/A  N/A      2393      G   /usr/lib/xorg/Xorg                              4MiB |\n",
      "|    1   N/A  N/A      2095      G   /usr/lib/xorg/Xorg                              4MiB |\n",
      "|    1   N/A  N/A      2393      G   /usr/lib/xorg/Xorg                              4MiB |\n",
      "|    2   N/A  N/A      2095      G   /usr/lib/xorg/Xorg                              4MiB |\n",
      "|    2   N/A  N/A      2393      G   /usr/lib/xorg/Xorg                              4MiB |\n",
      "|    3   N/A  N/A      2095      G   /usr/lib/xorg/Xorg                            110MiB |\n",
      "|    3   N/A  N/A      2393      G   /usr/lib/xorg/Xorg                            606MiB |\n",
      "|    3   N/A  N/A      2523      G   /usr/bin/gnome-shell                          589MiB |\n",
      "|    3   N/A  N/A      3183      G   ...onEnabled --variations-seed-version        398MiB |\n",
      "+-----------------------------------------------------------------------------------------+\n"
     ]
    }
   ],
   "source": [
    "!nvidia-smi"
   ]
  },
  {
   "cell_type": "code",
   "execution_count": 15,
   "id": "1cde00ff-e471-4a2a-9031-2742b483cd57",
   "metadata": {},
   "outputs": [],
   "source": [
    "llm = OllamaLLM(model=\"llama3.1:70b\", num_gpu=torch.cuda.device_count())"
   ]
  },
  {
   "cell_type": "code",
   "execution_count": 16,
   "id": "0f3cc487-6790-4516-af98-66f71cdb4975",
   "metadata": {},
   "outputs": [],
   "source": [
    "# Define allowed nodes and relationships based on the medical context\n",
    "allowed_nodes = [\"Disease\", \"Cause\", \"Symptom\", \"Complication\", \"Treatment\", \"Medication\", \"Test\", \"Risk Factor\", \"Diagnosis\", \"Side Effect\", \"Procedure\", \"Condition Stage\", \"Disease Type\", \"Imaging Type\"]\n",
    "allowed_relationships = [\"CAUSES\", \"HAS_SYMPTOM\", \"COMPLICATES\", \"TREATED_WITH\", \"DIAGNOSED_BY\", \"HAS_RISK_FACTOR\", \"INDICATES\", \"ASSOCIATED_WITH\", \"CONTRADINDICATED_WITH\"]"
   ]
  },
  {
   "cell_type": "code",
   "execution_count": null,
   "id": "71fd4926-bbb6-48f1-8c0d-f4d349535fb7",
   "metadata": {},
   "outputs": [],
   "source": []
  },
  {
   "cell_type": "code",
   "execution_count": 17,
   "id": "97b0466b-6226-467b-b022-ce3ba52ba3a5",
   "metadata": {},
   "outputs": [],
   "source": [
    "graph_transformer = transformer = LLMGraphTransformer(\n",
    "                                    llm=llm,\n",
    "                                    allowed_nodes=allowed_nodes,\n",
    "                                    allowed_relationships=allowed_relationships,\n",
    "                                    node_properties=False, \n",
    "                                    relationship_properties=False,\n",
    "                                    # prompt=graph_conversion_template\n",
    "                                )"
   ]
  },
  {
   "cell_type": "code",
   "execution_count": null,
   "id": "bbd5f27f-2d6b-48ca-a726-20ac398ced56",
   "metadata": {},
   "outputs": [],
   "source": [
    "graph_documents = graph_transformer.convert_to_graph_documents(data)"
   ]
  },
  {
   "cell_type": "code",
   "execution_count": null,
   "id": "8a33e5de-a509-4080-b469-e9a86522d439",
   "metadata": {},
   "outputs": [],
   "source": []
  },
  {
   "cell_type": "code",
   "execution_count": null,
   "id": "33c25fdd-e98f-4c4e-9d89-bddb62a5de7c",
   "metadata": {},
   "outputs": [],
   "source": [
    "with open('graph_documents.pkl', 'wb') as file:\n",
    "    pickle.dump(graph_documents, file)\n",
    "\n",
    "print(\"Documents saved successfully!\")"
   ]
  },
  {
   "cell_type": "code",
   "execution_count": null,
   "id": "095c65d6-49b0-475c-942d-11b098e24318",
   "metadata": {},
   "outputs": [],
   "source": []
  },
  {
   "cell_type": "code",
   "execution_count": null,
   "id": "29012e86-c7c7-427c-8067-3c54785d7da1",
   "metadata": {},
   "outputs": [],
   "source": [
    "graph.add_graph_documents(\n",
    "    graph_documents,\n",
    "    baseEntityLabel=True,\n",
    "    include_source=True\n",
    ")"
   ]
  },
  {
   "cell_type": "code",
   "execution_count": null,
   "id": "b06f2e76-93bf-42c0-9048-14d233a9950a",
   "metadata": {},
   "outputs": [],
   "source": [
    "                                                                        "
   ]
  },
  {
   "cell_type": "code",
   "execution_count": null,
   "id": "58d53ae2-3a2e-4aca-9f73-08657d242929",
   "metadata": {},
   "outputs": [],
   "source": []
  }
 ],
 "metadata": {
  "kernelspec": {
   "display_name": "Python 3 (ipykernel)",
   "language": "python",
   "name": "python3"
  },
  "language_info": {
   "codemirror_mode": {
    "name": "ipython",
    "version": 3
   },
   "file_extension": ".py",
   "mimetype": "text/x-python",
   "name": "python",
   "nbconvert_exporter": "python",
   "pygments_lexer": "ipython3",
   "version": "3.12.3"
  }
 },
 "nbformat": 4,
 "nbformat_minor": 5
}
