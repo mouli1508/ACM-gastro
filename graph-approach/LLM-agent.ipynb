{
 "cells": [
  {
   "cell_type": "code",
   "execution_count": 68,
   "id": "14d677bb-4f13-4567-8ca3-3487c93c19dd",
   "metadata": {},
   "outputs": [],
   "source": [
    "from langchain_text_splitters import RecursiveCharacterTextSplitter\n",
    "from langchain.embeddings import HuggingFaceEmbeddings\n",
    "from langchain.vectorstores import FAISS\n",
    "from langchain_ollama.llms import OllamaLLM\n",
    "from langchain_core.prompts import ChatPromptTemplate\n",
    "from langchain.chains import RetrievalQA\n",
    "from langchain import hub\n",
    "\n",
    "from langchain.schema.output_parser import StrOutputParser\n",
    "from langchain.prompts import SystemMessagePromptTemplate, HumanMessagePromptTemplate\n",
    "from langchain.prompts import ChatMessagePromptTemplate, PromptTemplate\n",
    "from langchain.schema.runnable import RunnablePassthrough\n",
    "\n",
    "import pickle\n",
    "import os"
   ]
  },
  {
   "cell_type": "code",
   "execution_count": 2,
   "id": "d4bb997e-216e-434b-9984-9acd754679af",
   "metadata": {},
   "outputs": [
    {
     "name": "stdout",
     "output_type": "stream",
     "text": [
      "Documents loaded successfully!\n"
     ]
    }
   ],
   "source": [
    "\n",
    "# Load the cleaned_documents list from the file\n",
    "with open('final_pdf_pages.pkl', 'rb') as file:\n",
    "    docs = pickle.load(file)\n",
    "\n",
    "print(\"Documents loaded successfully!\")\n"
   ]
  },
  {
   "cell_type": "code",
   "execution_count": 3,
   "id": "a7764464-a425-4550-8c4d-96665e5a30ad",
   "metadata": {},
   "outputs": [
    {
     "data": {
      "text/plain": [
       "220"
      ]
     },
     "execution_count": 3,
     "metadata": {},
     "output_type": "execute_result"
    }
   ],
   "source": [
    "len(docs)"
   ]
  },
  {
   "cell_type": "code",
   "execution_count": 6,
   "id": "f9fc5532-5623-4041-a913-e4cdf4e9d27c",
   "metadata": {},
   "outputs": [],
   "source": [
    "text_splitter = RecursiveCharacterTextSplitter(\n",
    "    # Set a really small chunk size, just to show.\n",
    "    separators=['\\n'],\n",
    "    chunk_size=2024,\n",
    "    chunk_overlap=204,\n",
    "    length_function=len,\n",
    ")"
   ]
  },
  {
   "cell_type": "code",
   "execution_count": 7,
   "id": "b293c299-9932-4c1d-8998-6819b20946cf",
   "metadata": {},
   "outputs": [],
   "source": [
    "data = text_splitter.split_documents(docs)"
   ]
  },
  {
   "cell_type": "code",
   "execution_count": 8,
   "id": "56f5833b-8106-4649-b81d-a0fb3cafd99a",
   "metadata": {},
   "outputs": [
    {
     "data": {
      "text/plain": [
       "615"
      ]
     },
     "execution_count": 8,
     "metadata": {},
     "output_type": "execute_result"
    }
   ],
   "source": [
    "len(data)"
   ]
  },
  {
   "cell_type": "code",
   "execution_count": 10,
   "id": "e4de5bc5-6362-4ddc-9adb-97343d998fec",
   "metadata": {},
   "outputs": [
    {
     "name": "stderr",
     "output_type": "stream",
     "text": [
      "/tmp/ipykernel_837770/269612671.py:4: LangChainDeprecationWarning: The class `HuggingFaceEmbeddings` was deprecated in LangChain 0.2.2 and will be removed in 1.0. An updated version of the class exists in the :class:`~langchain-huggingface package and should be used instead. To use it run `pip install -U :class:`~langchain-huggingface` and import as `from :class:`~langchain_huggingface import HuggingFaceEmbeddings``.\n",
      "  embeddings = HuggingFaceEmbeddings(\n",
      "/home/mouli/miniconda3/envs/gastro/lib/python3.12/site-packages/sentence_transformers/cross_encoder/CrossEncoder.py:13: TqdmExperimentalWarning: Using `tqdm.autonotebook.tqdm` in notebook mode. Use `tqdm.tqdm` instead to force console mode (e.g. in jupyter console)\n",
      "  from tqdm.autonotebook import tqdm, trange\n"
     ]
    },
    {
     "data": {
      "application/vnd.jupyter.widget-view+json": {
       "model_id": "c63799d0a1ae432ba3062950cd32dcb3",
       "version_major": 2,
       "version_minor": 0
      },
      "text/plain": [
       "modules.json:   0%|          | 0.00/349 [00:00<?, ?B/s]"
      ]
     },
     "metadata": {},
     "output_type": "display_data"
    },
    {
     "data": {
      "application/vnd.jupyter.widget-view+json": {
       "model_id": "e74f7e90b0944bb9b3d13acb0261e6a1",
       "version_major": 2,
       "version_minor": 0
      },
      "text/plain": [
       "config_sentence_transformers.json:   0%|          | 0.00/116 [00:00<?, ?B/s]"
      ]
     },
     "metadata": {},
     "output_type": "display_data"
    },
    {
     "data": {
      "application/vnd.jupyter.widget-view+json": {
       "model_id": "8b4a69fc5adb4cc19477c4d06acb3fdb",
       "version_major": 2,
       "version_minor": 0
      },
      "text/plain": [
       "README.md:   0%|          | 0.00/10.6k [00:00<?, ?B/s]"
      ]
     },
     "metadata": {},
     "output_type": "display_data"
    },
    {
     "data": {
      "application/vnd.jupyter.widget-view+json": {
       "model_id": "e8b97d70e7a24b3191ce202ecef931e6",
       "version_major": 2,
       "version_minor": 0
      },
      "text/plain": [
       "sentence_bert_config.json:   0%|          | 0.00/53.0 [00:00<?, ?B/s]"
      ]
     },
     "metadata": {},
     "output_type": "display_data"
    },
    {
     "data": {
      "application/vnd.jupyter.widget-view+json": {
       "model_id": "2de077be207c4ba19b25aa0b919e61cf",
       "version_major": 2,
       "version_minor": 0
      },
      "text/plain": [
       "config.json:   0%|          | 0.00/571 [00:00<?, ?B/s]"
      ]
     },
     "metadata": {},
     "output_type": "display_data"
    },
    {
     "data": {
      "application/vnd.jupyter.widget-view+json": {
       "model_id": "33e7f4b8ba794061b0943193c92caba9",
       "version_major": 2,
       "version_minor": 0
      },
      "text/plain": [
       "model.safetensors:   0%|          | 0.00/438M [00:00<?, ?B/s]"
      ]
     },
     "metadata": {},
     "output_type": "display_data"
    },
    {
     "data": {
      "application/vnd.jupyter.widget-view+json": {
       "model_id": "0c4f721f9690451299b1f4b7ca738e34",
       "version_major": 2,
       "version_minor": 0
      },
      "text/plain": [
       "tokenizer_config.json:   0%|          | 0.00/363 [00:00<?, ?B/s]"
      ]
     },
     "metadata": {},
     "output_type": "display_data"
    },
    {
     "data": {
      "application/vnd.jupyter.widget-view+json": {
       "model_id": "d149df5c248b4ca6964a16bfbed8e717",
       "version_major": 2,
       "version_minor": 0
      },
      "text/plain": [
       "vocab.txt:   0%|          | 0.00/232k [00:00<?, ?B/s]"
      ]
     },
     "metadata": {},
     "output_type": "display_data"
    },
    {
     "data": {
      "application/vnd.jupyter.widget-view+json": {
       "model_id": "48a7707ff4a641ce9eac00373d0e8b87",
       "version_major": 2,
       "version_minor": 0
      },
      "text/plain": [
       "tokenizer.json:   0%|          | 0.00/466k [00:00<?, ?B/s]"
      ]
     },
     "metadata": {},
     "output_type": "display_data"
    },
    {
     "data": {
      "application/vnd.jupyter.widget-view+json": {
       "model_id": "19546046700943c2bc6ff95c807ae7cd",
       "version_major": 2,
       "version_minor": 0
      },
      "text/plain": [
       "special_tokens_map.json:   0%|          | 0.00/239 [00:00<?, ?B/s]"
      ]
     },
     "metadata": {},
     "output_type": "display_data"
    },
    {
     "data": {
      "application/vnd.jupyter.widget-view+json": {
       "model_id": "b974099af06841e0879f965d1f41c53c",
       "version_major": 2,
       "version_minor": 0
      },
      "text/plain": [
       "1_Pooling/config.json:   0%|          | 0.00/190 [00:00<?, ?B/s]"
      ]
     },
     "metadata": {},
     "output_type": "display_data"
    }
   ],
   "source": [
    "#loading the embedding model from huggingface\n",
    "embedding_model_name = \"sentence-transformers/all-mpnet-base-v2\"\n",
    "model_kwargs = {\"device\": \"cuda\"}\n",
    "embeddings = HuggingFaceEmbeddings(\n",
    "  model_name=embedding_model_name,\n",
    "  model_kwargs=model_kwargs\n",
    ")"
   ]
  },
  {
   "cell_type": "code",
   "execution_count": 15,
   "id": "7abeee9b-75fa-4ad9-89f8-9546183c0542",
   "metadata": {},
   "outputs": [],
   "source": [
    "#loading the data and correspond embedding into the FAISS\n",
    "vectorstore = FAISS.from_documents(docs, embeddings)"
   ]
  },
  {
   "cell_type": "code",
   "execution_count": 16,
   "id": "20c0229a-5598-4a01-99fb-51cf63c05f48",
   "metadata": {},
   "outputs": [],
   "source": [
    "vectorstore.save_local(\"faiss_index_\")"
   ]
  },
  {
   "cell_type": "code",
   "execution_count": 17,
   "id": "ebc6aad7-468a-4f63-a086-1d06948afe88",
   "metadata": {},
   "outputs": [],
   "source": [
    "# Load from local storage\n",
    "persisted_vectorstore = FAISS.load_local(\"faiss_index_\", embeddings,allow_dangerous_deserialization=True)"
   ]
  },
  {
   "cell_type": "code",
   "execution_count": 18,
   "id": "b5f077aa-330b-4dc4-ae02-8a26f3e1fbb7",
   "metadata": {},
   "outputs": [],
   "source": [
    "#creating a retriever on top of database\n",
    "retriever = persisted_vectorstore.as_retriever()"
   ]
  },
  {
   "cell_type": "code",
   "execution_count": null,
   "id": "2813cb47-3bb5-4408-843e-b0a8a0df224a",
   "metadata": {},
   "outputs": [],
   "source": []
  },
  {
   "cell_type": "code",
   "execution_count": 48,
   "id": "bb02127b-aa18-4b2e-a40d-dbdc43afe7bd",
   "metadata": {},
   "outputs": [
    {
     "name": "stdout",
     "output_type": "stream",
     "text": [
      "Here are 7 variations that cover different aspects of diagnosing gastric ulcers:\n",
      "\n",
      "1. \"What tests are used to confirm the presence of a stomach ulcer?\"\n",
      "2. \"How does a doctor determine if a patient has a gastric ulcer?\"\n",
      "3. \"Can an endoscopy be used to diagnose all types of gastric ulcers, or are there other methods more effective for certain cases?\"\n",
      "4. \"In what ways can symptom severity influence the need for further testing or treatment when diagnosing a gastric ulcer?\"\n",
      "5. \"What imaging studies and procedures are typically involved in diagnosing gastric ulcers?\"\n",
      "6. \"How does a patient's medical history impact the diagnosis of a stomach ulcer?\"\n",
      "7. \"Can a patient be diagnosed with a gastric ulcer based solely on symptoms, or do they need to undergo further testing?\"\n",
      "\n",
      "These variations maintain the original intent of the question while changing the phrasing, structure, and tone to create a diverse set of queries.\n"
     ]
    }
   ],
   "source": [
    "template = \"\"\"\n",
    "        Task: You are an assistant that generates multiple variations of a given question. \n",
    "        For each variation, maintain the original intent of the question, but change the phrasing, structure, \n",
    "        or tone to create a diverse set of queries.\n",
    "\n",
    "Generate 5-7 variations that cover:\n",
    "\n",
    "Synonym replacements while keeping the question concise.\n",
    "Alternative structures, such as rephrasing into \"why,\" \"how,\" or \"what\" forms if relevant.\n",
    "Casual and formal tones.\n",
    "Slightly more specific or broader wording.\n",
    "Examples:\n",
    "\n",
    "Original Question: \"What is the impact of inflation on the stock market?\"\n",
    "Variations:\n",
    "\"How does inflation affect stock prices?\"\n",
    "\"What are the effects of inflation on the stock market?\"\n",
    "\"In what ways does inflation influence stock market trends?\"\n",
    "\"Could inflation lead to changes in stock market values?\"\n",
    "\"How does rising inflation impact the performance of stocks?\"\n",
    "\"What influence does inflation have on market prices?\"\n",
    "\"What happens to stock prices when inflation increases?\"\n",
    "\n",
    "the final answer should be a python list: [\n",
    "    \"What tests can be used to detect stomach ulcers?\",\n",
    "    \"Why are endoscopies commonly used in gastric ulcer diagnosis?\",\n",
    "    \"How do doctors figure out if someone has a stomach ulcer?\",\n",
    "    \"Can an upper endoscopy be used to diagnose all types of gastric ulcers, or are there other methods more effective for certain cases?\",\n",
    "    \"What tests and procedures are typically involved in diagnosing gastric ulcers, including acid reflux disease?\",\n",
    "    \"How can a patient determine if they have been diagnosed with a stomach ulcer based on symptoms, test results, or imaging studies?\",\n",
    "    \"When considering the diagnosis of a gastric ulcer, what role does symptom severity play in determining the need for further testing or treatment?\"\n",
    "]\n",
    "\n",
    "Now generate the list of variations for the given question: {question}\n",
    "\n",
    "        Answer:\n",
    "        \"\"\"\n",
    "\n",
    "prompt = ChatPromptTemplate.from_template(template)\n",
    "\n",
    "# model = OllamaLLM(model=\"llama3.2\")\n",
    "\n",
    "chain = prompt | model\n",
    "\n",
    "print(chain.invoke({\"question\": \"How is a gastric ulcer diagnosed?\"}))"
   ]
  },
  {
   "cell_type": "code",
   "execution_count": 51,
   "id": "3ddd007a-a853-4b76-9250-d046091695a2",
   "metadata": {},
   "outputs": [],
   "source": [
    "fusion_template = \"\"\"\n",
    "        Task: You are an assistant that generates multiple variations of a given question. \n",
    "        For each variation, maintain the original intent of the question, but change the phrasing, structure, \n",
    "        or tone to create a diverse set of queries.\n",
    "\n",
    "Generate 5-7 variations that cover:\n",
    "\n",
    "Synonym replacements while keeping the question concise.\n",
    "Alternative structures, such as rephrasing into \"why,\" \"how,\" or \"what\" forms if relevant.\n",
    "Casual and formal tones.\n",
    "Slightly more specific or broader wording.\n",
    "Examples:\n",
    "\n",
    "Original Question: \"What is the impact of inflation on the stock market?\"\n",
    "Variations:\n",
    "\"How does inflation affect stock prices?\"\n",
    "\"What are the effects of inflation on the stock market?\"\n",
    "\"In what ways does inflation influence stock market trends?\"\n",
    "\"Could inflation lead to changes in stock market values?\"\n",
    "\"How does rising inflation impact the performance of stocks?\"\n",
    "\"What influence does inflation have on market prices?\"\n",
    "\"What happens to stock prices when inflation increases?\"\n",
    "\n",
    "the final answer should be a python list: [\n",
    "    \"What tests can be used to detect stomach ulcers?\",\n",
    "    \"Why are endoscopies commonly used in gastric ulcer diagnosis?\",\n",
    "    \"How do doctors figure out if someone has a stomach ulcer?\",\n",
    "    \"Can an upper endoscopy be used to diagnose all types of gastric ulcers, or are there other methods more effective for certain cases?\",\n",
    "    \"What tests and procedures are typically involved in diagnosing gastric ulcers, including acid reflux disease?\",\n",
    "    \"How can a patient determine if they have been diagnosed with a stomach ulcer based on symptoms, test results, or imaging studies?\",\n",
    "    \"When considering the diagnosis of a gastric ulcer, what role does symptom severity play in determining the need for further testing or treatment?\"\n",
    "]\n",
    "\n",
    "Now generate the list of variations for the given question\n",
    "        \"\"\""
   ]
  },
  {
   "cell_type": "code",
   "execution_count": 52,
   "id": "d40cc6a7-daca-4a94-8ba2-7d2bfb266571",
   "metadata": {},
   "outputs": [],
   "source": [
    "prompt = ChatPromptTemplate(input_variables=['original_query'],\n",
    "                            messages=[SystemMessagePromptTemplate(prompt=PromptTemplate(input_variables=[],template=fusion_template)),\n",
    "                            HumanMessagePromptTemplate(prompt=PromptTemplate(input_variables=['original_query'], template='Generate multiple search queries related to: {question} \\n OUTPUT (7 queries):'))])\n",
    "     "
   ]
  },
  {
   "cell_type": "code",
   "execution_count": 53,
   "id": "fa3dbba9-7a25-4144-8f13-dc80ab70ae42",
   "metadata": {},
   "outputs": [],
   "source": [
    "original_query = \"How is a gastric ulcer diagnosed?\""
   ]
  },
  {
   "cell_type": "code",
   "execution_count": 54,
   "id": "9da0000a-4e22-43f3-b658-40f88bfda8c3",
   "metadata": {},
   "outputs": [],
   "source": [
    "generate_queries = (\n",
    "    prompt | model | StrOutputParser() | (lambda x: x.split(\"\\n\"))\n",
    ")"
   ]
  },
  {
   "cell_type": "code",
   "execution_count": 61,
   "id": "1ae15591-b6d5-41a3-a43c-0d71620f3e2a",
   "metadata": {},
   "outputs": [
    {
     "name": "stdout",
     "output_type": "stream",
     "text": [
      "first=ChatPromptTemplate(input_variables=['question'], input_types={}, partial_variables={}, messages=[SystemMessagePromptTemplate(prompt=PromptTemplate(input_variables=[], input_types={}, partial_variables={}, template='\\n        Task: You are an assistant that generates multiple variations of a given question. \\n        For each variation, maintain the original intent of the question, but change the phrasing, structure, \\n        or tone to create a diverse set of queries.\\n\\nGenerate 5-7 variations that cover:\\n\\nSynonym replacements while keeping the question concise.\\nAlternative structures, such as rephrasing into \"why,\" \"how,\" or \"what\" forms if relevant.\\nCasual and formal tones.\\nSlightly more specific or broader wording.\\nExamples:\\n\\nOriginal Question: \"What is the impact of inflation on the stock market?\"\\nVariations:\\n\"How does inflation affect stock prices?\"\\n\"What are the effects of inflation on the stock market?\"\\n\"In what ways does inflation influence stock market trends?\"\\n\"Could inflation lead to changes in stock market values?\"\\n\"How does rising inflation impact the performance of stocks?\"\\n\"What influence does inflation have on market prices?\"\\n\"What happens to stock prices when inflation increases?\"\\n\\nthe final answer should be a python list: [\\n    \"What tests can be used to detect stomach ulcers?\",\\n    \"Why are endoscopies commonly used in gastric ulcer diagnosis?\",\\n    \"How do doctors figure out if someone has a stomach ulcer?\",\\n    \"Can an upper endoscopy be used to diagnose all types of gastric ulcers, or are there other methods more effective for certain cases?\",\\n    \"What tests and procedures are typically involved in diagnosing gastric ulcers, including acid reflux disease?\",\\n    \"How can a patient determine if they have been diagnosed with a stomach ulcer based on symptoms, test results, or imaging studies?\",\\n    \"When considering the diagnosis of a gastric ulcer, what role does symptom severity play in determining the need for further testing or treatment?\"\\n]\\n\\nNow generate the list of variations for the given question\\n        '), additional_kwargs={}), HumanMessagePromptTemplate(prompt=PromptTemplate(input_variables=['question'], input_types={}, partial_variables={}, template='Generate multiple search queries related to: {question} \\n OUTPUT (7 queries):'), additional_kwargs={})]) middle=[OllamaLLM(model='llama3.2'), StrOutputParser()] last=RunnableLambda(lambda x: x.split('\\n'))\n"
     ]
    }
   ],
   "source": [
    "print(generate_queries)"
   ]
  },
  {
   "cell_type": "code",
   "execution_count": 62,
   "id": "1a229191-bf56-4501-bea6-ee213eb03543",
   "metadata": {},
   "outputs": [],
   "source": [
    "from langchain.load import dumps, loads\n",
    "\n",
    "\n",
    "def reciprocal_rank_fusion(results: list[list], k=60):\n",
    "    fused_scores = {}\n",
    "    for docs in results:\n",
    "        # Assumes the docs are returned in sorted order of relevance\n",
    "        for rank, doc in enumerate(docs):\n",
    "            doc_str = dumps(doc)\n",
    "            if doc_str not in fused_scores:\n",
    "                fused_scores[doc_str] = 0\n",
    "            previous_score = fused_scores[doc_str]\n",
    "            fused_scores[doc_str] += 1 / (rank + k)\n",
    "\n",
    "    reranked_results = [\n",
    "        (loads(doc), score)\n",
    "        for doc, score in sorted(fused_scores.items(), key=lambda x: x[1], reverse=True)\n",
    "    ]\n",
    "    return reranked_results"
   ]
  },
  {
   "cell_type": "code",
   "execution_count": 63,
   "id": "6d462121-ff74-49d5-8da4-86ce72f9a141",
   "metadata": {},
   "outputs": [],
   "source": [
    "ragfusion_chain = generate_queries | retriever.map() | reciprocal_rank_fusion"
   ]
  },
  {
   "cell_type": "code",
   "execution_count": 65,
   "id": "be3decf0-3d77-4f96-805a-aa977462d4a9",
   "metadata": {},
   "outputs": [],
   "source": [
    "import langchain\n",
    "langchain.debug = True"
   ]
  },
  {
   "cell_type": "code",
   "execution_count": 66,
   "id": "57c86ea8-ab58-40db-9243-84695ac8873d",
   "metadata": {},
   "outputs": [
    {
     "data": {
      "text/plain": [
       "{'properties': {'question': {'title': 'Question', 'type': 'string'}},\n",
       " 'required': ['question'],\n",
       " 'title': 'PromptInput',\n",
       " 'type': 'object'}"
      ]
     },
     "execution_count": 66,
     "metadata": {},
     "output_type": "execute_result"
    }
   ],
   "source": [
    "\n",
    "ragfusion_chain.input_schema.schema()"
   ]
  },
  {
   "cell_type": "code",
   "execution_count": null,
   "id": "08fc1ad8-8ab1-482a-ab9e-749095ea7d90",
   "metadata": {},
   "outputs": [],
   "source": [
    "ragfusion_chain.invoke({\"question\": original_query})"
   ]
  },
  {
   "cell_type": "code",
   "execution_count": 86,
   "id": "79d83588-eb84-49ec-b6e1-c6a2ea564423",
   "metadata": {},
   "outputs": [],
   "source": [
    "template = \"\"\"Answer the question based only on the following context:\n",
    "{context}\n",
    "\n",
    "Question: {question}\n",
    "\"\"\"\n",
    "prompt = ChatPromptTemplate.from_template(template)\n",
    "\n",
    "full_rag_fusion_chain = (\n",
    "    {\n",
    "        \"context\": ragfusion_chain,\n",
    "        \"question\": RunnablePassthrough()\n",
    "    }\n",
    "    | prompt\n",
    "    | model\n",
    "    | StrOutputParser()\n",
    ")"
   ]
  },
  {
   "cell_type": "code",
   "execution_count": 87,
   "id": "70414b26-c1b1-4483-9fa6-79fcec52c2d4",
   "metadata": {},
   "outputs": [
    {
     "data": {
      "text/plain": [
       "{'properties': {'question': {'title': 'Question', 'type': 'string'},\n",
       "  'root': {'title': 'Root'}},\n",
       " 'required': ['question', 'root'],\n",
       " 'title': 'RunnableParallel<context,question>Input',\n",
       " 'type': 'object'}"
      ]
     },
     "execution_count": 87,
     "metadata": {},
     "output_type": "execute_result"
    }
   ],
   "source": [
    "full_rag_fusion_chain.input_schema.schema()"
   ]
  },
  {
   "cell_type": "code",
   "execution_count": null,
   "id": "4da8daa3-60b7-4f13-889a-d367cceab5ce",
   "metadata": {},
   "outputs": [],
   "source": [
    "result = full_rag_fusion_chain.invoke({\"question\": \"How long does it typically take for a gastric ulcer to heal?\"})"
   ]
  },
  {
   "cell_type": "code",
   "execution_count": 89,
   "id": "157e7dad-9652-49d9-8623-58f759f7026d",
   "metadata": {},
   "outputs": [
    {
     "name": "stdout",
     "output_type": "stream",
     "text": [
      "The question is not directly answered in the provided text, but I can provide some general information on the healing time of gastric ulcers.\n",
      "\n",
      "The healing time for a gastric ulcer can vary depending on several factors, such as the size and location of the ulcer, the effectiveness of treatment, and the individual's overall health.\n",
      "\n",
      "Typically, with proper treatment, including medication to reduce acid production (e.g., proton pump inhibitors) and possibly surgery in some cases, it can take several weeks to several months for a gastric ulcer to heal.\n",
      "\n",
      "Here are some general guidelines:\n",
      "\n",
      "* Small ulcers: 2-6 weeks to heal\n",
      "* Medium-sized ulcers: 4-12 weeks to heal\n",
      "* Large ulcers: 8-20 weeks or more to heal\n",
      "\n",
      "It's essential to note that everyone's healing process is different, and the time it takes for an ulcer to heal can vary significantly. Regular follow-up with a healthcare provider is crucial to monitor progress and adjust treatment as needed.\n",
      "\n",
      "The provided text does not offer a specific timeline for gastric ulcer healing, but it discusses the management of bleeding ulcers and the importance of prophylaxis to prevent rebleeding and complications.\n"
     ]
    }
   ],
   "source": [
    "print(result)"
   ]
  },
  {
   "cell_type": "code",
   "execution_count": null,
   "id": "3b2ac7d8-2527-4ba1-9ce9-1775f61a9f49",
   "metadata": {},
   "outputs": [],
   "source": []
  },
  {
   "cell_type": "code",
   "execution_count": null,
   "id": "5f586002-0258-4472-ab17-31644dffc659",
   "metadata": {},
   "outputs": [],
   "source": []
  },
  {
   "cell_type": "code",
   "execution_count": null,
   "id": "ae3c2f5c-e5ed-44a6-8f3f-02751d304872",
   "metadata": {},
   "outputs": [],
   "source": []
  }
 ],
 "metadata": {
  "kernelspec": {
   "display_name": "Python 3 (ipykernel)",
   "language": "python",
   "name": "python3"
  },
  "language_info": {
   "codemirror_mode": {
    "name": "ipython",
    "version": 3
   },
   "file_extension": ".py",
   "mimetype": "text/x-python",
   "name": "python",
   "nbconvert_exporter": "python",
   "pygments_lexer": "ipython3",
   "version": "3.12.3"
  }
 },
 "nbformat": 4,
 "nbformat_minor": 5
}
