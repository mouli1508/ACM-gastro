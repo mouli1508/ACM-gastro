{
 "cells": [
  {
   "cell_type": "code",
   "execution_count": 13,
   "metadata": {},
   "outputs": [],
   "source": [
    "import json\n",
    "\n",
    "# Assuming you have a Document class\n",
    "class Document:\n",
    "    def __init__(self, metadata, page_content):\n",
    "        self.metadata = metadata\n",
    "        self.page_content = page_content\n",
    "\n",
    "    def __repr__(self):\n",
    "        # Customize the representation to match the output format you want\n",
    "        return f\"Document(metadata={self.metadata}, page_content={self.page_content})\"\n",
    "\n",
    "# Function to read the JSON file and load it as a list of Document objects\n",
    "def load_documents_from_json(filename='documents.json'):\n",
    "    with open(filename, 'r') as f:\n",
    "        document_dicts = json.load(f)\n",
    "    \n",
    "    # Convert each dictionary back into a Document object\n",
    "    document_list = [Document(d['metadata'], d['page_content']) for d in document_dicts]\n",
    "    return document_list\n",
    "\n",
    "# Example usage\n",
    "loaded_data = load_documents_from_json()\n",
    "\n",
    "# Now you can access the loaded Document objects\n",
    "# for doc in loaded_data:\n",
    "    # print(doc.metadata)\n",
    "    # print(doc.page_content[:100])  # Print first 100 characters of page content\n"
   ]
  },
  {
   "cell_type": "code",
   "execution_count": 18,
   "metadata": {},
   "outputs": [
    {
     "data": {
      "text/plain": [
       "'806Peptic Ulcer DiseaseFrancis K.L. Chan, James Y.W. Lau53An ulcer in the GI tract can be defined as a 5 mm or larger break in the lining of the mucosa, with appreciable depth at endoscopy or with histologic evidence of submucosal extension. An erosion is a break less than 5 mm. The distinction between an ulcer and an ero\\xadsion is somewhat arbitrary. The term PUD is used to include ulcer\\xadations and erosions in the stomach and duodenum from a number of causes. These lesions are called “peptic” because the enzyme pepsin, proteolytic at an acidic pH (see Chapter 51), plays a major role in causing the mucosal breaks, regardless of the inciting agent.Decades of research focused on the role of gastric acid secretion and the effects of stress, personality type, and genetics in the pathogenesis of PUD. The discovery of the histamine-2 (H2) receptor and development of H2RAs,1 and subsequently PPIs, led to major changes in the management of PUD. The discovery of Hp and its role in PUD (see Chap\\xadter 52) transformed PUD from a chronic, recurrent disease to a curable one.2 Hp infection remains an important cause of PUD in the world. In developed countries, frequent use of NSAIDs, including low-dose aspirin for cardiovascular indi\\xadcations, has emerged as a leading cause of PUD, especially among the aging population.EPIDEMIOLOGYThe epidemiology of PUD has undergone remarkable changes in the past 2 centuries. The risk of developing PUD, and dying from PUD, increased in successive cohorts born between 1840 and 1890, and then declined thereafter.3 There was a peak in the inci\\xaddence of GU in the first half of the 19th century and a subsequent peak in the incidence of DU in the second half of the 19th century. Sonnenberg proposed a birth-cohort effect to explain the peaks in the incidence of, and mortality from, peptic ulcers. Hp infection acquired during childhood or adolescence became manifested as peptic diseases in later years. As Hp infection gradually declined in'"
      ]
     },
     "execution_count": 18,
     "metadata": {},
     "output_type": "execute_result"
    }
   ],
   "source": [
    "loaded_data[0].page_content"
   ]
  },
  {
   "cell_type": "code",
   "execution_count": 19,
   "metadata": {},
   "outputs": [
    {
     "data": {
      "text/plain": [
       "{'source': 'Gastrointestinal and Liver Disease.pdf',\n",
       " 'file_path': 'Gastrointestinal and Liver Disease.pdf',\n",
       " 'page': 0,\n",
       " 'total_pages': 272,\n",
       " 'format': 'PDF 1.7',\n",
       " 'title': 'Management of Nonvariceal Upper Gastrointestinal Bleeding: Guideline Recommendations From the International Consensus Group',\n",
       " 'author': 'Alan N.\\xa0Barkun, Majid\\xa0Almadi, Ernst J.\\xa0Kuipers, Loren\\xa0Laine, Joseph\\xa0Sung, Frances\\xa0Tse, Grigorios I.\\xa0Leontiadis, Neena S.\\xa0Abraham, Xavier\\xa0Calvet, Francis K.L.\\xa0Chan, James\\xa0Douketis, Robert\\xa0Enns, Ian M.\\xa0Gralnek, Vipul\\xa0Jairath, Dennis\\xa0Jensen, James\\xa0Lau, Gregory Y.H.\\xa0Lip, Romaric\\xa0Loffroy, Fauze\\xa0Maluf-Filho, Andrew C.\\xa0Meltzer, Nageshwar\\xa0Reddy, John R.\\xa0Saltzman, John K.\\xa0Marshall, and Marc\\xa0Bardou',\n",
       " 'subject': 'Ann Intern Med 2019.171:805-822',\n",
       " 'keywords': '',\n",
       " 'creator': 'XPP',\n",
       " 'producer': 'Adobe LiveCycle PDF Generator; modified using iText 4.2.0 by 1T3XT',\n",
       " 'creationDate': '13th September 2020',\n",
       " 'modDate': 'D:20240611221533Z',\n",
       " 'trapped': ''}"
      ]
     },
     "execution_count": 19,
     "metadata": {},
     "output_type": "execute_result"
    }
   ],
   "source": [
    "loaded_data[0].metadata"
   ]
  },
  {
   "cell_type": "code",
   "execution_count": 27,
   "metadata": {},
   "outputs": [],
   "source": [
    "import re\n",
    "\n",
    "# Function to remove non-printable characters\n",
    "def clean_text(text):\n",
    "    # Use regex to remove any non-printable characters (including \\xad)\n",
    "    return re.sub(r'[^\\x20-\\x7E]', '', text)\n",
    "\n",
    "# Function to clean the metadata by removing non-printable characters in string values\n",
    "def clean_metadata(metadata):\n",
    "    cleaned_metadata = {}\n",
    "    for key, value in metadata.items():\n",
    "        if isinstance(value, str):\n",
    "            # Clean string values in metadata\n",
    "            cleaned_metadata[key] = clean_text(value)\n",
    "        else:\n",
    "            # Keep non-string values as they are\n",
    "            cleaned_metadata[key] = value\n",
    "    return cleaned_metadata\n",
    "\n",
    "# Process the list of Document objects\n",
    "cleaned_documents = []\n",
    "\n",
    "for doc in loaded_data:\n",
    "    # Clean the page_content by removing non-printable characters\n",
    "    cleaned_content = clean_text(doc.page_content)\n",
    "    \n",
    "    # Clean the metadata by removing non-printable characters in string values\n",
    "    cleaned_meta = clean_metadata(doc.metadata)\n",
    "    \n",
    "    # Create a new Document object with cleaned content and cleaned metadata\n",
    "    cleaned_document = Document(metadata=cleaned_meta, page_content=cleaned_content)\n",
    "    \n",
    "    # Append the cleaned document to the new list\n",
    "    cleaned_documents.append(cleaned_document)\n",
    "\n",
    "# Now cleaned_documents contains documents with cleaned metadata and page_content"
   ]
  },
  {
   "cell_type": "code",
   "execution_count": 28,
   "metadata": {},
   "outputs": [
    {
     "data": {
      "text/plain": [
       "'806Peptic Ulcer DiseaseFrancis K.L. Chan, James Y.W. Lau53An ulcer in the GI tract can be defined as a 5 mm or larger break in the lining of the mucosa, with appreciable depth at endoscopy or with histologic evidence of submucosal extension. An erosion is a break less than 5 mm. The distinction between an ulcer and an erosion is somewhat arbitrary. The term PUD is used to include ulcerations and erosions in the stomach and duodenum from a number of causes. These lesions are called peptic because the enzyme pepsin, proteolytic at an acidic pH (see Chapter 51), plays a major role in causing the mucosal breaks, regardless of the inciting agent.Decades of research focused on the role of gastric acid secretion and the effects of stress, personality type, and genetics in the pathogenesis of PUD. The discovery of the histamine-2 (H2) receptor and development of H2RAs,1 and subsequently PPIs, led to major changes in the management of PUD. The discovery of Hp and its role in PUD (see Chapter 52) transformed PUD from a chronic, recurrent disease to a curable one.2 Hp infection remains an important cause of PUD in the world. In developed countries, frequent use of NSAIDs, including low-dose aspirin for cardiovascular indications, has emerged as a leading cause of PUD, especially among the aging population.EPIDEMIOLOGYThe epidemiology of PUD has undergone remarkable changes in the past 2 centuries. The risk of developing PUD, and dying from PUD, increased in successive cohorts born between 1840 and 1890, and then declined thereafter.3 There was a peak in the incidence of GU in the first half of the 19th century and a subsequent peak in the incidence of DU in the second half of the 19th century. Sonnenberg proposed a birth-cohort effect to explain the peaks in the incidence of, and mortality from, peptic ulcers. Hp infection acquired during childhood or adolescence became manifested as peptic diseases in later years. As Hp infection gradually declined in'"
      ]
     },
     "execution_count": 28,
     "metadata": {},
     "output_type": "execute_result"
    }
   ],
   "source": [
    "cleaned_documents[0].page_content"
   ]
  },
  {
   "cell_type": "code",
   "execution_count": 32,
   "metadata": {},
   "outputs": [
    {
     "data": {
      "text/plain": [
       "{'source': 'Gastrointestinal and Liver Disease.pdf',\n",
       " 'file_path': 'Gastrointestinal and Liver Disease.pdf',\n",
       " 'page': 0,\n",
       " 'total_pages': 272,\n",
       " 'format': 'PDF 1.7',\n",
       " 'title': 'Management of Nonvariceal Upper Gastrointestinal Bleeding: Guideline Recommendations From the International Consensus Group',\n",
       " 'author': 'Alan N.Barkun, MajidAlmadi, Ernst J.Kuipers, LorenLaine, JosephSung, FrancesTse, Grigorios I.Leontiadis, Neena S.Abraham, XavierCalvet, Francis K.L.Chan, JamesDouketis, RobertEnns, Ian M.Gralnek, VipulJairath, DennisJensen, JamesLau, Gregory Y.H.Lip, RomaricLoffroy, FauzeMaluf-Filho, Andrew C.Meltzer, NageshwarReddy, John R.Saltzman, John K.Marshall, and MarcBardou',\n",
       " 'subject': 'Ann Intern Med 2019.171:805-822',\n",
       " 'keywords': '',\n",
       " 'creator': 'XPP',\n",
       " 'producer': 'Adobe LiveCycle PDF Generator; modified using iText 4.2.0 by 1T3XT',\n",
       " 'creationDate': '13th September 2020',\n",
       " 'modDate': 'D:20240611221533Z',\n",
       " 'trapped': ''}"
      ]
     },
     "execution_count": 32,
     "metadata": {},
     "output_type": "execute_result"
    }
   ],
   "source": [
    "cleaned_documents[0].metadata"
   ]
  },
  {
   "cell_type": "code",
   "execution_count": 33,
   "metadata": {},
   "outputs": [],
   "source": [
    "import json\n",
    "\n",
    "# Assuming Document class has 'metadata' and 'page_content' attributes\n",
    "# Define a function to convert the Document object into a dictionary\n",
    "def document_to_dict(doc):\n",
    "    return {\n",
    "        'metadata': doc.metadata,   # assuming doc.metadata is already a dictionary\n",
    "        'page_content': doc.page_content  # assuming doc.page_content is a string\n",
    "    }\n",
    "\n",
    "# Function to save list of Document objects to JSON\n",
    "def save_documents_to_json(document_list, filename='cleaned_documents.json'):\n",
    "    # Convert the list of Document objects to a list of dictionaries\n",
    "    document_dicts = [document_to_dict(doc) for doc in document_list]\n",
    "    \n",
    "    # Write the list of dictionaries to a JSON file\n",
    "    with open(filename, 'w') as f:\n",
    "        json.dump(document_dicts, f, indent=4)\n",
    "\n",
    "# Example usage with your data list\n",
    "# Assuming 'data' is a list of Document objects\n",
    "save_documents_to_json(cleaned_documents)"
   ]
  },
  {
   "cell_type": "code",
   "execution_count": 34,
   "metadata": {},
   "outputs": [],
   "source": [
    "import json\n",
    "\n",
    "# Assuming you have a Document class\n",
    "class Document:\n",
    "    def __init__(self, metadata, page_content):\n",
    "        self.metadata = metadata\n",
    "        self.page_content = page_content\n",
    "\n",
    "    def __repr__(self):\n",
    "        # Customize the representation to match the output format you want\n",
    "        return f\"Document(metadata={self.metadata}, page_content={self.page_content})\"\n",
    "\n",
    "# Function to read the JSON file and load it as a list of Document objects\n",
    "def load_documents_from_json(filename='cleaned_documents.json'):\n",
    "    with open(filename, 'r') as f:\n",
    "        document_dicts = json.load(f)\n",
    "    \n",
    "    # Convert each dictionary back into a Document object\n",
    "    document_list = [Document(d['metadata'], d['page_content']) for d in document_dicts]\n",
    "    return document_list\n",
    "\n",
    "# Example usage\n",
    "test_load_data = load_documents_from_json()\n",
    "\n",
    "# Now you can access the loaded Document objects\n",
    "# for doc in loaded_data:\n",
    "    # print(doc.metadata)\n",
    "    # print(doc.page_content[:100])  # Print first 100 characters of page content\n"
   ]
  },
  {
   "cell_type": "code",
   "execution_count": null,
   "metadata": {},
   "outputs": [],
   "source": []
  },
  {
   "cell_type": "code",
   "execution_count": 41,
   "metadata": {},
   "outputs": [
    {
     "data": {
      "text/plain": [
       "langchain_core.documents.base.Document"
      ]
     },
     "execution_count": 41,
     "metadata": {},
     "output_type": "execute_result"
    }
   ],
   "source": [
    "type(raw_documents[0])"
   ]
  },
  {
   "cell_type": "code",
   "execution_count": 43,
   "metadata": {},
   "outputs": [
    {
     "data": {
      "text/plain": [
       "__main__.Document"
      ]
     },
     "execution_count": 43,
     "metadata": {},
     "output_type": "execute_result"
    }
   ],
   "source": [
    "type(loaded_data[0])"
   ]
  },
  {
   "cell_type": "code",
   "execution_count": null,
   "metadata": {},
   "outputs": [],
   "source": []
  },
  {
   "cell_type": "code",
   "execution_count": null,
   "metadata": {},
   "outputs": [],
   "source": []
  },
  {
   "cell_type": "code",
   "execution_count": null,
   "metadata": {},
   "outputs": [],
   "source": []
  },
  {
   "cell_type": "code",
   "execution_count": null,
   "metadata": {},
   "outputs": [],
   "source": []
  },
  {
   "cell_type": "code",
   "execution_count": null,
   "metadata": {},
   "outputs": [],
   "source": []
  },
  {
   "cell_type": "code",
   "execution_count": null,
   "metadata": {},
   "outputs": [],
   "source": []
  },
  {
   "cell_type": "code",
   "execution_count": null,
   "metadata": {},
   "outputs": [],
   "source": []
  },
  {
   "cell_type": "code",
   "execution_count": 44,
   "metadata": {},
   "outputs": [],
   "source": [
    "# Import the Document class from langchain\n",
    "from langchain_core.documents.base import Document\n",
    "\n",
    "# Function to remove non-printable characters\n",
    "def clean_text(text):\n",
    "    # Use regex to remove any non-printable characters (including \\xad)\n",
    "    return re.sub(r'[^\\x20-\\x7E]', '', text)\n",
    "\n",
    "# Function to clean the metadata by removing non-printable characters in string values\n",
    "def clean_metadata(metadata):\n",
    "    cleaned_metadata = {}\n",
    "    for key, value in metadata.items():\n",
    "        if isinstance(value, str):\n",
    "            # Clean string values in metadata\n",
    "            cleaned_metadata[key] = clean_text(value)\n",
    "        else:\n",
    "            # Keep non-string values as they are\n",
    "            cleaned_metadata[key] = value\n",
    "    return cleaned_metadata\n",
    "\n",
    "# Process the list of __main__.Document objects and convert them to langchain Document objects\n",
    "cleaned_documents = []\n",
    "\n",
    "for doc in loaded_data:\n",
    "    # Clean the page_content by removing non-printable characters\n",
    "    cleaned_content = clean_text(doc.page_content)\n",
    "    \n",
    "    # Clean the metadata by removing non-printable characters in string values\n",
    "    cleaned_meta = clean_metadata(doc.metadata)\n",
    "    \n",
    "    # Create a new langchain Document object with cleaned content and cleaned metadata\n",
    "    cleaned_document = Document(metadata=cleaned_meta, page_content=cleaned_content)\n",
    "    \n",
    "    # Append the cleaned langchain Document object to the new list\n",
    "    cleaned_documents.append(cleaned_document)\n",
    "\n",
    "# Now cleaned_documents contains langchain_core Document objects\n"
   ]
  },
  {
   "cell_type": "code",
   "execution_count": 47,
   "metadata": {},
   "outputs": [
    {
     "data": {
      "text/plain": [
       "langchain_core.documents.base.Document"
      ]
     },
     "execution_count": 47,
     "metadata": {},
     "output_type": "execute_result"
    }
   ],
   "source": [
    "type(cleaned_documents[0])"
   ]
  },
  {
   "cell_type": "code",
   "execution_count": 48,
   "metadata": {},
   "outputs": [
    {
     "name": "stdout",
     "output_type": "stream",
     "text": [
      "Documents saved successfully!\n"
     ]
    }
   ],
   "source": [
    "import pickle\n",
    "\n",
    "# Save the cleaned_documents list to a file\n",
    "with open('cleaned_documents.pkl', 'wb') as file:\n",
    "    pickle.dump(cleaned_documents, file)\n",
    "\n",
    "print(\"Documents saved successfully!\")"
   ]
  },
  {
   "cell_type": "code",
   "execution_count": 49,
   "metadata": {},
   "outputs": [
    {
     "name": "stdout",
     "output_type": "stream",
     "text": [
      "Documents loaded successfully!\n"
     ]
    }
   ],
   "source": [
    "import pickle\n",
    "\n",
    "# Load the cleaned_documents list from the file\n",
    "with open('cleaned_documents.pkl', 'rb') as file:\n",
    "    data = pickle.load(file)\n",
    "\n",
    "print(\"Documents loaded successfully!\")\n"
   ]
  },
  {
   "cell_type": "code",
   "execution_count": 51,
   "metadata": {},
   "outputs": [
    {
     "data": {
      "text/plain": [
       "langchain_core.documents.base.Document"
      ]
     },
     "execution_count": 51,
     "metadata": {},
     "output_type": "execute_result"
    }
   ],
   "source": [
    "type(data[0])"
   ]
  },
  {
   "cell_type": "code",
   "execution_count": null,
   "metadata": {},
   "outputs": [],
   "source": []
  }
 ],
 "metadata": {
  "kernelspec": {
   "display_name": "acm",
   "language": "python",
   "name": "acm"
  },
  "language_info": {
   "codemirror_mode": {
    "name": "ipython",
    "version": 3
   },
   "file_extension": ".py",
   "mimetype": "text/x-python",
   "name": "python",
   "nbconvert_exporter": "python",
   "pygments_lexer": "ipython3",
   "version": "3.10.14"
  }
 },
 "nbformat": 4,
 "nbformat_minor": 4
}
