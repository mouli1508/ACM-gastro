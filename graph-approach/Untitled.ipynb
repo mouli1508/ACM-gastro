{
 "cells": [
  {
   "cell_type": "code",
   "execution_count": 1,
   "id": "84487cb5-625a-46da-a26e-06f37841b225",
   "metadata": {},
   "outputs": [],
   "source": [
    "from langchain_community.document_loaders import PyMuPDFLoader"
   ]
  },
  {
   "cell_type": "code",
   "execution_count": 119,
   "id": "11432cf3-e5f7-48ae-b124-f20059a8f706",
   "metadata": {},
   "outputs": [],
   "source": [
    "loader = PyMuPDFLoader('Gastrointestinal and Liver Disease.pdf')"
   ]
  },
  {
   "cell_type": "code",
   "execution_count": 185,
   "id": "0310a185-e1de-46d4-bc05-8ba0251fad6c",
   "metadata": {},
   "outputs": [],
   "source": [
    "docs = loader.load()\n",
    "temp_docs = loader.load()"
   ]
  },
  {
   "cell_type": "code",
   "execution_count": 186,
   "id": "48cef0d1-c270-45e8-9ab7-19660a3e523f",
   "metadata": {},
   "outputs": [],
   "source": [
    "def remove_pages_from_docs(docs, pages_to_remove):\n",
    "    \"\"\"\n",
    "    Removes specified pages from the extracted documents.\n",
    "\n",
    "    Args:\n",
    "    - docs (list): List of Document objects loaded from the PDF file.\n",
    "    - pages_to_remove (list): List of page numbers (0-indexed) to be removed.\n",
    "\n",
    "    Returns:\n",
    "    - Filtered list of Document objects with the specified pages removed.\n",
    "    \"\"\"\n",
    "    # Filter out the pages based on metadata['page']\n",
    "    filtered_docs = [doc for doc in docs if doc.metadata['page'] not in pages_to_remove]\n",
    "    \n",
    "    return filtered_docs"
   ]
  },
  {
   "cell_type": "code",
   "execution_count": 187,
   "id": "29ace5ae-2af0-4c00-8403-0a847ac21d0f",
   "metadata": {},
   "outputs": [],
   "source": [
    "# Define pages to remove\n",
    "pages_to_remove = [14, 15, 16, 17, 65, 66, 90, 91, 105, 123, 124, 125, 126, 143, 144, 145, 146, 163, 164, 165, 166, 176, 177, 178, 179, 180, 181, 190, 191, 199, 200, 202, 210, 215, 223, 224, 235, 236, 237, 238, 239, 248, 249, 263, 264, 265, 266, 267, 268, 269, 270, 271]  # List of page numbers (0-indexed)\n",
    "\n",
    "# Remove the specified pages from the docs\n",
    "filtered_docs = remove_pages_from_docs(docs, pages_to_remove)"
   ]
  },
  {
   "cell_type": "code",
   "execution_count": 188,
   "id": "0d802e8d-4090-43d3-96f5-05f8f8dff60b",
   "metadata": {},
   "outputs": [
    {
     "data": {
      "text/plain": [
       "220"
      ]
     },
     "execution_count": 188,
     "metadata": {},
     "output_type": "execute_result"
    }
   ],
   "source": [
    "len(filtered_docs)"
   ]
  },
  {
   "cell_type": "code",
   "execution_count": 189,
   "id": "4edb694b-7b70-4983-9dcc-1470f3ce952e",
   "metadata": {},
   "outputs": [
    {
     "data": {
      "text/plain": [
       "272"
      ]
     },
     "execution_count": 189,
     "metadata": {},
     "output_type": "execute_result"
    }
   ],
   "source": [
    "len(docs)"
   ]
  },
  {
   "cell_type": "code",
   "execution_count": 190,
   "id": "60de4692-68ed-4979-b781-a210947da7ad",
   "metadata": {},
   "outputs": [],
   "source": [
    "import re"
   ]
  },
  {
   "cell_type": "code",
   "execution_count": 192,
   "id": "752a2d58-9067-4784-b53d-b44a6bc3177e",
   "metadata": {},
   "outputs": [],
   "source": [
    "# import re\n",
    "\n",
    "# def clean_page_content(page_content):\n",
    "#     \"\"\"\n",
    "#     Clean up unwanted content from the page content, including non-breaking spaces and soft hyphens, as well as figure references,\n",
    "#     copyright, and other unwanted content.\n",
    "    \n",
    "#     :param page_content: The raw text content of a PDF page\n",
    "#     :return: Cleaned page content\n",
    "#     \"\"\"\n",
    "#     # Replace non-breaking spaces (\\xa0) and soft hyphens (\\xad) with regular spaces\n",
    "#     page_content = page_content.replace('\\xa0', ' ').replace('\\xad', '')\n",
    "\n",
    "#     # Define unwanted phrases or patterns to be removed\n",
    "#     unwanted_phrases = [\n",
    "#         \"Yonsei University Medical Library\",\n",
    "#         \"Access Provided by:\",\n",
    "#         \"Downloaded\",  # Common pattern for download timestamps\n",
    "#         \"©\",  # To remove copyright-related text\n",
    "#         \"All Rights Reserved\",  # To remove licensing information\n",
    "#         \"Terms of Use\",\n",
    "#         \"Privacy Policy\",\n",
    "#         \"Page\",  # To remove unwanted page numbers\n",
    "#         \"Chapter\",  # To remove chapter headers\n",
    "#         \"John Del Valle\",  # Author references\n",
    "#     ]\n",
    "    \n",
    "#     # Define regular expressions for unwanted patterns like figure references\n",
    "#     unwanted_patterns = [\n",
    "#         r\"Fig\\.\\s*\\d+-\\d+\",  # Matches figure references like Fig. 324-16\n",
    "#         r\"FIGURE\\s*\\d+-\\d+\",  # Matches figure headings\n",
    "#         r\"H\\+\\s*K\\+\",  # Example pattern for chemical notations\n",
    "#         r\"Chapter\\s*\\d+\",  # Matches chapter headings like \"Chapter 324\"\n",
    "#         r\"\\bH\\.\\s*pylori\\b\",  # Example for specific text (e.g., H. pylori bacteria)\n",
    "#     ]\n",
    "    \n",
    "#     # Remove lines containing unwanted phrases\n",
    "#     cleaned_content = []\n",
    "#     for line in page_content.split(\"\\n\"):\n",
    "#         # Check if the line contains any unwanted phrases or matches unwanted patterns\n",
    "#         if not any(phrase in line for phrase in unwanted_phrases) and not any(re.search(pattern, line) for pattern in unwanted_patterns):\n",
    "#             cleaned_content.append(line)\n",
    "    \n",
    "#     # Join the cleaned lines back into a string\n",
    "#     return \"\\n\".join(cleaned_content)\n",
    "\n",
    "# def clean_all_pages(docs):\n",
    "#     \"\"\"\n",
    "#     Clean all pages from unwanted content.\n",
    "    \n",
    "#     :param docs: List of Document objects from PyMuPDFLoader\n",
    "#     :return: docs with cleaned page content for all pages where unwanted content is found\n",
    "#     \"\"\"\n",
    "#     for idx, doc in enumerate(docs):\n",
    "#         # Clean the content of each page\n",
    "#         docs[idx].page_content = clean_page_content(doc.page_content)\n",
    "#     return docs\n",
    "\n",
    "# # Usage\n",
    "# # Assuming you have already loaded the PDF using PyMuPDFLoader\n",
    "# # loader = PyMuPDFLoader(\"path_to_pdf_file.pdf\")\n",
    "# # docs = loader.load()\n",
    "\n",
    "# # Clean all pages in the document\n",
    "# cleaned_docs = clean_all_pages(docs)\n",
    "\n",
    "# # Now 'cleaned_docs' contains the cleaned content for all pages\n"
   ]
  },
  {
   "cell_type": "code",
   "execution_count": 202,
   "id": "bc78566b-22ee-4234-b2c8-d03d27ef6513",
   "metadata": {},
   "outputs": [],
   "source": [
    "# def clean_page_content(page_content):\n",
    "#     \"\"\"\n",
    "#     Clean up unwanted content from the page content, including references, citations, and author details.\n",
    "    \n",
    "#     :param page_content: The raw text content of a PDF page\n",
    "#     :return: Cleaned page content\n",
    "#     \"\"\"\n",
    "#     # Replace non-breaking spaces (\\xa0) and soft hyphens (\\xad) with regular spaces\n",
    "#     page_content = page_content.replace('\\xa0', ' ').replace('\\xad', '')\n",
    "\n",
    "#     # Define unwanted phrases or patterns to be removed\n",
    "#     unwanted_phrases = [\n",
    "#         \"References\",  # Section headers like \"References\"\n",
    "#         \"Zollinger-Ellison syndrome\",  # Specific unwanted section\n",
    "#         \"SUGGESTED READINGS\",  # Remove Suggested Readings section\n",
    "#         \"Ménétrier’s disease\",  # Specific unwanted section\n",
    "#         \"Ann Intern Med\",      # Common journal references\n",
    "#         \"Lancet\",              # Common journal references\n",
    "#         \"N Engl J Med\",        # Common journal references\n",
    "#         \"Arch Intern Med\",     # Common journal references\n",
    "#     ]\n",
    "    \n",
    "#     # Define regular expressions for unwanted patterns like references and citation numbers\n",
    "#     unwanted_patterns = [\n",
    "#         r\"\\d+\\.\\s+.*\",  # Matches numbered references like \"1. Author et al.\"\n",
    "#         r\"\\bGastroenterol\\b\",  # Common in medical journal citations\n",
    "#         r\"Clin\\b\",             # Common abbreviation for clinical references\n",
    "#         r\"\\bMeta\\b\",           # Matches meta-analysis references\n",
    "#         r\"\\bJAMA\\b\",           # Specific journal name (e.g., \"JAMA\")\n",
    "#     ]\n",
    "    \n",
    "#     # Remove lines containing unwanted phrases or matching unwanted patterns\n",
    "#     cleaned_content = []\n",
    "#     for line in page_content.split(\"\\n\"):\n",
    "#         if not any(phrase in line for phrase in unwanted_phrases) and not any(re.search(pattern, line) for pattern in unwanted_patterns):\n",
    "#             cleaned_content.append(line)\n",
    "    \n",
    "#     # Join the cleaned lines back into a string\n",
    "#     return \"\\n\".join(cleaned_content)\n",
    "\n",
    "# def clean_specific_pages(docs, pages_to_clean):\n",
    "#     \"\"\"\n",
    "#     Clean specific pages from unwanted content, including references, citations, and author details.\n",
    "\n",
    "#     :param docs: List of Document objects from PyMuPDFLoader\n",
    "#     :param pages_to_clean: List of page indices (0-indexed) to clean\n",
    "#     :return: docs with cleaned page content for the specified pages\n",
    "#     \"\"\"\n",
    "#     for idx, doc in enumerate(docs):\n",
    "#         # Apply cleaning only to pages in the pages_to_clean list\n",
    "#         if idx in pages_to_clean:\n",
    "#             docs[idx].page_content = clean_page_content(doc.page_content)\n",
    "#     return docs\n",
    "\n",
    "# # Usage\n",
    "# # Assuming you have already loaded the PDF using PyMuPDFLoader\n",
    "# # loader = PyMuPDFLoader(\"path_to_pdf_file.pdf\")\n",
    "# # docs = loader.load()\n",
    "\n",
    "# # Specify the pages you want to clean (0-indexed)\n",
    "# pages_to_clean = [70, 83, 95, 113, 129, 145, 154, 176, 181, 188]"
   ]
  },
  {
   "cell_type": "code",
   "execution_count": 278,
   "id": "4e74ee68-9def-48fa-8f25-c5f6ba333469",
   "metadata": {},
   "outputs": [],
   "source": [
    "def clean_page_content(page_content):\n",
    "    \"\"\"\n",
    "    Remove corrupted lines with patterns like '�.�.�.�.�' from the page content.\n",
    "\n",
    "    :param page_content: The raw text content of a PDF page\n",
    "    :return: Cleaned page content\n",
    "    \"\"\"\n",
    "    # Split the page content into lines\n",
    "    lines = page_content.split(\"\\n\")\n",
    "    \n",
    "    # Define a regular expression to match corrupted lines with the pattern '�.�.�.'\n",
    "    corrupted_pattern = re.compile(r\"�(\\.�)+\")\n",
    "    \n",
    "    # Remove any line that matches the corrupted pattern\n",
    "    cleaned_content = [line for line in lines if not corrupted_pattern.search(line)]\n",
    "    \n",
    "    # Join the cleaned lines back into a string\n",
    "    return \"\\n\".join(cleaned_content)\n",
    "\n",
    "def clean_all_pages(docs):\n",
    "    \"\"\"\n",
    "    Clean all pages in the document by removing corrupted lines.\n",
    "    \n",
    "    :param docs: List of Document objects from PyMuPDFLoader\n",
    "    :return: docs with cleaned page content for all pages\n",
    "    \"\"\"\n",
    "    for idx, doc in enumerate(docs):\n",
    "        # Clean the content of each page\n",
    "        docs[idx].page_content = clean_page_content(doc.page_content)\n",
    "    return docs"
   ]
  },
  {
   "cell_type": "code",
   "execution_count": null,
   "id": "9f0144c9-b259-4afb-b368-0674a65a8d9e",
   "metadata": {},
   "outputs": [],
   "source": []
  },
  {
   "cell_type": "code",
   "execution_count": 279,
   "id": "94ba1fee-7e30-420c-89e9-fe6e46fb29f2",
   "metadata": {},
   "outputs": [],
   "source": [
    "cleaned_docs = clean_all_pages(filtered_docs)"
   ]
  },
  {
   "cell_type": "code",
   "execution_count": 281,
   "id": "866d1e0a-7cee-4f9a-abbc-2f22a03d6aab",
   "metadata": {},
   "outputs": [
    {
     "name": "stdout",
     "output_type": "stream",
     "text": [
      "Documents saved successfully!\n"
     ]
    }
   ],
   "source": [
    "import pickle\n",
    "\n",
    "# Save the cleaned_documents list to a file\n",
    "with open('final_pdf_pages.pkl', 'wb') as file:\n",
    "    pickle.dump(cleaned_docs, file)\n",
    "\n",
    "print(\"Documents saved successfully!\")"
   ]
  },
  {
   "cell_type": "code",
   "execution_count": 209,
   "id": "93444ed4-2f8a-44f4-b412-78a78e77e12b",
   "metadata": {},
   "outputs": [],
   "source": [
    "# print(cleaned_docs[83].page_content)"
   ]
  },
  {
   "cell_type": "code",
   "execution_count": 280,
   "id": "f1ccf469-c0e8-4740-8af2-25f68d0d8c14",
   "metadata": {},
   "outputs": [
    {
     "name": "stdout",
     "output_type": "stream",
     "text": [
      "806\n",
      "Peptic Ulcer Disease\n",
      "Francis K.L. Chan, James Y.W. Lau\n",
      "53\n",
      "An ulcer in the GI tract can be defined as a 5 mm or larger break in \n",
      "the lining of the mucosa, with appreciable depth at endoscopy or \n",
      "with histologic evidence of submucosal extension. An erosion is a \n",
      "break less than 5 mm. The distinction between an ulcer and an ero\n",
      "sion is somewhat arbitrary. The term PUD is used to include ulcer\n",
      "ations and erosions in the stomach and duodenum from a number \n",
      "of causes. These lesions are called “peptic” because the enzyme \n",
      "role in causing the mucosal breaks, regardless of the inciting agent.\n",
      "Decades of research focused on the role of gastric acid \n",
      "secretion and the effects of stress, personality type, and \n",
      "genetics in the pathogenesis of PUD. The discovery of the \n",
      "histamine-2 (H2) receptor and development of H2RAs,1 and \n",
      "subsequently PPIs, led to major changes in the management \n",
      "of PUD. The discovery of Hp and its role in PUD (see Chap\n",
      "ter 52) transformed PUD from a chronic, recurrent disease \n",
      "to a curable one.2 Hp infection remains an important cause \n",
      "of PUD in the world. In developed countries, frequent use of \n",
      "NSAIDs, including low-dose aspirin for cardiovascular indi\n",
      "cations, has emerged as a leading cause of PUD, especially \n",
      "among the aging population.\n",
      "EPIDEMIOLOGY\n",
      "The epidemiology of PUD has undergone remarkable changes \n",
      "in the past 2 centuries. The risk of developing PUD, and dying \n",
      "from PUD, increased in successive cohorts born between 1840 and \n",
      "1890, and then declined thereafter.3 There was a peak in the inci\n",
      "dence of GU in the first half of the 19th century and a subsequent \n",
      "peak in the incidence of DU in the second half of the 19th century. \n",
      "Sonnenberg proposed a birth-cohort effect to explain the peaks in \n",
      "the incidence of, and mortality from, peptic ulcers. Hp infection \n",
      "acquired during childhood or adolescence became manifested as \n",
      "peptic diseases in later years. As Hp infection gradually declined in \n",
      "the population over time, the prevalence of infection also gradually \n",
      "shifted from a younger toward older age groups. The incidence of \n",
      "DU and GU has declined in parallel with the decline in the preva\n",
      "lence of Hp infection, likely a result of improved sanitary condi\n",
      "tions and a safer food and water supply.\n",
      "Based on physicians’ diagnoses, the annual incidence of PUD \n",
      "ranges from 0.14% to 0.19% in developed countries. Based on \n",
      "hospital diagnoses, the incidence is lower: 0.03% to 0.17%. The \n",
      "prevalence of PUD ranges from 0.12% to 4.7% for physician-\n",
      "diagnosed, and from 0.1% to 2.6% for hospital-diagnosed case \n",
      "series.4 There is a wide geographic variation in the prevalence \n",
      "of PUD. In an endoscopic series involving 1022 volunteers from \n",
      "Shanghai, China (average age, 48 years), the prevalence of PUD \n",
      "was 17.2%, of whom 93% were infected with Hp.5\n",
      "The most frequent complication from PUD is bleeding; the \n",
      "reported annual incidence of bleeding among populations varies \n",
      "from 19 to 57 per 100,000 individuals (≈0.02% to 0.06%). Peptic \n",
      "ulcer perforation (PULP), less frequent than bleeding, has reported \n",
      "incidences of 4 to 14 per 100,000 individuals (0.004% to 0.014%).6 \n",
      "Along with a decline in uncomplicated PUD cases, there is a similar \n",
      "decline in incidence of ulcer complications in recent years. Laine and \n",
      "colleagues7 used a national inpatient database to calculate the annual \n",
      "incidence of, and mortality from, GI complications during 2001 to \n",
      "and sex-adjusted case fatality rates from UGI bleeding decreased \n",
      "from 3.8% to 2.7%. In 2009, the case fatality rate for UGI bleeding \n",
      "(2.45%) was considerably lower than for UGI perforation (10.7%). \n",
      "In a nationwide population-based cohort study of 403,567 Taiwan\n",
      "ese patients, hospitalizations for complicated peptic ulcers decreased \n",
      "significantly over a 10 year period8; thus the annual incidence of hos\n",
      "pitalizations for bleeding DU or for perforated DU fell from 108 to \n",
      "40 and from 9.8 to 5.8 per 100,000, respectively. A similar decline \n",
      "was evident for bleeding and perforated GUs (from 117 to 61 and \n",
      "from 11 to 6 per 100,000, respectively). \n",
      "ETIOLOGY AND PATHOGENESIS\n",
      "The principal risk factors of PUD are Hp infection and NSAID \n",
      "use (Fig. 53.1) and as will be discussed, many patients with PUD \n",
      "have both of these risk factors. On the other hand, PUD patients \n",
      "may have neither of these risk factors (Hp-negative, NSAID-\n",
      "negative ulcers); some of these latter patients will have another \n",
      "others will have ulcers that are idiopathic.\n",
      "CHAPTER OUTLINE\n",
      "MEDICAL THERAPY OF ACTIVE PEPTIC ULCER \n",
      "\n"
     ]
    }
   ],
   "source": [
    "print(docs[0].page_content)"
   ]
  },
  {
   "cell_type": "code",
   "execution_count": 275,
   "id": "298fc875-5388-4aec-8e4b-42396f232efc",
   "metadata": {},
   "outputs": [],
   "source": [
    "# print(temp_docs[2].page_content)"
   ]
  },
  {
   "cell_type": "code",
   "execution_count": 273,
   "id": "bbe41b70-843d-49e3-88a1-a03500d884d0",
   "metadata": {},
   "outputs": [],
   "source": [
    "# docs[121].page_content"
   ]
  },
  {
   "cell_type": "code",
   "execution_count": null,
   "id": "7bce4fb7-a45a-4712-9fdd-2dda1fc62aeb",
   "metadata": {},
   "outputs": [],
   "source": []
  },
  {
   "cell_type": "code",
   "execution_count": 80,
   "id": "2f4284d7-61eb-4a00-8f92-bcc2a4d78786",
   "metadata": {},
   "outputs": [],
   "source": [
    "# print(cleaned_docs[34].page_content)"
   ]
  },
  {
   "cell_type": "code",
   "execution_count": 105,
   "id": "07f41827-0d6e-4ae6-a169-01d8b26ce5c8",
   "metadata": {},
   "outputs": [],
   "source": [
    "# print(cleaned_docs[70].page_content)"
   ]
  },
  {
   "cell_type": "code",
   "execution_count": 106,
   "id": "38d51894-694e-459b-8819-6db75a383de2",
   "metadata": {},
   "outputs": [],
   "source": [
    "# print(cleaned_docs_2[70].page_content)"
   ]
  },
  {
   "cell_type": "code",
   "execution_count": null,
   "id": "ecb27ec0-8332-400b-8965-025e7abf04d6",
   "metadata": {},
   "outputs": [],
   "source": []
  }
 ],
 "metadata": {
  "kernelspec": {
   "display_name": "Python 3 (ipykernel)",
   "language": "python",
   "name": "python3"
  },
  "language_info": {
   "codemirror_mode": {
    "name": "ipython",
    "version": 3
   },
   "file_extension": ".py",
   "mimetype": "text/x-python",
   "name": "python",
   "nbconvert_exporter": "python",
   "pygments_lexer": "ipython3",
   "version": "3.10.14"
  }
 },
 "nbformat": 4,
 "nbformat_minor": 5
}
