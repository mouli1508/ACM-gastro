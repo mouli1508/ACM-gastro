{
 "cells": [
  {
   "cell_type": "code",
   "execution_count": 1,
   "id": "139d43e0-7b9e-41f0-8b04-af1c00847545",
   "metadata": {},
   "outputs": [],
   "source": [
    "from langchain_text_splitters import RecursiveCharacterTextSplitter\n",
    "from langchain_core.prompts import ChatPromptTemplate\n",
    "from langchain_core.prompts.prompt import PromptTemplate\n",
    "from langchain_core.messages import AIMessage, HumanMessage\n",
    "from langchain_core.output_parsers import StrOutputParser\n",
    "from langchain_core.runnables import ConfigurableField\n",
    "from langchain_experimental.graph_transformers import LLMGraphTransformer\n",
    "from langchain_ollama.llms import OllamaLLM\n",
    "from typing import Tuple, List, Optional\n",
    "from yfiles_jupyter_graphs import GraphWidget\n",
    "from neo4j import GraphDatabase\n",
    "from langchain.chains import GraphCypherQAChain\n",
    "\n",
    "from neo4j import GraphDatabase\n",
    "from langchain_community.vectorstores import Neo4jVector\n",
    "from langchain_community.graphs import Neo4jGraph\n",
    "\n",
    "import pickle\n",
    "import os"
   ]
  },
  {
   "cell_type": "code",
   "execution_count": 2,
   "id": "bc87beb1-5745-4401-a914-a0e10725f05e",
   "metadata": {},
   "outputs": [],
   "source": [
    "# OPENAI_API_KEY = 'sk-XwwGmbuN8PZ2IX5CAkejMXIrPpsF4c435PEGWu0NIbT3BlbkFJAW1uxKGNBG1DyPZR43e06JGPrCvPrWKYmbDlTxzMoA'"
   ]
  },
  {
   "cell_type": "code",
   "execution_count": 3,
   "id": "08e2ee47-e6d2-4a76-81ca-2359866c510f",
   "metadata": {},
   "outputs": [],
   "source": [
    "NEO4J_URI=\"neo4j+s://9269fc71.databases.neo4j.io\"\n",
    "NEO4J_USERNAME=\"neo4j\"\n",
    "NEO4J_PASSWORD=\"lOnpSSiAFQg0uWzA1EvYYBhK45_rWbxXb9SHRDwZRfk\""
   ]
  },
  {
   "cell_type": "code",
   "execution_count": 5,
   "id": "f90db3ac-5190-484e-be23-6fda9ebfbe90",
   "metadata": {},
   "outputs": [],
   "source": [
    "graph = Neo4jGraph()"
   ]
  },
  {
   "cell_type": "code",
   "execution_count": 4,
   "id": "6f335c85-955a-4dff-8de7-17e141861294",
   "metadata": {},
   "outputs": [],
   "source": [
    "# os.environ[\"OPENAI_API_KEY\"] = OPENAI_API_KEY\n",
    "os.environ[\"NEO4J_URI\"] = NEO4J_URI\n",
    "os.environ[\"NEO4J_USERNAME\"] = NEO4J_USERNAME\n",
    "os.environ[\"NEO4J_PASSWORD\"] = NEO4J_PASSWORD"
   ]
  },
  {
   "cell_type": "code",
   "execution_count": 5,
   "id": "c054f839-da96-475a-ae01-b55df482ee15",
   "metadata": {},
   "outputs": [
    {
     "name": "stdout",
     "output_type": "stream",
     "text": [
      "Documents loaded successfully!\n"
     ]
    }
   ],
   "source": [
    "\n",
    "# Load the cleaned_documents list from the file\n",
    "with open('final_pdf_pages.pkl', 'rb') as file:\n",
    "    docs = pickle.load(file)\n",
    "\n",
    "print(\"Documents loaded successfully!\")\n"
   ]
  },
  {
   "cell_type": "code",
   "execution_count": 6,
   "id": "8b2d2689-545d-458a-9eba-1bb6a8c45fde",
   "metadata": {},
   "outputs": [],
   "source": [
    "# docs[0]"
   ]
  },
  {
   "cell_type": "code",
   "execution_count": 7,
   "id": "62782d32-404b-445d-a4a8-98efd8db16c7",
   "metadata": {},
   "outputs": [
    {
     "data": {
      "text/plain": [
       "220"
      ]
     },
     "execution_count": 7,
     "metadata": {},
     "output_type": "execute_result"
    }
   ],
   "source": [
    "len(docs)"
   ]
  },
  {
   "cell_type": "code",
   "execution_count": 8,
   "id": "31ce0b88-7048-4af6-a7ac-0f58239330d6",
   "metadata": {},
   "outputs": [],
   "source": [
    "text_splitter = RecursiveCharacterTextSplitter(\n",
    "    # Set a really small chunk size, just to show.\n",
    "    separators=['\\n'],\n",
    "    chunk_size=2024,\n",
    "    chunk_overlap=204,\n",
    "    length_function=len,\n",
    ")"
   ]
  },
  {
   "cell_type": "code",
   "execution_count": 9,
   "id": "16390339-61c4-4b7c-97b7-281bff8896f0",
   "metadata": {},
   "outputs": [],
   "source": [
    "data = text_splitter.split_documents(docs)"
   ]
  },
  {
   "cell_type": "code",
   "execution_count": 10,
   "id": "f97ec9e9-bcdc-40e8-b7e8-cfce561c39bd",
   "metadata": {},
   "outputs": [
    {
     "data": {
      "text/plain": [
       "615"
      ]
     },
     "execution_count": 10,
     "metadata": {},
     "output_type": "execute_result"
    }
   ],
   "source": [
    "len(data)"
   ]
  },
  {
   "cell_type": "code",
   "execution_count": 11,
   "id": "3a7e006b-8ce4-401e-9081-5e558b7a74dd",
   "metadata": {},
   "outputs": [],
   "source": [
    "# print(data[0].page_content)"
   ]
  },
  {
   "cell_type": "code",
   "execution_count": 12,
   "id": "355bc87f-83bb-4697-a2f9-b696404a0c85",
   "metadata": {},
   "outputs": [
    {
     "data": {
      "text/plain": [
       "langchain_core.documents.base.Document"
      ]
     },
     "execution_count": 12,
     "metadata": {},
     "output_type": "execute_result"
    }
   ],
   "source": [
    "type(data[0])"
   ]
  },
  {
   "cell_type": "code",
   "execution_count": 26,
   "id": "d54f1e68-8f96-4fdd-8a34-aebb6145585f",
   "metadata": {},
   "outputs": [],
   "source": [
    "# # Saving Chunked data\n",
    "# import pickle\n",
    "\n",
    "# # Save the cleaned_documents list to a file\n",
    "# with open('chunked_documents.pkl', 'wb') as file:\n",
    "#     pickle.dump(cleaned_documents, file)\n",
    "\n",
    "# print(\"Documents saved successfully!\")"
   ]
  },
  {
   "cell_type": "code",
   "execution_count": 11,
   "id": "a6f47cfd-2ebc-41aa-bff3-eb5b47376027",
   "metadata": {},
   "outputs": [],
   "source": [
    "llm = OllamaLLM(model=\"llama3.2\")"
   ]
  },
  {
   "cell_type": "code",
   "execution_count": 47,
   "id": "9e2c3adb-f019-4246-b7ef-79c271665f83",
   "metadata": {},
   "outputs": [],
   "source": [
    "llm_transformer = LLMGraphTransformer(llm=llm)"
   ]
  },
  {
   "cell_type": "code",
   "execution_count": 48,
   "id": "2ac8dc6c-22ee-4ba6-92a0-623c09cae7f9",
   "metadata": {},
   "outputs": [],
   "source": [
    "graph_documents = llm_transformer.convert_to_graph_documents(data)"
   ]
  },
  {
   "cell_type": "code",
   "execution_count": null,
   "id": "a51bd9ae-7087-4687-8ab2-3ebd1fdded30",
   "metadata": {},
   "outputs": [],
   "source": [
    "graph_documents"
   ]
  },
  {
   "cell_type": "code",
   "execution_count": 50,
   "id": "417a4b15-c114-45b5-b218-ea5ae1da6932",
   "metadata": {},
   "outputs": [],
   "source": [
    "graph.add_graph_documents(\n",
    "    graph_documents,\n",
    "    baseEntityLabel=True,\n",
    "    include_source=True\n",
    ")"
   ]
  },
  {
   "cell_type": "code",
   "execution_count": null,
   "id": "cae07ae3-179b-47ad-8965-587076406d7a",
   "metadata": {},
   "outputs": [],
   "source": []
  },
  {
   "cell_type": "code",
   "execution_count": 6,
   "id": "6182fbd9-00ea-4c39-9761-a47baada8742",
   "metadata": {},
   "outputs": [],
   "source": [
    "graph_documents = Neo4jGraph(url=os.environ[\"NEO4J_URI\"], username=os.environ[\"NEO4J_USERNAME\"], password=os.environ[\"NEO4J_PASSWORD\"])"
   ]
  },
  {
   "cell_type": "code",
   "execution_count": 7,
   "id": "715951f5-db4a-47b2-8a25-360c4f1c50d1",
   "metadata": {},
   "outputs": [
    {
     "data": {
      "text/plain": [
       "<langchain_community.graphs.neo4j_graph.Neo4jGraph at 0x17bb4e190d0>"
      ]
     },
     "execution_count": 7,
     "metadata": {},
     "output_type": "execute_result"
    }
   ],
   "source": [
    "graph_documents"
   ]
  },
  {
   "cell_type": "code",
   "execution_count": 27,
   "id": "e18bfcca-0b22-4d88-b794-949aec581e78",
   "metadata": {},
   "outputs": [],
   "source": [
    "cypher_generation_template = \"\"\"\n",
    "You are an expert Neo4j Cypher translator who converts English to Cypher based on the Neo4j Schema provided, \n",
    "specifically for queries related to gastrointestinal and liver diseases. Follow the instructions below:\n",
    "\n",
    "1. Generate Cypher query compatible ONLY for Neo4j Version 5.\n",
    "2. Do not use EXISTS, SIZE, HAVING keywords in the Cypher. Use aliases when using the WITH keyword.\n",
    "3. Use only Nodes and Relationships mentioned in the schema.\n",
    "4. Always do a case-insensitive and fuzzy search for properties. For example:\n",
    "   - To search for a Disease, use `toLower(disease.name) contains 'ulcer'`.\n",
    "   - To search for Symptoms, use `toLower(symptom.name) contains 'pain'`.\n",
    "5. Never use nodes, properties, or relationships not defined in the given schema.\n",
    "6. Ensure query logic is precise for medical data retrieval, such as retrieving causes, symptoms, treatments, risk factors, complications, or diagnostic tests.\n",
    "\n",
    "### Medical Schema (use this schema exclusively):\n",
    "schema: {schema}\n",
    "\n",
    "Examples:\n",
    "Question: What are common symptoms of peptic ulcer disease?\n",
    "Answer:\n",
    "```cypher\n",
    "MATCH (d:Disease)-[:HAS_SYMPTOM]->(s:Symptom)\n",
    "WHERE toLower(d.name) contains 'peptic ulcer'\n",
    "RETURN s.name AS Symptom\n",
    "Question: What treatments are available for gastric ulcer? \n",
    "Answer: '''MATCH (d:Disease)-[:TREATED_WITH]->(t:Treatment)\n",
    "WHERE toLower(d.name) contains 'gastric ulcer'\n",
    "RETURN t.name AS Treatment'''\n",
    "Question: Which complications are associated with Crohn's disease?\n",
    "Answer: '''MATCH (d:Disease)-[:COMPLICATES]->(c:Complication)\n",
    "WHERE toLower(d.name) contains 'crohn'\n",
    "RETURN c.name AS Complication'''\n",
    "\"\"\""
   ]
  },
  {
   "cell_type": "code",
   "execution_count": 28,
   "id": "f7b9d2e1-8fb0-4cb2-9a1c-6d9088276d63",
   "metadata": {},
   "outputs": [],
   "source": [
    "cypher_prompt = PromptTemplate(\n",
    "    template = cypher_generation_template,\n",
    "    input_variables = [\"schema\", \"question\"]\n",
    ")"
   ]
  },
  {
   "cell_type": "code",
   "execution_count": 29,
   "id": "f76460ea-204c-47ab-b906-5b5ea8d56d8c",
   "metadata": {},
   "outputs": [],
   "source": [
    "CYPHER_QA_TEMPLATE = \"\"\"You are an assistant that helps to form nice and human understandable answers.\n",
    "The information part contains the provided information that you must use to construct an answer.\n",
    "The provided information is authoritative, you must never doubt it or try to use your internal knowledge to correct it.\n",
    "Make the answer sound as a response to the question. Do not mention that you based the result on the given information.\n",
    "If the provided information is empty, say that you don't know the answer.\n",
    "Final answer should be easily readable and structured.\n",
    "Information:\n",
    "{context}\n",
    "\n",
    "Question: {question}\n",
    "Helpful Answer:\"\"\""
   ]
  },
  {
   "cell_type": "code",
   "execution_count": 30,
   "id": "f0061d02-79be-400a-92fe-4b1bb8ea8add",
   "metadata": {},
   "outputs": [],
   "source": [
    "qa_prompt = PromptTemplate(\n",
    "    input_variables=[\"context\", \"question\"], template=CYPHER_QA_TEMPLATE\n",
    ")\n"
   ]
  },
  {
   "cell_type": "code",
   "execution_count": 35,
   "id": "0aa67941-6a72-47ff-85e1-de6109ff0805",
   "metadata": {},
   "outputs": [],
   "source": [
    "def query_graph(user_input):\n",
    "    graph = Neo4jGraph(url=os.environ[\"NEO4J_URI\"], username=os.environ[\"NEO4J_USERNAME\"], password=os.environ[\"NEO4J_PASSWORD\"])\n",
    "    chain = GraphCypherQAChain.from_llm(\n",
    "        llm=llm,\n",
    "        graph=graph,\n",
    "        verbose=True,\n",
    "        return_intermediate_steps=True,\n",
    "        cypher_prompt=cypher_prompt,\n",
    "        qa_prompt=qa_prompt,\n",
    "        allow_dangerous_requests=True\n",
    "        )\n",
    "    result = chain(user_input)\n",
    "    return result"
   ]
  },
  {
   "cell_type": "code",
   "execution_count": 36,
   "id": "b2cbcd17-838d-43a3-b748-9ae411aa6e9c",
   "metadata": {},
   "outputs": [],
   "source": [
    "user_input = 'what are the common treatments for gastric ulcers?'"
   ]
  },
  {
   "cell_type": "code",
   "execution_count": 37,
   "id": "c8fde0f7-40e6-485f-a371-3c6ab38227ac",
   "metadata": {},
   "outputs": [
    {
     "name": "stderr",
     "output_type": "stream",
     "text": [
      "/tmp/ipykernel_851887/2605508516.py:12: LangChainDeprecationWarning: The method `Chain.__call__` was deprecated in langchain 0.1.0 and will be removed in 1.0. Use :meth:`~invoke` instead.\n",
      "  result = chain(user_input)\n"
     ]
    },
    {
     "name": "stdout",
     "output_type": "stream",
     "text": [
      "\n",
      "\n",
      "\u001b[1m> Entering new GraphCypherQAChain chain...\u001b[0m\n",
      "Generated Cypher:\n",
      "\u001b[32;1m\u001b[1;3mcypher\n",
      "MATCH (d:Disease)-[:HAS_SYMPTOM]->(s:Symptom)\n",
      "WHERE toLower(d.name) contains 'peptic ulcer'\n",
      "RETURN s.name AS Symptom\n",
      "\u001b[0m\n",
      "Full Context:\n",
      "\u001b[32;1m\u001b[1;3m[]\u001b[0m\n",
      "\n",
      "\u001b[1m> Finished chain.\u001b[0m\n"
     ]
    }
   ],
   "source": [
    "result = query_graph(user_input)"
   ]
  },
  {
   "cell_type": "code",
   "execution_count": 40,
   "id": "00397f26-9108-40e3-85cd-b9a35d4b6fb9",
   "metadata": {},
   "outputs": [
    {
     "name": "stdout",
     "output_type": "stream",
     "text": [
      "Common treatments for gastric ulcers typically include:\n",
      "\n",
      "* Antacids or acid reducers to neutralize stomach acid\n",
      "* H2 blockers, such as ranitidine (Zantac) or famotidine (Pepcid), to decrease acid production\n",
      "* Proton pump inhibitors (PPIs), like omeprazole (Prilosec) or esomeprazole (Nexium), to block the production of stomach acid\n",
      "\n",
      "In some cases, medications may be prescribed in combination to achieve optimal results. Additionally, lifestyle modifications such as maintaining a healthy diet and avoiding trigger foods can help alleviate symptoms.\n",
      "\n",
      "It's essential to consult a healthcare professional for personalized treatment recommendations, as they will determine the best course of action based on individual needs and medical history.\n"
     ]
    }
   ],
   "source": [
    "print(result['result'])"
   ]
  },
  {
   "cell_type": "code",
   "execution_count": null,
   "id": "660d2dd1-8b70-4353-a804-8da35be13379",
   "metadata": {},
   "outputs": [],
   "source": []
  }
 ],
 "metadata": {
  "kernelspec": {
   "display_name": "Python 3 (ipykernel)",
   "language": "python",
   "name": "python3"
  },
  "language_info": {
   "codemirror_mode": {
    "name": "ipython",
    "version": 3
   },
   "file_extension": ".py",
   "mimetype": "text/x-python",
   "name": "python",
   "nbconvert_exporter": "python",
   "pygments_lexer": "ipython3",
   "version": "3.12.3"
  }
 },
 "nbformat": 4,
 "nbformat_minor": 5
}
