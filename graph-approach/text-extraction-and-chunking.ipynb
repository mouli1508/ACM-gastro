{
 "cells": [
  {
   "cell_type": "code",
   "execution_count": 1,
   "id": "a9b7093c-94bd-4080-8923-3456723a7ca6",
   "metadata": {},
   "outputs": [],
   "source": [
    "from langchain_community.document_loaders import PyMuPDFLoader"
   ]
  },
  {
   "cell_type": "code",
   "execution_count": 2,
   "id": "898db0bd-70e7-447d-9ce2-7878362fdc21",
   "metadata": {},
   "outputs": [
    {
     "name": "stdout",
     "output_type": "stream",
     "text": [
      "'Gastrointestinal and Liver Disease.pdf'   text-extraction-and-chunking.ipynb\n"
     ]
    }
   ],
   "source": [
    "ls"
   ]
  },
  {
   "cell_type": "code",
   "execution_count": 10,
   "id": "6fa3e872-9620-4c0e-a317-c7338fdf9bc1",
   "metadata": {},
   "outputs": [],
   "source": [
    "loader = PyMuPDFLoader('Gastrointestinal and Liver Disease.pdf', extract_images= True)"
   ]
  },
  {
   "cell_type": "code",
   "execution_count": 11,
   "id": "c7161e68-9a7b-4c25-9b7e-915af1a830a8",
   "metadata": {},
   "outputs": [
    {
     "data": {
      "text/plain": [
       "<langchain_community.document_loaders.pdf.PyMuPDFLoader at 0x7ff4aab61960>"
      ]
     },
     "execution_count": 11,
     "metadata": {},
     "output_type": "execute_result"
    }
   ],
   "source": [
    "loader"
   ]
  },
  {
   "cell_type": "code",
   "execution_count": 12,
   "id": "a5ad9987-10a3-4233-980e-240815e2df09",
   "metadata": {},
   "outputs": [
    {
     "data": {
      "text/plain": [
       "Document(metadata={'source': 'Gastrointestinal and Liver Disease.pdf', 'file_path': 'Gastrointestinal and Liver Disease.pdf', 'page': 0, 'total_pages': 272, 'format': 'PDF 1.7', 'title': 'Management of Nonvariceal Upper Gastrointestinal Bleeding: Guideline Recommendations From the International Consensus Group', 'author': 'Alan N.\\xa0Barkun, Majid\\xa0Almadi, Ernst J.\\xa0Kuipers, Loren\\xa0Laine, Joseph\\xa0Sung, Frances\\xa0Tse, Grigorios I.\\xa0Leontiadis, Neena S.\\xa0Abraham, Xavier\\xa0Calvet, Francis K.L.\\xa0Chan, James\\xa0Douketis, Robert\\xa0Enns, Ian M.\\xa0Gralnek, Vipul\\xa0Jairath, Dennis\\xa0Jensen, James\\xa0Lau, Gregory Y.H.\\xa0Lip, Romaric\\xa0Loffroy, Fauze\\xa0Maluf-Filho, Andrew C.\\xa0Meltzer, Nageshwar\\xa0Reddy, John R.\\xa0Saltzman, John K.\\xa0Marshall, and Marc\\xa0Bardou', 'subject': 'Ann Intern Med 2019.171:805-822', 'keywords': '', 'creator': 'XPP', 'producer': 'Adobe LiveCycle PDF Generator; modified using iText 4.2.0 by 1T3XT', 'creationDate': '13th September 2020', 'modDate': 'D:20240611221533Z', 'trapped': ''}, page_content='806\\nPeptic Ulcer Disease\\nFrancis K.L. Chan, James Y.W. Lau\\n53\\nAn ulcer in the GI tract can be defined as a 5 mm or larger break in \\nthe lining of the mucosa, with appreciable depth at endoscopy or \\nwith histologic evidence of submucosal extension. An erosion is a \\nbreak less than 5 mm. The distinction between an ulcer and an ero\\xad\\nsion is somewhat arbitrary. The term PUD is used to include ulcer\\xad\\nations and erosions in the stomach and duodenum from a number \\nof causes. These lesions are called “peptic” because the enzyme \\npepsin, proteolytic at an acidic pH (see Chapter 51), plays a major \\nrole in causing the mucosal breaks, regardless of the inciting agent.\\nDecades of research focused on the role of gastric acid \\nsecretion and the effects of stress, personality type, and \\ngenetics in the pathogenesis of PUD. The discovery of the \\nhistamine-2 (H2) receptor and development of H2RAs,1 and \\nsubsequently PPIs, led to major changes in the management \\nof PUD. The discovery of Hp and its role in PUD (see Chap\\xad\\nter 52) transformed PUD from a chronic, recurrent disease \\nto a curable one.2 Hp infection remains an important cause \\nof PUD in the world. In developed countries, frequent use of \\nNSAIDs, including low-dose aspirin for cardiovascular indi\\xad\\ncations, has emerged as a leading cause of PUD, especially \\namong the aging population.\\nEPIDEMIOLOGY\\nThe epidemiology of PUD has undergone remarkable changes \\nin the past 2 centuries. The risk of developing PUD, and dying \\nfrom PUD, increased in successive cohorts born between 1840 and \\n1890, and then declined thereafter.3 There was a peak in the inci\\xad\\ndence of GU in the first half of the 19th century and a subsequent \\npeak in the incidence of DU in the second half of the 19th century. \\nSonnenberg proposed a birth-cohort effect to explain the peaks in \\nthe incidence of, and mortality from, peptic ulcers. Hp infection \\nacquired during childhood or adolescence became manifested as \\npeptic diseases in later years. As Hp infection gradually declined in \\nthe population over time, the prevalence of infection also gradually \\nshifted from a younger toward older age groups. The incidence of \\nDU and GU has declined in parallel with the decline in the preva\\xad\\nlence of Hp infection, likely a result of improved sanitary condi\\xad\\ntions and a safer food and water supply.\\nBased on physicians’ diagnoses, the annual incidence of PUD \\nranges from 0.14% to 0.19% in developed countries. Based on \\nhospital diagnoses, the incidence is lower: 0.03% to 0.17%. The \\nprevalence of PUD ranges from 0.12% to 4.7% for physician-\\ndiagnosed, and from 0.1% to 2.6% for hospital-diagnosed case \\nseries.4 There is a wide geographic variation in the prevalence \\nof PUD. In an endoscopic series involving 1022 volunteers from \\nShanghai, China (average age, 48 years), the prevalence of PUD \\nwas 17.2%, of whom 93% were infected with Hp.5\\nThe most frequent complication from PUD is bleeding; the \\nreported annual incidence of bleeding among populations varies \\nfrom 19 to 57 per 100,000 individuals (≈0.02% to 0.06%). Peptic \\nulcer perforation (PULP), less frequent than bleeding, has reported \\nincidences of 4 to 14 per 100,000 individuals (0.004% to 0.014%).6 \\nAlong with a decline in uncomplicated PUD cases, there is a similar \\ndecline in incidence of ulcer complications in recent years. Laine and \\ncolleagues7 used a national inpatient database to calculate the annual \\nincidence of, and mortality from, GI complications during 2001 to \\n2009. During this time period, the incidence of peptic ulcer bleeding \\nfell from 48.7 to 32.1 per 100,000. Over the same period, the age- \\nand sex-adjusted case fatality rates from UGI bleeding decreased \\nfrom 3.8% to 2.7%. In 2009, the case fatality rate for UGI bleeding \\n(2.45%) was considerably lower than for UGI perforation (10.7%). \\nIn a nationwide population-based cohort study of 403,567 Taiwan\\xad\\nese patients, hospitalizations for complicated peptic ulcers decreased \\nsignificantly over a 10 year period8; thus the annual incidence of hos\\xad\\npitalizations for bleeding DU or for perforated DU fell from 108 to \\n40 and from 9.8 to 5.8 per 100,000, respectively. A similar decline \\nwas evident for bleeding and perforated GUs (from 117 to 61 and \\nfrom 11 to 6 per 100,000, respectively).\\u200a\\nETIOLOGY AND PATHOGENESIS\\nThe principal risk factors of PUD are Hp infection and NSAID \\nuse (Fig. 53.1) and as will be discussed, many patients with PUD \\nhave both of these risk factors. On the other hand, PUD patients \\nmay have neither of these risk factors (Hp-negative, NSAID-\\nnegative ulcers); some of these latter patients will have another \\ncause of ulcer such as gastrinoma (ZES; see Chapter 34), whereas \\nothers will have ulcers that are idiopathic.\\nCHAPTER OUTLINE\\nEPIDEMIOLOGY\\x08.�.�.�.�.�.�.�.�.�.�.�.�.�.�.�.�.�.�.�.�.�.�.�.�.�.�.�.�.�.�.�.�806\\nETIOLOGY AND PATHOGENESIS\\x08.�.�.�.�.�.�.�.�.�.�.�.�.�.�.�.�.�.�.�.�806\\nHp Infection\\x08.�.�.�.�.�.�.�.�.�.�.�.�.�.�.�.�.�.�.�.�.�.�.�.�.�.�.�.�.�.�.�.�.�.�807\\nUse of Aspirin and Other NSAIDs\\x08.�.�.�.�.�.�.�.�.�.�.�.�.�.�.�.�.�.�807\\nOther Causes of Ulcers and Idiopathic Ulcers\\x08.�.�.�.�.�.�.�.�.�808\\nCLINICAL FEATURES AND DIAGNOSIS\\x08.�.�.�.�.�.�.�.�.�.�.�.�.�.�.�808\\nMEDICAL THERAPY OF ACTIVE PEPTIC ULCER \\nDISEASE\\x08.�.�.�.�.�.�.�.�.�.�.�.�.�.�.�.�.�.�.�.�.�.�.�.�.�.�.�.�.�.�.�.�.�.�.�.�.�.�810\\nPharmaceutical Agents\\x08.�.�.�.�.�.�.�.�.�.�.�.�.�.�.�.�.�.�.�.�.�.�.�.�.�810\\nHp-associated Ulcers \\x08.�.�.�.�.�.�.�.�.�.�.�.�.�.�.�.�.�.�.�.�.�.�.�.�.�.�811\\nNSAID Ulcers\\x08.�.�.�.�.�.�.�.�.�.�.�.�.�.�.�.�.�.�.�.�.�.�.�.�.�.�.�.�.�.�.�.�.�812\\nOther Causes of Ulcers and Idiopathic Ulcers\\x08.�.�.�.�.�.�.�.�.�812\\nREFRACTORY ULCERS\\x08.�.�.�.�.�.�.�.�.�.�.�.�.�.�.�.�.�.�.�.�.�.�.�.�.�.�.�812\\nPREVENTION OF ULCER DISEASE\\x08.�.�.�.�.�.�.�.�.�.�.�.�.�.�.�.�.�.�812\\nAntacids\\x08.�.�.�.�.�.�.�.�.�.�.�.�.�.�.�.�.�.�.�.�.�.�.�.�.�.�.�.�.�.�.�.�.�.�.�.�812\\nH2RAs\\x08.�.�.�.�.�.�.�.�.�.�.�.�.�.�.�.�.�.�.�.�.�.�.�.�.�.�.�.�.�.�.�.�.�.�.�.�.�.�813\\nMisoprostol\\x08.�.�.�.�.�.�.�.�.�.�.�.�.�.�.�.�.�.�.�.�.�.�.�.�.�.�.�.�.�.�.�.�.�.�813\\nPPIs \\x08.�.�.�.�.�.�.�.�.�.�.�.�.�.�.�.�.�.�.�.�.�.�.�.�.�.�.�.�.�.�.�.�.�.�.�.�.�.�.�813\\nCOX-2 Inhibitors (In Place of NSAIDs)\\x08.�.�.�.�.�.�.�.�.�.�.�.�.�.�.�813\\nAssessing Risk and Choice of Agent(s)\\x08.�.�.�.�.�.�.�.�.�.�.�.�.�.�814\\nCOMPLICATIONS AND THEIR TREATMENT \\x08.�.�.�.�.�.�.�.�.�.�.�815\\nBleeding\\x08.�.�.�.�.�.�.�.�.�.�.�.�.�.�.�.�.�.�.�.�.�.�.�.�.�.�.�.�.�.�.�.�.�.�.�.�815\\nPerforation \\x08.�.�.�.�.�.�.�.�.�.�.�.�.�.�.�.�.�.�.�.�.�.�.�.�.�.�.�.�.�.�.�.�.�.�817\\nObstruction\\x08.�.�.�.�.�.�.�.�.�.�.�.�.�.�.�.�.�.�.�.�.�.�.�.�.�.�.�.�.�.�.�.�.�.�818\\nSTRESS ULCERS\\x08.�.�.�.�.�.�.�.�.�.�.�.�.�.�.�.�.�.�.�.�.�.�.�.�.�.�.�.�.�.�.�819\\nDownloaded for JongHoon Hyun (whdgnssla@hanmail.net) at Inje University from ClinicalKey.com by Elsevier on May 29, \\n2024. For personal use only. No other uses without permission. Copyright ©2024. Elsevier Inc. All rights reserved.\\n')"
      ]
     },
     "execution_count": 12,
     "metadata": {},
     "output_type": "execute_result"
    }
   ],
   "source": [
    "docs = loader.load()\n",
    "docs[0]"
   ]
  },
  {
   "cell_type": "code",
   "execution_count": 14,
   "id": "c7acc091-73ee-4f4f-a3da-5454d5d4fa31",
   "metadata": {},
   "outputs": [
    {
     "data": {
      "text/plain": [
       "272"
      ]
     },
     "execution_count": 14,
     "metadata": {},
     "output_type": "execute_result"
    }
   ],
   "source": [
    "len(docs)"
   ]
  },
  {
   "cell_type": "code",
   "execution_count": 110,
   "id": "72a5be26-6bd2-4994-8320-148103bf43bf",
   "metadata": {},
   "outputs": [
    {
     "data": {
      "text/plain": [
       "'Japan. In addition, the rate of H. pylori infection with\\nprimary resistance to levoﬂoxacin is high in Japan. The\\neradication rate of triple therapy with PPI/VPZ, amox-\\nicillin, and metronidazole is still high [4], and does not\\ndiffer between the two regimens [29–31].\\nThird-line eradication therapy\\nCQ-7\\nWhat regimen should we select for third-line H. pylori\\neradication therapy?\\n•\\nTriple therapy with PPI, sitaﬂoxacin, and metronida-\\nzole or PPI, sitaﬂoxacin, and amoxicillin is suggested\\n(not covered by the Japanese insurance system).\\nRecommendation: weak, 100% agreed, evidence level\\nB.\\nComment: Three Japanese RCTs of third-line therapies\\nshowed that the eradication rates were 70.0–90.9%\\n[32–34]. The eradication rate of triple therapy with PPI,\\nsitaﬂoxacin,\\nand\\nmetronidazole\\nwas\\n70.0–88.9%\\n[32–34], and that of PPI, sitaﬂoxacin, and amoxicillin\\nwas 72.4–90.9% [33, 34]. Because these eradication\\nrates were not high enough, these regimens are not\\nrecommended, but suggested.\\nUlcer recurrence after H. pylori eradication\\nCQ-8\\nIs maintenance treatment necessary for the recurrence of\\npeptic ulcer after successful H. pylori eradication?\\n•\\nWhen the cause of peptic ulcer recurrence is unclear,\\nlong-term maintenance treatment with PPIs or H2RAs\\nis suggested.\\nRecommendation: weak, 100% agreed, evidence level\\nD.\\nComment: There are currently no published RCTs or\\nMAs. Causes of the recurrence of peptic ulcers after\\nsuccessful H. pylori eradication include using LDA and\\nNSAIDs, reinfection with H. pylori, and smoking\\nhabits. To prevent peptic ulcer recurrence, the exclu-\\nsion of these factors is necessary. Idiopathic peptic\\nulcers are thought to be one of unknown causes of\\npeptic ulcers after successful H. pylori eradication;\\ntherefore, long-term maintenance treatment with PPIs\\nor H2RAs is suggested, when the cause of peptic ulcer\\nrecurrence is unclear.\\nNon-eradication therapy\\nInitial therapy.\\nGastric ulcer\\nCQ-9\\nWhat is the ﬁrst-line drug for the initial non-eradication\\ntreatment of gastric ulcers?\\n•\\nEither PPIs or P-CAB is recommended.\\nRecommendation: strong, 100% agreed, evidence level\\nA.\\n•\\nIf PPIs and P-CAB cannot be prescribed, H2RAs are\\nrecommended.\\nRecommendation: strong, 100% agreed, evidence level\\nB.\\n•\\nIf PPIs and P-CAB cannot be prescribed, pirenzepine,\\nsucralfate, and misoprostol are suggested.\\nRecommendation: weak, 100% agreed, evidence level\\nB.\\n•\\nIf the above drugs cannot be prescribed, gastric\\nmucosa-protecting agents (excluding sucralfate and\\nmisoprostol) are suggested.\\nRecommendation: weak, 100% agreed, evidence level\\nB.\\nComment: We recommend either PPIs or P-CAB due to\\ntheir demonstrated ulcer healing rate of PPIs being\\nsigniﬁcantly higher than that of H2RAs [35–38].\\nFig. 3 Forest plots of eradication rates of second-line therapy\\nbetween proton pump inhibitor/amoxicillin/metronidazole (PAM)\\ntherapy\\nand\\nproton\\npump\\ninhibitor/amoxicillin/clarithromycin\\n(PAC) therapy in the randomized control trials in Japan. In meta-\\nanalysis, the eradication rates of PAM therapy are signiﬁcantly higher\\nthan that of PAC therapy (odds ratio 0.14; 95% CI 0.08–0.24)\\nJ Gastroenterol (2021) 56:303–322\\n307\\n123\\nPAM\\nPAC\\nOddsRatio\\nOddsRatio\\nStudyorSubgroup\\nEvents\\nTotal\\nEvents\\nTotal\\nWeight\\nM-H,Fixed,95%CI\\nYear\\nM-H,Fixed,95%CI\\nNishizawa2015\\n6\\n64\\n16\\n60\\n17.6%\\n0.28[0.10,0.79]\\n2015\\nAdachi2017\\n6\\n72\\n20\\n68\\n22.2%\\n0.22[0.08,0.58]\\n2017\\nMabe2018\\n6\\n169\\n48\\n137\\n60.2%\\n0.07[0.03, 0.17]\\n2018\\nTotal (95% CI)\\n305\\n265\\n100.0%\\n0.14[0.08,0.24]\\nTotalevents\\n18\\n84\\nHeterogeneity:Chi²=5.17,df=2 (P =0.08);1²=61%\\n0.01\\n0.1\\n1\\n10\\n100\\nTestforoveralleffect:Z=7.18(P<0.00001)\\nFavours[PAM]\\nFavours[PAC]'"
      ]
     },
     "execution_count": 110,
     "metadata": {},
     "output_type": "execute_result"
    }
   ],
   "source": [
    "docs[151].page_content"
   ]
  },
  {
   "cell_type": "code",
   "execution_count": 108,
   "id": "8366c6f5-b130-4a01-ab9d-a8d50b54f130",
   "metadata": {},
   "outputs": [],
   "source": [
    "# docs[0].metadata"
   ]
  },
  {
   "cell_type": "code",
   "execution_count": 101,
   "id": "c5f2d28b-eac8-4ccd-8d7d-af56b582dfc4",
   "metadata": {},
   "outputs": [],
   "source": [
    "# print(docs[1].page_content)"
   ]
  },
  {
   "cell_type": "code",
   "execution_count": null,
   "id": "e1c7d016-575f-47d2-a1e9-3af34a572bfe",
   "metadata": {},
   "outputs": [],
   "source": []
  },
  {
   "cell_type": "code",
   "execution_count": 102,
   "id": "3f30f9a6-d5a1-41d9-bb34-9deedbc5f4a7",
   "metadata": {},
   "outputs": [],
   "source": [
    "from langchain_text_splitters import RecursiveCharacterTextSplitter"
   ]
  },
  {
   "cell_type": "code",
   "execution_count": 111,
   "id": "e5498a8f-27fa-4a55-9ee8-62270d3a41b0",
   "metadata": {},
   "outputs": [],
   "source": [
    "text_splitter = RecursiveCharacterTextSplitter(\n",
    "    # Set a really small chunk size, just to show.\n",
    "    separators=['\\n'],\n",
    "    chunk_size=2024,\n",
    "    chunk_overlap=204,\n",
    "    length_function=len,\n",
    ")"
   ]
  },
  {
   "cell_type": "code",
   "execution_count": 112,
   "id": "964b4e75-7480-4374-8596-a13e5c3b6149",
   "metadata": {},
   "outputs": [],
   "source": [
    "data = text_splitter.split_documents(docs)"
   ]
  },
  {
   "cell_type": "code",
   "execution_count": 114,
   "id": "35b68628-d149-49ca-a32f-045a3af3e8c2",
   "metadata": {},
   "outputs": [
    {
     "data": {
      "text/plain": [
       "1004"
      ]
     },
     "execution_count": 114,
     "metadata": {},
     "output_type": "execute_result"
    }
   ],
   "source": [
    "len(data)"
   ]
  },
  {
   "cell_type": "code",
   "execution_count": 117,
   "id": "a00bfc81-c067-493c-9c64-6855aef79b96",
   "metadata": {},
   "outputs": [
    {
     "data": {
      "text/plain": [
       "'and sex-adjusted case fatality rates from UGI bleeding decreased \\nfrom 3.8% to 2.7%. In 2009, the case fatality rate for UGI bleeding \\n(2.45%) was considerably lower than for UGI perforation (10.7%). \\nIn a nationwide population-based cohort study of 403,567 Taiwan\\xad\\nese patients, hospitalizations for complicated peptic ulcers decreased \\nsignificantly over a 10 year period8; thus the annual incidence of hos\\xad\\npitalizations for bleeding DU or for perforated DU fell from 108 to \\n40 and from 9.8 to 5.8 per 100,000, respectively. A similar decline \\nwas evident for bleeding and perforated GUs (from 117 to 61 and \\nfrom 11 to 6 per 100,000, respectively).\\u200a\\nETIOLOGY AND PATHOGENESIS\\nThe principal risk factors of PUD are Hp infection and NSAID \\nuse (Fig. 53.1) and as will be discussed, many patients with PUD \\nhave both of these risk factors. On the other hand, PUD patients \\nmay have neither of these risk factors (Hp-negative, NSAID-\\nnegative ulcers); some of these latter patients will have another \\ncause of ulcer such as gastrinoma (ZES; see Chapter 34), whereas \\nothers will have ulcers that are idiopathic.\\nCHAPTER OUTLINE\\nEPIDEMIOLOGY\\x08.�.�.�.�.�.�.�.�.�.�.�.�.�.�.�.�.�.�.�.�.�.�.�.�.�.�.�.�.�.�.�.�806\\nETIOLOGY AND PATHOGENESIS\\x08.�.�.�.�.�.�.�.�.�.�.�.�.�.�.�.�.�.�.�.�806\\nHp Infection\\x08.�.�.�.�.�.�.�.�.�.�.�.�.�.�.�.�.�.�.�.�.�.�.�.�.�.�.�.�.�.�.�.�.�.�807\\nUse of Aspirin and Other NSAIDs\\x08.�.�.�.�.�.�.�.�.�.�.�.�.�.�.�.�.�.�807\\nOther Causes of Ulcers and Idiopathic Ulcers\\x08.�.�.�.�.�.�.�.�.�808\\nCLINICAL FEATURES AND DIAGNOSIS\\x08.�.�.�.�.�.�.�.�.�.�.�.�.�.�.�808\\nMEDICAL THERAPY OF ACTIVE PEPTIC ULCER \\nDISEASE\\x08.�.�.�.�.�.�.�.�.�.�.�.�.�.�.�.�.�.�.�.�.�.�.�.�.�.�.�.�.�.�.�.�.�.�.�.�.�.�810\\nPharmaceutical Agents\\x08.�.�.�.�.�.�.�.�.�.�.�.�.�.�.�.�.�.�.�.�.�.�.�.�.�810\\nHp-associated Ulcers \\x08.�.�.�.�.�.�.�.�.�.�.�.�.�.�.�.�.�.�.�.�.�.�.�.�.�.�811\\nNSAID Ulcers\\x08.�.�.�.�.�.�.�.�.�.�.�.�.�.�.�.�.�.�.�.�.�.�.�.�.�.�.�.�.�.�.�.�.�812\\nOther Causes of Ulcers and Idiopathic Ulcers\\x08.�.�.�.�.�.�.�.�.�812'"
      ]
     },
     "execution_count": 117,
     "metadata": {},
     "output_type": "execute_result"
    }
   ],
   "source": [
    "data[2].page_content"
   ]
  },
  {
   "cell_type": "code",
   "execution_count": 171,
   "id": "3090d5e3-bb55-40c2-94ec-c5a11d31d90b",
   "metadata": {},
   "outputs": [],
   "source": [
    "def remove_ws(d):\n",
    "    text = d.page_content.replace('Downloaded for JongHoon Hyun (whdgnssla@hanmail.net) at Inje University from ClinicalKey.com by Elsevier on May 29, 2024. For personal use only. No other uses without permission. Copyright ©2024. Elsevier Inc. All rights reserved.', '')\n",
    "    d.page_content = text\n",
    "    return d"
   ]
  },
  {
   "cell_type": "code",
   "execution_count": 172,
   "id": "8f1780ae-b12e-40f7-a5a7-592de9e23d16",
   "metadata": {},
   "outputs": [],
   "source": [
    "# import re\n",
    "data = [remove_ws(d) for d in data]"
   ]
  },
  {
   "cell_type": "code",
   "execution_count": 179,
   "id": "b0c98617-ae5d-4335-8d9b-52138d4c21fd",
   "metadata": {},
   "outputs": [
    {
     "data": {
      "text/plain": [
       "'updated meta-analysis showed similar findings.22 Among patients who are about to start NSAID therapy, eradication of Hp reduces the subsequent risk of ulcer development.23,24 A systematic review has shown that testing for (and eradication of) Hp lowers the risk of peptic ulcers among NSAID users;25 however, eradication of Hp infection alone is insufficient to prevent peptic ulcer bleeding in NSAID users at high ulcer risk.26,27There is also evidence that Hp infection increases the risk of PUD in patients receiving low-dose aspirin. Among Hp-infected patients with recent ulcer bleeding who continued to take low-dose aspirin, successful eradication of Hp infection resulted in a very low risk of recurrent ulcer bleeding, similar to that seen with aspirin/omeprazole co-therapy.26 This low risk of ulcer rebleed\\xading after eradication of Hp was not seen in patients with bleeding ulcers who continued to take NSAIDs. In a long-term prospec\\xadtive cohort study,28 Hp-infected low-dose aspirin users (≤160 mg/day) with bleeding ulcers who resumed their aspirin had a low risk of recurrent ulcer bleeding after eradication of Hp, a risk that was not significantly different from the risk in new aspirin users with no history of ulcer disease (<1 bleed per 100 patient-years). In contrast, aspirin users with bleeding ulcers but without None knownNone knownZES, otherZES, otherNSAIDuseNSAIDuseHpinfectionHpinfectionDuodenalGastricFig. 53.1\\u2002 Pie charts depicting conditions associated with PUD. The percentages shown are rough approximations based on studies from Western countries. The relative contributions of Hp infection and NSAID use to peptic ulcer vary considerably among different populations and, within populations, vary with age and socioeconomic status. Also, the separation depicted in this figure is somewhat artificial because NSAID use and Hp infection often coexist.'"
      ]
     },
     "execution_count": 179,
     "metadata": {},
     "output_type": "execute_result"
    }
   ],
   "source": [
    "data[7].page_content"
   ]
  },
  {
   "cell_type": "code",
   "execution_count": 181,
   "id": "9145b42a-61be-45bd-9dbf-5f257956d347",
   "metadata": {},
   "outputs": [
    {
     "data": {
      "text/plain": [
       "list"
      ]
     },
     "execution_count": 181,
     "metadata": {},
     "output_type": "execute_result"
    }
   ],
   "source": [
    "type(data)"
   ]
  },
  {
   "cell_type": "code",
   "execution_count": 182,
   "id": "063f63f7-d40f-4a8c-857c-3befdb8bc6ca",
   "metadata": {},
   "outputs": [
    {
     "ename": "TypeError",
     "evalue": "Object of type Document is not JSON serializable",
     "output_type": "error",
     "traceback": [
      "\u001b[0;31m---------------------------------------------------------------------------\u001b[0m",
      "\u001b[0;31mTypeError\u001b[0m                                 Traceback (most recent call last)",
      "Cell \u001b[0;32mIn[182], line 4\u001b[0m\n\u001b[1;32m      1\u001b[0m \u001b[38;5;28;01mimport\u001b[39;00m \u001b[38;5;21;01mjson\u001b[39;00m\n\u001b[1;32m      3\u001b[0m \u001b[38;5;28;01mwith\u001b[39;00m \u001b[38;5;28mopen\u001b[39m(\u001b[38;5;124m\"\u001b[39m\u001b[38;5;124mextracted_data_acm.json\u001b[39m\u001b[38;5;124m\"\u001b[39m, \u001b[38;5;124m\"\u001b[39m\u001b[38;5;124mw\u001b[39m\u001b[38;5;124m\"\u001b[39m) \u001b[38;5;28;01mas\u001b[39;00m json_file:\n\u001b[0;32m----> 4\u001b[0m     \u001b[43mjson\u001b[49m\u001b[38;5;241;43m.\u001b[39;49m\u001b[43mdump\u001b[49m\u001b[43m(\u001b[49m\u001b[43mdata\u001b[49m\u001b[43m,\u001b[49m\u001b[43m \u001b[49m\u001b[43mjson_file\u001b[49m\u001b[43m)\u001b[49m\n",
      "File \u001b[0;32m~/miniconda3/envs/acm/lib/python3.10/json/__init__.py:179\u001b[0m, in \u001b[0;36mdump\u001b[0;34m(obj, fp, skipkeys, ensure_ascii, check_circular, allow_nan, cls, indent, separators, default, sort_keys, **kw)\u001b[0m\n\u001b[1;32m    173\u001b[0m     iterable \u001b[38;5;241m=\u001b[39m \u001b[38;5;28mcls\u001b[39m(skipkeys\u001b[38;5;241m=\u001b[39mskipkeys, ensure_ascii\u001b[38;5;241m=\u001b[39mensure_ascii,\n\u001b[1;32m    174\u001b[0m         check_circular\u001b[38;5;241m=\u001b[39mcheck_circular, allow_nan\u001b[38;5;241m=\u001b[39mallow_nan, indent\u001b[38;5;241m=\u001b[39mindent,\n\u001b[1;32m    175\u001b[0m         separators\u001b[38;5;241m=\u001b[39mseparators,\n\u001b[1;32m    176\u001b[0m         default\u001b[38;5;241m=\u001b[39mdefault, sort_keys\u001b[38;5;241m=\u001b[39msort_keys, \u001b[38;5;241m*\u001b[39m\u001b[38;5;241m*\u001b[39mkw)\u001b[38;5;241m.\u001b[39miterencode(obj)\n\u001b[1;32m    177\u001b[0m \u001b[38;5;66;03m# could accelerate with writelines in some versions of Python, at\u001b[39;00m\n\u001b[1;32m    178\u001b[0m \u001b[38;5;66;03m# a debuggability cost\u001b[39;00m\n\u001b[0;32m--> 179\u001b[0m \u001b[38;5;28;01mfor\u001b[39;00m chunk \u001b[38;5;129;01min\u001b[39;00m iterable:\n\u001b[1;32m    180\u001b[0m     fp\u001b[38;5;241m.\u001b[39mwrite(chunk)\n",
      "File \u001b[0;32m~/miniconda3/envs/acm/lib/python3.10/json/encoder.py:429\u001b[0m, in \u001b[0;36m_make_iterencode.<locals>._iterencode\u001b[0;34m(o, _current_indent_level)\u001b[0m\n\u001b[1;32m    427\u001b[0m     \u001b[38;5;28;01myield\u001b[39;00m _floatstr(o)\n\u001b[1;32m    428\u001b[0m \u001b[38;5;28;01melif\u001b[39;00m \u001b[38;5;28misinstance\u001b[39m(o, (\u001b[38;5;28mlist\u001b[39m, \u001b[38;5;28mtuple\u001b[39m)):\n\u001b[0;32m--> 429\u001b[0m     \u001b[38;5;28;01myield from\u001b[39;00m _iterencode_list(o, _current_indent_level)\n\u001b[1;32m    430\u001b[0m \u001b[38;5;28;01melif\u001b[39;00m \u001b[38;5;28misinstance\u001b[39m(o, \u001b[38;5;28mdict\u001b[39m):\n\u001b[1;32m    431\u001b[0m     \u001b[38;5;28;01myield from\u001b[39;00m _iterencode_dict(o, _current_indent_level)\n",
      "File \u001b[0;32m~/miniconda3/envs/acm/lib/python3.10/json/encoder.py:325\u001b[0m, in \u001b[0;36m_make_iterencode.<locals>._iterencode_list\u001b[0;34m(lst, _current_indent_level)\u001b[0m\n\u001b[1;32m    323\u001b[0m         \u001b[38;5;28;01melse\u001b[39;00m:\n\u001b[1;32m    324\u001b[0m             chunks \u001b[38;5;241m=\u001b[39m _iterencode(value, _current_indent_level)\n\u001b[0;32m--> 325\u001b[0m         \u001b[38;5;28;01myield from\u001b[39;00m chunks\n\u001b[1;32m    326\u001b[0m \u001b[38;5;28;01mif\u001b[39;00m newline_indent \u001b[38;5;129;01mis\u001b[39;00m \u001b[38;5;129;01mnot\u001b[39;00m \u001b[38;5;28;01mNone\u001b[39;00m:\n\u001b[1;32m    327\u001b[0m     _current_indent_level \u001b[38;5;241m-\u001b[39m\u001b[38;5;241m=\u001b[39m \u001b[38;5;241m1\u001b[39m\n",
      "File \u001b[0;32m~/miniconda3/envs/acm/lib/python3.10/json/encoder.py:438\u001b[0m, in \u001b[0;36m_make_iterencode.<locals>._iterencode\u001b[0;34m(o, _current_indent_level)\u001b[0m\n\u001b[1;32m    436\u001b[0m         \u001b[38;5;28;01mraise\u001b[39;00m \u001b[38;5;167;01mValueError\u001b[39;00m(\u001b[38;5;124m\"\u001b[39m\u001b[38;5;124mCircular reference detected\u001b[39m\u001b[38;5;124m\"\u001b[39m)\n\u001b[1;32m    437\u001b[0m     markers[markerid] \u001b[38;5;241m=\u001b[39m o\n\u001b[0;32m--> 438\u001b[0m o \u001b[38;5;241m=\u001b[39m \u001b[43m_default\u001b[49m\u001b[43m(\u001b[49m\u001b[43mo\u001b[49m\u001b[43m)\u001b[49m\n\u001b[1;32m    439\u001b[0m \u001b[38;5;28;01myield from\u001b[39;00m _iterencode(o, _current_indent_level)\n\u001b[1;32m    440\u001b[0m \u001b[38;5;28;01mif\u001b[39;00m markers \u001b[38;5;129;01mis\u001b[39;00m \u001b[38;5;129;01mnot\u001b[39;00m \u001b[38;5;28;01mNone\u001b[39;00m:\n",
      "File \u001b[0;32m~/miniconda3/envs/acm/lib/python3.10/json/encoder.py:179\u001b[0m, in \u001b[0;36mJSONEncoder.default\u001b[0;34m(self, o)\u001b[0m\n\u001b[1;32m    160\u001b[0m \u001b[38;5;28;01mdef\u001b[39;00m \u001b[38;5;21mdefault\u001b[39m(\u001b[38;5;28mself\u001b[39m, o):\n\u001b[1;32m    161\u001b[0m \u001b[38;5;250m    \u001b[39m\u001b[38;5;124;03m\"\"\"Implement this method in a subclass such that it returns\u001b[39;00m\n\u001b[1;32m    162\u001b[0m \u001b[38;5;124;03m    a serializable object for ``o``, or calls the base implementation\u001b[39;00m\n\u001b[1;32m    163\u001b[0m \u001b[38;5;124;03m    (to raise a ``TypeError``).\u001b[39;00m\n\u001b[0;32m   (...)\u001b[0m\n\u001b[1;32m    177\u001b[0m \n\u001b[1;32m    178\u001b[0m \u001b[38;5;124;03m    \"\"\"\u001b[39;00m\n\u001b[0;32m--> 179\u001b[0m     \u001b[38;5;28;01mraise\u001b[39;00m \u001b[38;5;167;01mTypeError\u001b[39;00m(\u001b[38;5;124mf\u001b[39m\u001b[38;5;124m'\u001b[39m\u001b[38;5;124mObject of type \u001b[39m\u001b[38;5;132;01m{\u001b[39;00mo\u001b[38;5;241m.\u001b[39m\u001b[38;5;18m__class__\u001b[39m\u001b[38;5;241m.\u001b[39m\u001b[38;5;18m__name__\u001b[39m\u001b[38;5;132;01m}\u001b[39;00m\u001b[38;5;124m \u001b[39m\u001b[38;5;124m'\u001b[39m\n\u001b[1;32m    180\u001b[0m                     \u001b[38;5;124mf\u001b[39m\u001b[38;5;124m'\u001b[39m\u001b[38;5;124mis not JSON serializable\u001b[39m\u001b[38;5;124m'\u001b[39m)\n",
      "\u001b[0;31mTypeError\u001b[0m: Object of type Document is not JSON serializable"
     ]
    }
   ],
   "source": [
    "import json\n",
    "\n",
    "with open(\"extracted_data_acm.json\", \"w\") as json_file:\n",
    "    json.dump(data, json_file)"
   ]
  },
  {
   "cell_type": "code",
   "execution_count": 193,
   "id": "8788f574-cba1-4e7e-b270-00505f11b5af",
   "metadata": {},
   "outputs": [],
   "source": [
    "import json\n",
    "\n",
    "# Assuming Document class has 'metadata' and 'page_content' attributes\n",
    "# Define a function to convert the Document object into a dictionary\n",
    "def document_to_dict(doc):\n",
    "    return {\n",
    "        'metadata': doc.metadata,   # assuming doc.metadata is already a dictionary\n",
    "        'page_content': doc.page_content  # assuming doc.page_content is a string\n",
    "    }\n",
    "\n",
    "# Function to save list of Document objects to JSON\n",
    "def save_documents_to_json(document_list, filename='documents.json'):\n",
    "    # Convert the list of Document objects to a list of dictionaries\n",
    "    document_dicts = [document_to_dict(doc) for doc in document_list]\n",
    "    \n",
    "    # Write the list of dictionaries to a JSON file\n",
    "    with open(filename, 'w') as f:\n",
    "        json.dump(document_dicts, f, indent=4)\n",
    "\n",
    "# Example usage with your data list\n",
    "# Assuming 'data' is a list of Document objects\n",
    "save_documents_to_json(data)"
   ]
  },
  {
   "cell_type": "code",
   "execution_count": 192,
   "id": "522e38d1-2447-44f4-9c86-6e726c623450",
   "metadata": {},
   "outputs": [],
   "source": [
    "# data[0]"
   ]
  },
  {
   "cell_type": "code",
   "execution_count": null,
   "id": "8e9cb830-c790-46ea-b241-114e5f947f25",
   "metadata": {},
   "outputs": [],
   "source": [
    "import json\n",
    "\n",
    "# Assuming you have a Document class\n",
    "class Document:\n",
    "    def __init__(self, metadata, page_content):\n",
    "        self.metadata = metadata\n",
    "        self.page_content = page_content\n",
    "\n",
    "    def __repr__(self):\n",
    "        # Customize the representation to match the output format you want\n",
    "        return f\"Document(metadata={self.metadata}, page_content={self.page_content})\"\n",
    "\n",
    "# Function to read the JSON file and load it as a list of Document objects\n",
    "def load_documents_from_json(filename='documents.json'):\n",
    "    with open(filename, 'r') as f:\n",
    "        document_dicts = json.load(f)\n",
    "    \n",
    "    # Convert each dictionary back into a Document object\n",
    "    document_list = [Document(d['metadata'], d['page_content']) for d in document_dicts]\n",
    "    return document_list\n",
    "\n",
    "# Example usage\n",
    "loaded_data = load_documents_from_json()\n",
    "\n",
    "# Now you can access the loaded Document objects\n",
    "for doc in loaded_data:\n",
    "    print(doc.metadata)\n",
    "    print(doc.page_content[:100])  # Print first 100 characters of page content\n"
   ]
  },
  {
   "cell_type": "code",
   "execution_count": 214,
   "id": "434301f1-6a6a-466e-9c15-17b42e235103",
   "metadata": {},
   "outputs": [],
   "source": [
    "# loaded_data[0].page_content"
   ]
  },
  {
   "cell_type": "code",
   "execution_count": 215,
   "id": "b60e9dd8-36fe-43a5-b7a8-9681172bbfe9",
   "metadata": {},
   "outputs": [],
   "source": [
    "# data[0].page_content"
   ]
  },
  {
   "cell_type": "code",
   "execution_count": 218,
   "id": "65ab697c-3b29-420b-963c-acc8c61fba15",
   "metadata": {},
   "outputs": [
    {
     "data": {
      "text/plain": [
       "{'source': 'Gastrointestinal and Liver Disease.pdf',\n",
       " 'file_path': 'Gastrointestinal and Liver Disease.pdf',\n",
       " 'page': 1,\n",
       " 'total_pages': 272,\n",
       " 'format': 'PDF 1.7',\n",
       " 'title': 'Management of Nonvariceal Upper Gastrointestinal Bleeding: Guideline Recommendations From the International Consensus Group',\n",
       " 'author': 'Alan N.\\xa0Barkun, Majid\\xa0Almadi, Ernst J.\\xa0Kuipers, Loren\\xa0Laine, Joseph\\xa0Sung, Frances\\xa0Tse, Grigorios I.\\xa0Leontiadis, Neena S.\\xa0Abraham, Xavier\\xa0Calvet, Francis K.L.\\xa0Chan, James\\xa0Douketis, Robert\\xa0Enns, Ian M.\\xa0Gralnek, Vipul\\xa0Jairath, Dennis\\xa0Jensen, James\\xa0Lau, Gregory Y.H.\\xa0Lip, Romaric\\xa0Loffroy, Fauze\\xa0Maluf-Filho, Andrew C.\\xa0Meltzer, Nageshwar\\xa0Reddy, John R.\\xa0Saltzman, John K.\\xa0Marshall, and Marc\\xa0Bardou',\n",
       " 'subject': 'Ann Intern Med 2019.171:805-822',\n",
       " 'keywords': '',\n",
       " 'creator': 'XPP',\n",
       " 'producer': 'Adobe LiveCycle PDF Generator; modified using iText 4.2.0 by 1T3XT',\n",
       " 'creationDate': '13th September 2020',\n",
       " 'modDate': 'D:20240611221533Z',\n",
       " 'trapped': ''}"
      ]
     },
     "execution_count": 218,
     "metadata": {},
     "output_type": "execute_result"
    }
   ],
   "source": [
    "data[5].metadata"
   ]
  },
  {
   "cell_type": "code",
   "execution_count": null,
   "id": "af09a001-f1ed-4eb9-a7a5-c59804bf052a",
   "metadata": {},
   "outputs": [],
   "source": []
  }
 ],
 "metadata": {
  "kernelspec": {
   "display_name": "Python 3 (ipykernel)",
   "language": "python",
   "name": "python3"
  },
  "language_info": {
   "codemirror_mode": {
    "name": "ipython",
    "version": 3
   },
   "file_extension": ".py",
   "mimetype": "text/x-python",
   "name": "python",
   "nbconvert_exporter": "python",
   "pygments_lexer": "ipython3",
   "version": "3.10.14"
  }
 },
 "nbformat": 4,
 "nbformat_minor": 5
}
