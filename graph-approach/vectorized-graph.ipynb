{
 "cells": [
  {
   "cell_type": "code",
   "execution_count": 107,
   "id": "77dc73cd-3586-43a9-b018-1085a5562607",
   "metadata": {},
   "outputs": [],
   "source": [
    "from langchain_text_splitters import RecursiveCharacterTextSplitter\n",
    "from langchain_core.prompts import ChatPromptTemplate\n",
    "from langchain_core.prompts.prompt import PromptTemplate\n",
    "from langchain_core.messages import AIMessage, HumanMessage\n",
    "from langchain_core.output_parsers import StrOutputParser\n",
    "from langchain_core.runnables import ConfigurableField\n",
    "from langchain_experimental.graph_transformers import LLMGraphTransformer\n",
    "from langchain_ollama.llms import OllamaLLM\n",
    "from langchain_ollama import ChatOllama\n",
    "from typing import Tuple, List, Optional\n",
    "from neo4j import GraphDatabase\n",
    "from langchain.chains import GraphCypherQAChain\n",
    "from langchain.embeddings import HuggingFaceEmbeddings\n",
    "# from pydantic.v1 import BaseModel, Field\n",
    "from langchain_core.pydantic_v1 import BaseModel, Field\n",
    "from langchain_community.vectorstores.neo4j_vector import remove_lucene_chars\n",
    "from langchain_core.runnables import (\n",
    "    RunnableBranch,\n",
    "    RunnableLambda,\n",
    "    RunnableParallel,\n",
    "    RunnablePassthrough,\n",
    ")\n",
    "\n",
    "from neo4j import GraphDatabase\n",
    "from langchain_community.vectorstores import Neo4jVector\n",
    "from langchain_community.graphs import Neo4jGraph\n",
    "from langchain.vectorstores import FAISS\n",
    "\n",
    "import pickle\n",
    "import os"
   ]
  },
  {
   "cell_type": "code",
   "execution_count": 3,
   "id": "2ad0f82a-4f5e-4e8b-a78a-1e77a9436ca5",
   "metadata": {},
   "outputs": [],
   "source": [
    "NEO4J_URI=\"neo4j+s://9269fc71.databases.neo4j.io\"\n",
    "NEO4J_USERNAME=\"neo4j\"\n",
    "NEO4J_PASSWORD=\"lOnpSSiAFQg0uWzA1EvYYBhK45_rWbxXb9SHRDwZRfk\""
   ]
  },
  {
   "cell_type": "code",
   "execution_count": 4,
   "id": "a31b225f-4cca-415e-b40d-695471473fa1",
   "metadata": {},
   "outputs": [],
   "source": [
    "# os.environ[\"OPENAI_API_KEY\"] = OPENAI_API_KEY\n",
    "os.environ[\"NEO4J_URI\"] = NEO4J_URI\n",
    "os.environ[\"NEO4J_USERNAME\"] = NEO4J_USERNAME\n",
    "os.environ[\"NEO4J_PASSWORD\"] = NEO4J_PASSWORD"
   ]
  },
  {
   "cell_type": "code",
   "execution_count": 5,
   "id": "7597df0c-f7b8-47dd-ac22-79ceabb8e08f",
   "metadata": {},
   "outputs": [],
   "source": [
    "graph = Neo4jGraph()"
   ]
  },
  {
   "cell_type": "code",
   "execution_count": 6,
   "id": "0b729a4a-a6e8-4323-92a4-e7bd1f955437",
   "metadata": {},
   "outputs": [],
   "source": [
    "graph_documents = Neo4jGraph(url=os.environ[\"NEO4J_URI\"], username=os.environ[\"NEO4J_USERNAME\"], password=os.environ[\"NEO4J_PASSWORD\"])"
   ]
  },
  {
   "cell_type": "code",
   "execution_count": 85,
   "id": "a4f1538f-2abd-4d3f-8da9-eca1fbcc0f43",
   "metadata": {},
   "outputs": [],
   "source": [
    "llm = ChatOllama(model='llama3.2', temperature=0, num_gpu=torch.cuda.device_count())"
   ]
  },
  {
   "cell_type": "code",
   "execution_count": 7,
   "id": "f8f0f10f-c95c-4aae-9866-59a7fef7606a",
   "metadata": {},
   "outputs": [
    {
     "name": "stderr",
     "output_type": "stream",
     "text": [
      "C:\\Users\\chand\\AppData\\Local\\Temp\\ipykernel_2416\\576819256.py:3: LangChainDeprecationWarning: The class `HuggingFaceEmbeddings` was deprecated in LangChain 0.2.2 and will be removed in 1.0. An updated version of the class exists in the :class:`~langchain-huggingface package and should be used instead. To use it run `pip install -U :class:`~langchain-huggingface` and import as `from :class:`~langchain_huggingface import HuggingFaceEmbeddings``.\n",
      "  embeddings = HuggingFaceEmbeddings(\n",
      "C:\\Users\\chand\\.conda\\envs\\fusgraph\\Lib\\site-packages\\tqdm\\auto.py:21: TqdmWarning: IProgress not found. Please update jupyter and ipywidgets. See https://ipywidgets.readthedocs.io/en/stable/user_install.html\n",
      "  from .autonotebook import tqdm as notebook_tqdm\n"
     ]
    }
   ],
   "source": [
    "embedding_model_name = \"sentence-transformers/all-mpnet-base-v2\"\n",
    "model_kwargs = {\"device\": \"cuda\"}\n",
    "embeddings = HuggingFaceEmbeddings(\n",
    "  model_name=embedding_model_name,\n",
    "  model_kwargs=model_kwargs\n",
    ")"
   ]
  },
  {
   "cell_type": "code",
   "execution_count": 9,
   "id": "031fc015-5adc-480b-aafc-237f904f6cb1",
   "metadata": {},
   "outputs": [
    {
     "data": {
      "text/plain": [
       "HuggingFaceEmbeddings(client=SentenceTransformer(\n",
       "  (0): Transformer({'max_seq_length': 384, 'do_lower_case': False}) with Transformer model: MPNetModel \n",
       "  (1): Pooling({'word_embedding_dimension': 768, 'pooling_mode_cls_token': False, 'pooling_mode_mean_tokens': True, 'pooling_mode_max_tokens': False, 'pooling_mode_mean_sqrt_len_tokens': False, 'pooling_mode_weightedmean_tokens': False, 'pooling_mode_lasttoken': False, 'include_prompt': True})\n",
       "  (2): Normalize()\n",
       "), model_name='sentence-transformers/all-mpnet-base-v2', cache_folder=None, model_kwargs={'device': 'cuda'}, encode_kwargs={}, multi_process=False, show_progress=False)"
      ]
     },
     "execution_count": 9,
     "metadata": {},
     "output_type": "execute_result"
    }
   ],
   "source": [
    "embeddings"
   ]
  },
  {
   "cell_type": "code",
   "execution_count": 10,
   "id": "ce15dd9e-7f36-4419-a3b1-c95fa09c75f1",
   "metadata": {},
   "outputs": [],
   "source": [
    "vector_index = Neo4jVector.from_existing_graph(\n",
    "    embeddings,\n",
    "    search_type=\"hybrid\",\n",
    "    node_label=\"Document\",\n",
    "    text_node_properties=[\"text\"],\n",
    "    embedding_node_property=\"embedding\"\n",
    ")"
   ]
  },
  {
   "cell_type": "code",
   "execution_count": 17,
   "id": "5ff55ed1-8530-4f56-814d-2a9fce7ab6f8",
   "metadata": {},
   "outputs": [
    {
     "data": {
      "text/plain": [
       "<langchain_community.vectorstores.neo4j_vector.Neo4jVector at 0x1ac25d56000>"
      ]
     },
     "execution_count": 17,
     "metadata": {},
     "output_type": "execute_result"
    }
   ],
   "source": [
    "vector_index"
   ]
  },
  {
   "cell_type": "code",
   "execution_count": 71,
   "id": "7cc37d12-69f7-40db-824d-1684ce2ff54e",
   "metadata": {},
   "outputs": [],
   "source": [
    "allowed_nodes = [\n",
    "    \"Disease\", \"Cause\", \"Symptom\", \"Complication\", \"Treatment\", \"Medication\",\n",
    "    \"Test\", \"Risk Factor\", \"Diagnosis\", \"Side Effect\", \"Procedure\", \n",
    "    \"Condition Stage\", \"Disease Type\", \"Imaging Type\"\n",
    "]"
   ]
  },
  {
   "cell_type": "code",
   "execution_count": 88,
   "id": "29ac374e-6997-4bd9-b156-04a8b049897f",
   "metadata": {},
   "outputs": [],
   "source": [
    "# Define the schema without validators to avoid deepcopy issues\n",
    "class Entities(BaseModel):\n",
    "    \"\"\"Identifying information about entities.\"\"\"\n",
    "\n",
    "    nodes: List[str] = Field(\n",
    "        ...,\n",
    "        description=\"All the Disease, Cause, Symptom, Complication, Treatment, Medication, Test, Risk Factor, Diagnosis, Side Effect, Procedure, Condition Stage, Disease Type, Imaging Type\"\n",
    "                    \"that appear in the text\"\n",
    "    )"
   ]
  },
  {
   "cell_type": "code",
   "execution_count": 149,
   "id": "8246a7c0-a8cf-45ad-b9f8-9ea0c4ec0ebb",
   "metadata": {},
   "outputs": [],
   "source": [
    "# Define the prompt template with instructions for node extraction\n",
    "prompt = ChatPromptTemplate.from_messages(\n",
    "    [\n",
    "        (\n",
    "            \"system\",\n",
    "            \"You are tasked with extracting the diseases, conditions, Diagnosis or symptoms from the qiven question \"\n",
    "            \" for example, for the question: How is a gastric ulcer diagnosed?, you are going to find that gastric ulcer is a dieases and you also found that diagnosis is used in the question, so you are going to return gastric ulcer\"\n",
    "            # \"You are tasked with extracting Disease, Cause, Symptom, Complication, Treatment, Medication, Test, Risk Factor, Diagnosis, Side Effect, Procedure, Condition Stage, Disease Type, Imaging Type from the text\"\n",
    "        ),\n",
    "        (\n",
    "            \"human\",\n",
    "            \"Use the specified format to extract information from the following input: {question}.\"\n",
    "        ),\n",
    "    ]\n",
    ")"
   ]
  },
  {
   "cell_type": "code",
   "execution_count": 150,
   "id": "d125d775-7ff5-48f1-8c0d-841daf0a57c6",
   "metadata": {},
   "outputs": [],
   "source": [
    "entity_chain = prompt | llm.with_structured_output(Entities)"
   ]
  },
  {
   "cell_type": "code",
   "execution_count": 151,
   "id": "22f58300-d235-4fe5-ae21-1cfdeea7c52f",
   "metadata": {},
   "outputs": [
    {
     "data": {
      "text/plain": [
       "Entities(nodes=['Gastric ulcer', 'NSAID-induced gastric mucosal injury'])"
      ]
     },
     "execution_count": 151,
     "metadata": {},
     "output_type": "execute_result"
    }
   ],
   "source": [
    "entity_chain.invoke({\"question\": \"How do NSAIDs induce gastric mucosal injury leading to ulcers?\"})"
   ]
  },
  {
   "cell_type": "code",
   "execution_count": 152,
   "id": "21ac97a9-384a-44f5-8b17-69ca9db2156f",
   "metadata": {},
   "outputs": [],
   "source": [
    "def generate_full_text_query(input: str) -> str:\n",
    "    full_text_query = \"\"\n",
    "    words = [el for el in remove_lucene_chars(input).split() if el]\n",
    "    for word in words[:-1]:\n",
    "        full_text_query += f\" {word}~2 AND\"\n",
    "    full_text_query += f\" {words[-1]}~2\"\n",
    "    return full_text_query.strip()"
   ]
  },
  {
   "cell_type": "code",
   "execution_count": 153,
   "id": "48bc03de-4c0e-4066-9b3a-9c441d8784eb",
   "metadata": {},
   "outputs": [],
   "source": [
    "# Fulltext index query\n",
    "def structured_retriever(question: str) -> str:\n",
    "    result = \"\"\n",
    "    entities = entity_chain.invoke({\"question\": question})\n",
    "    for entity in entities.nodes:\n",
    "        response = graph.query(\n",
    "            \"\"\"CALL db.index.fulltext.queryNodes('entity', $query)\n",
    "            YIELD node,score\n",
    "            CALL {\n",
    "              WITH node\n",
    "              MATCH (node)-[r:!MENTIONS]->(neighbor)\n",
    "              RETURN node.id + ' - ' + type(r) + ' -> ' + neighbor.id AS output\n",
    "              UNION ALL\n",
    "              WITH node\n",
    "              MATCH (node)<-[r:!MENTIONS]-(neighbor)\n",
    "              RETURN neighbor.id + ' - ' + type(r) + ' -> ' +  node.id AS output\n",
    "            }\n",
    "            RETURN output\n",
    "            \"\"\",\n",
    "            {\"query\": generate_full_text_query(entity)},\n",
    "        )\n",
    "        result += \"\\n\".join([el['output'] for el in response])\n",
    "    return result"
   ]
  },
  {
   "cell_type": "code",
   "execution_count": 165,
   "id": "c2cd5e88-dd85-4cfe-bd65-bdf2271b2583",
   "metadata": {},
   "outputs": [
    {
     "name": "stderr",
     "output_type": "stream",
     "text": [
      "Received notification from DBMS server: {severity: WARNING} {code: Neo.ClientNotification.Statement.FeatureDeprecationWarning} {category: DEPRECATION} {title: This feature is deprecated and will be removed in future versions.} {description: CALL subquery without a variable scope clause is now deprecated. Use CALL (node, node) { ... }} {position: line: 3, column: 13, offset: 93} for query: \"CALL db.index.fulltext.queryNodes('entity', $query)\\n            YIELD node,score\\n            CALL {\\n              WITH node\\n              MATCH (node)-[r:!MENTIONS]->(neighbor)\\n              RETURN node.id + ' - ' + type(r) + ' -> ' + neighbor.id AS output\\n              UNION ALL\\n              WITH node\\n              MATCH (node)<-[r:!MENTIONS]-(neighbor)\\n              RETURN neighbor.id + ' - ' + type(r) + ' -> ' +  node.id AS output\\n            }\\n            RETURN output\\n            \"\n",
      "Received notification from DBMS server: {severity: WARNING} {code: Neo.ClientNotification.Statement.FeatureDeprecationWarning} {category: DEPRECATION} {title: This feature is deprecated and will be removed in future versions.} {description: CALL subquery without a variable scope clause is now deprecated. Use CALL (node, node) { ... }} {position: line: 3, column: 13, offset: 93} for query: \"CALL db.index.fulltext.queryNodes('entity', $query)\\n            YIELD node,score\\n            CALL {\\n              WITH node\\n              MATCH (node)-[r:!MENTIONS]->(neighbor)\\n              RETURN node.id + ' - ' + type(r) + ' -> ' + neighbor.id AS output\\n              UNION ALL\\n              WITH node\\n              MATCH (node)<-[r:!MENTIONS]-(neighbor)\\n              RETURN neighbor.id + ' - ' + type(r) + ' -> ' +  node.id AS output\\n            }\\n            RETURN output\\n            \"\n"
     ]
    },
    {
     "name": "stdout",
     "output_type": "stream",
     "text": [
      "Gastric ulcer - ASSOCIATED_WITH -> Bleeding\n",
      "Gastric ulcer - ASSOCIATED_WITH -> Peptic ulcer disease\n",
      "Gastric ulcer - ASSOCIATED_WITH -> Mass\n",
      "Gastric ulcer - HAS_SYMPTOM -> Vomiting\n",
      "Gastric ulcer - HAS_SYMPTOM -> Nausea\n",
      "Gastric ulcer - HAS_SYMPTOM -> Pain soon after meals\n",
      "Gastric ulcer - HAS_SYMPTOM -> Weight loss\n",
      "Gastric ulcer - HAS_SYMPTOM -> Anorexia\n",
      "H2RAs - TREATED_WITH -> Gastric ulcer\n",
      "PPIs - TREATED_WITH -> Gastric ulcer\n",
      "Sucralfate - TREATED_WITH -> Gastric ulcer\n",
      "Misoprostol - TREATED_WITH -> Gastric ulcer\n",
      "Proton pump inhibitors - TREATED_WITH -> Gastric ulcer\n",
      "P-CAB - TREATED_WITH -> Gastric ulcer\n",
      "Pirenzepine - TREATED_WITH -> Gastric ulcer\n",
      "proton pump inhibitors - TREATED_WITH -> gastric ulcer\n",
      "Gastric Ulcer - HAS_SYMPTOM -> ulcer stenosis; pyloric stenosis; oesophageal gastric varices; Barrett's oesophagus measuring >3 cm; intractable ulcer; digestive ulcer perforation or malignancy on upper GI endoscopy\n",
      "Gastric Ulcer - HAS_SYMPTOM -> GI symptoms\n",
      "Gastric Ulcer - COMPLICATES -> adverse events (AEs)\n",
      "Gastric Ulcer - HAS_RISK_FACTOR -> Helicobacter pylori\n",
      "Gastric Ulcer - DIAGNOSED_BY -> upper gastrointestinal (GI) endoscopy\n",
      "Lansoprazole - TREATED_WITH -> Gastric Ulcer\n",
      "Tegoprazan - TREATED_WITH -> Gastric Ulcer\n",
      "Helicobacter pylori - CAUSES -> Gastric Ulcer\n",
      "Lansoprazole - HAS_RISK_FACTOR -> Gastric Ulcer\n",
      "Tegoprazan - HAS_RISK_FACTOR -> Gastric Ulcer\n",
      "Upper GI Endoscopy - DIAGNOSED_BY -> Gastric Ulcer\n",
      "Gastric ulcers - ASSOCIATED_WITH -> Malignant disease\n",
      "Pepsinogen - ASSOCIATED_WITH -> Gastric ulcers\n",
      "Lansoprazole - TREATED_WITH -> Gastric ulcers\n",
      "Bacterial eradication therapy - TREATED_WITH -> Gastric ulcers\n",
      "Tegoprazan - TREATED_WITH -> Gastric ulcers\n",
      "Thrombin injection - COMPLICATES -> Gastric ulcers\n",
      "Cyanoacrylate glue injection - HAS_RISK_FACTOR -> Gastric ulcers\n",
      "GASTRIC ULCERS - ASSOCIATED_WITH -> malignancy\n",
      "gastric ulcers - ASSOCIATED_WITH -> NSAID therapy\n",
      "gastric ulcers - TREATED_WITH -> COX-2 selective inhibitors\n",
      "gastric ulcers - HAS_RISK_FACTOR -> malignant disease\n",
      "H pylori infection - ASSOCIATED_WITH -> gastric ulcers\n",
      "PPIs - TREATED_WITH -> gastric ulcers\n",
      "misoprostol - TREATED_WITH -> gastric ulcers\n",
      "peptic ulcer disease - HAS_SYMPTOM -> gastric ulcers\n",
      "Helicobacter pylori - CAUSES -> gastric ulcers\n",
      "H pylori - CAUSES -> gastric ulcers\n",
      "H pylori infection - CAUSES -> gastric ulcers\n",
      "Gastric Ulcers - COMPLICATES -> Peptic Ulcer Perforation\n",
      "Helicobacter pylori - CAUSES -> gastric ulcer disease\n",
      "Lansoprazole - ASSOCIATED_WITH -> Gastric Ulcer Healing\n",
      "Tegoprazan - ASSOCIATED_WITH -> Gastric Ulcer Healing\n",
      "Hyperparathyroidism - ASSOCIATED_WITH -> Gastric ulcer disease\n",
      "NSAIDs - CAUSES -> gastric ulcer development\n",
      "PPI - TREATED_WITH -> remnant gastric ulcer\n",
      "Ligation - COMPLICATES -> Bleeding gastric ulcers\n",
      "Butyl-cyanoacrylate - CAUSES -> Bleeding gastric ulcers\n",
      "Peptic Ulcer Disease - HAS_SYMPTOM -> Hemorrhagic Gastric Ulcers\n",
      "Patients with Gastric Ulcer - TREATED_WITH -> CJ-12420\n",
      "Patients with Gastric Ulcer - HAS_RISK_FACTOR -> clinically significant hepatic, renal, cardiovascular, respiratory, endocrine or central nervous system disorder\n",
      "acid suppression therapy - TREATED_WITH -> NSAID-induced gastric ulcers\n",
      "PPI groups - HAS_RISK_FACTOR -> gastric or duodenal ulcers\n",
      "H2 antagonists - TREATED_WITH -> NSAID-associated gastric ulcers\n",
      "misoprostol - TREATED_WITH -> gastric and duodenal ulcers\n",
      "pump inhibitors - TREATED_WITH -> gastric and duodenal ulcers\n",
      "omeprazole - TREATED_WITH -> ulcers in the gastric remnant\n",
      "misoprostol - TREATED_WITH -> ulcers in the gastric remnant\n",
      "PPI - TREATED_WITH -> ulcers in the gastric remnant\n",
      "sucralfate - TREATED_WITH -> ulcers in the gastric remnant\n",
      "colloidal bismuth - TREATED_WITH -> ulcers in the gastric remnant\n",
      "cimetidine - TREATED_WITH -> ulcers in the gastric remnant\n",
      "PPIs - TREATED_WITH -> Gastric and duodenal ulcers in NSAID users\n",
      "Zollinger-Ellison syndrome - ASSOCIATED_WITH -> severe peptic ulcer disease caused by a gastrin-producing endocrine tumor\n",
      "Gastric Ulcer - HAS_SYMPTOM -> ulcer stenosis; pyloric stenosis; oesophageal gastric varices; Barrett's oesophagus measuring >3 cm; intractable ulcer; digestive ulcer perforation or malignancy on upper GI endoscopy\n",
      "primary prevention of peptic ulcers and gastric cancer - ASSOCIATED_WITH -> be screened for\n",
      "hemostatic clips - TREATED_WITH -> Forest Ia, Ib, and IIa gastric or duodenal ulcers\n"
     ]
    }
   ],
   "source": [
    "print(structured_retriever(\"How do NSAIDs induce gastric mucosal injury leading to ulcers?\"))"
   ]
  },
  {
   "cell_type": "code",
   "execution_count": 155,
   "id": "bd9497db-339f-4041-af32-37120cf12e40",
   "metadata": {},
   "outputs": [],
   "source": [
    "def retriever(question: str):\n",
    "    print(f\"Search query: {question}\")\n",
    "    structured_data = structured_retriever(question)\n",
    "    unstructured_data = [el.page_content for el in vector_index.similarity_search(question)]\n",
    "    final_data = f\"\"\"Structured data:\n",
    "{structured_data}\n",
    "Unstructured data:\n",
    "{\"#Document \". join(unstructured_data)}\n",
    "    \"\"\"\n",
    "    return final_data"
   ]
  },
  {
   "cell_type": "code",
   "execution_count": 156,
   "id": "9120a1a5-96c2-4ccd-a8b9-a9215285a316",
   "metadata": {},
   "outputs": [],
   "source": [
    "_template = \"\"\"Given the following conversation and a follow up question, rephrase the follow up question to be a standalone question,\n",
    "in its original language.\n",
    "Chat History:\n",
    "{chat_history}\n",
    "Follow Up Input: {question}\n",
    "Standalone question:\"\"\""
   ]
  },
  {
   "cell_type": "code",
   "execution_count": 157,
   "id": "33d8aaa5-c7c6-4d13-97ad-de0798289dfd",
   "metadata": {},
   "outputs": [],
   "source": [
    "CONDENSE_QUESTION_PROMPT = PromptTemplate.from_template(_template)"
   ]
  },
  {
   "cell_type": "code",
   "execution_count": 158,
   "id": "e3ebeac5-85ad-4b03-bf48-72df67ecf4d1",
   "metadata": {},
   "outputs": [],
   "source": [
    "def _format_chat_history(chat_history: List[Tuple[str, str]]) -> List:\n",
    "    buffer = []\n",
    "    for human, ai in chat_history:\n",
    "        buffer.append(HumanMessage(content=human))\n",
    "        buffer.append(AIMessage(content=ai))\n",
    "    return buffer"
   ]
  },
  {
   "cell_type": "code",
   "execution_count": 159,
   "id": "148913f2-4ebd-4e17-99df-bd49e57c4d0a",
   "metadata": {},
   "outputs": [],
   "source": [
    "_search_query = RunnableBranch(\n",
    "    # If input includes chat_history, we condense it with the follow-up question\n",
    "    (\n",
    "        RunnableLambda(lambda x: bool(x.get(\"chat_history\"))).with_config(\n",
    "            run_name=\"HasChatHistoryCheck\"\n",
    "        ),  # Condense follow-up question and chat into a standalone_question\n",
    "        RunnablePassthrough.assign(\n",
    "            chat_history=lambda x: _format_chat_history(x[\"chat_history\"])\n",
    "        )\n",
    "        | CONDENSE_QUESTION_PROMPT\n",
    "        | ChatOllama(model='llama3.2', temperature=0, num_gpu=torch.cuda.device_count())\n",
    "        | StrOutputParser(),\n",
    "    ),\n",
    "    # Else, we have no chat history, so just pass through the question\n",
    "    RunnableLambda(lambda x : x[\"question\"]),\n",
    ")"
   ]
  },
  {
   "cell_type": "code",
   "execution_count": 160,
   "id": "9c72c3fb-6565-4b9e-bf3a-ab4e3f78d396",
   "metadata": {},
   "outputs": [],
   "source": [
    "template = \"\"\"Answer the question based only on the following context:\n",
    "{context}\n",
    "\n",
    "Question: {question}\n",
    "Use natural language and be concise.\n",
    "Answer:\"\"\""
   ]
  },
  {
   "cell_type": "code",
   "execution_count": 161,
   "id": "b5efc888-232f-4a92-98fe-0523219e5adb",
   "metadata": {},
   "outputs": [],
   "source": [
    "prompt = ChatPromptTemplate.from_template(template)"
   ]
  },
  {
   "cell_type": "code",
   "execution_count": 162,
   "id": "8e20d234-77d9-4e73-889a-28a578ea0ad9",
   "metadata": {},
   "outputs": [],
   "source": [
    "chain = (\n",
    "    RunnableParallel(\n",
    "        {\n",
    "            \"context\": _search_query | retriever,\n",
    "            \"question\": RunnablePassthrough(),\n",
    "        }\n",
    "    )\n",
    "    | prompt\n",
    "    | llm\n",
    "    | StrOutputParser()\n",
    ")"
   ]
  },
  {
   "cell_type": "code",
   "execution_count": 163,
   "id": "36e74502-58ce-4d9a-ac22-962a90eb1c74",
   "metadata": {},
   "outputs": [
    {
     "name": "stdout",
     "output_type": "stream",
     "text": [
      "Search query: How do NSAIDs induce gastric mucosal injury leading to ulcers?\n"
     ]
    },
    {
     "name": "stderr",
     "output_type": "stream",
     "text": [
      "Received notification from DBMS server: {severity: WARNING} {code: Neo.ClientNotification.Statement.FeatureDeprecationWarning} {category: DEPRECATION} {title: This feature is deprecated and will be removed in future versions.} {description: CALL subquery without a variable scope clause is now deprecated. Use CALL (node, node) { ... }} {position: line: 3, column: 13, offset: 93} for query: \"CALL db.index.fulltext.queryNodes('entity', $query)\\n            YIELD node,score\\n            CALL {\\n              WITH node\\n              MATCH (node)-[r:!MENTIONS]->(neighbor)\\n              RETURN node.id + ' - ' + type(r) + ' -> ' + neighbor.id AS output\\n              UNION ALL\\n              WITH node\\n              MATCH (node)<-[r:!MENTIONS]-(neighbor)\\n              RETURN neighbor.id + ' - ' + type(r) + ' -> ' +  node.id AS output\\n            }\\n            RETURN output\\n            \"\n",
      "Received notification from DBMS server: {severity: WARNING} {code: Neo.ClientNotification.Statement.FeatureDeprecationWarning} {category: DEPRECATION} {title: This feature is deprecated and will be removed in future versions.} {description: CALL subquery without a variable scope clause is now deprecated. Use CALL (node, node) { ... }} {position: line: 3, column: 13, offset: 93} for query: \"CALL db.index.fulltext.queryNodes('entity', $query)\\n            YIELD node,score\\n            CALL {\\n              WITH node\\n              MATCH (node)-[r:!MENTIONS]->(neighbor)\\n              RETURN node.id + ' - ' + type(r) + ' -> ' + neighbor.id AS output\\n              UNION ALL\\n              WITH node\\n              MATCH (node)<-[r:!MENTIONS]-(neighbor)\\n              RETURN neighbor.id + ' - ' + type(r) + ' -> ' +  node.id AS output\\n            }\\n            RETURN output\\n            \"\n",
      "Received notification from DBMS server: {severity: WARNING} {code: Neo.ClientNotification.Statement.FeatureDeprecationWarning} {category: DEPRECATION} {title: This feature is deprecated and will be removed in future versions.} {description: CALL subquery without a variable scope clause is now deprecated. Use CALL () { ... }} {position: line: 1, column: 1, offset: 0} for query: \"CALL { CALL db.index.vector.queryNodes($index, $k, $embedding) YIELD node, score WITH collect({node:node, score:score}) AS nodes, max(score) AS max UNWIND nodes AS n RETURN n.node AS node, (n.score / max) AS score UNION CALL db.index.fulltext.queryNodes($keyword_index, $query, {limit: $k}) YIELD node, score WITH collect({node:node, score:score}) AS nodes, max(score) AS max UNWIND nodes AS n RETURN n.node AS node, (n.score / max) AS score } WITH node, max(score) AS score ORDER BY score DESC LIMIT $k RETURN reduce(str='', k IN ['text'] | str + '\\\\n' + k + ': ' + coalesce(node[k], '')) AS text, node {.*, `embedding`: Null, id: Null, `text`: Null} AS metadata, score\"\n"
     ]
    }
   ],
   "source": [
    "result = chain.invoke({\"question\": \"How do NSAIDs induce gastric mucosal injury leading to ulcers?\"})"
   ]
  },
  {
   "cell_type": "code",
   "execution_count": 164,
   "id": "b0e61b24-2754-4a71-b656-aa58507d1f7d",
   "metadata": {},
   "outputs": [
    {
     "name": "stdout",
     "output_type": "stream",
     "text": [
      "NSAIDs induce gastric mucosal injury by suppressing prostaglandin synthesis, which reduces mucosal defense. This leads to neutrophil adherence, oxygen-free radical release, protease activation, and capillary blood flow obstruction. Additionally, nitric oxide (NO) and hydrogen sulfide (H2S) play a role in maintaining the gastric mucosal barrier by increasing blood flow, stimulating mucus secretion, and inhibiting neutrophil adherence.\n"
     ]
    }
   ],
   "source": [
    "print(result)"
   ]
  },
  {
   "cell_type": "code",
   "execution_count": null,
   "id": "6bbe3158-d6d0-42a7-9fad-f15f4478cf21",
   "metadata": {},
   "outputs": [],
   "source": []
  }
 ],
 "metadata": {
  "kernelspec": {
   "display_name": "Python 3 (ipykernel)",
   "language": "python",
   "name": "python3"
  },
  "language_info": {
   "codemirror_mode": {
    "name": "ipython",
    "version": 3
   },
   "file_extension": ".py",
   "mimetype": "text/x-python",
   "name": "python",
   "nbconvert_exporter": "python",
   "pygments_lexer": "ipython3",
   "version": "3.12.7"
  }
 },
 "nbformat": 4,
 "nbformat_minor": 5
}
