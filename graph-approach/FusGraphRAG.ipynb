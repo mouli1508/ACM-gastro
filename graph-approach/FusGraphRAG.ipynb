{
 "cells": [
  {
   "cell_type": "code",
   "execution_count": 26,
   "id": "20231154-0d4b-429f-a85c-3767d0825e90",
   "metadata": {},
   "outputs": [],
   "source": [
    "from langchain_text_splitters import RecursiveCharacterTextSplitter\n",
    "from langchain.embeddings import HuggingFaceEmbeddings\n",
    "from langchain.vectorstores import FAISS\n",
    "from langchain_ollama.llms import OllamaLLM\n",
    "from langchain_core.prompts import ChatPromptTemplate\n",
    "from langchain_core.prompts.prompt import PromptTemplate\n",
    "from langchain_core.output_parsers import StrOutputParser\n",
    "from langchain_community.graphs import Neo4jGraph\n",
    "from langchain_community.vectorstores.neo4j_vector import remove_lucene_chars\n",
    "from langchain_core.runnables import RunnablePassthrough, RunnableParallel\n",
    "from langchain_experimental.graph_transformers import LLMGraphTransformer\n",
    "from langchain_core.pydantic_v1 import BaseModel, Field\n",
    "import pickle\n",
    "import os\n",
    "from neo4j import GraphDatabase\n",
    "from langchain_community.vectorstores import Neo4jVector\n",
    "\n",
    "from langchain.prompts import SystemMessagePromptTemplate, HumanMessagePromptTemplate\n",
    "from langchain.prompts import ChatMessagePromptTemplate, PromptTemplate\n",
    "\n",
    "from typing import Tuple, List, Optional\n",
    "\n",
    "from langchain_ollama import ChatOllama"
   ]
  },
  {
   "cell_type": "code",
   "execution_count": 2,
   "id": "cd4d7caa-ebfd-43cf-9f52-c6bc58a96e37",
   "metadata": {},
   "outputs": [],
   "source": [
    "NEO4J_URI=\"neo4j+s://9269fc71.databases.neo4j.io\"\n",
    "NEO4J_USERNAME=\"neo4j\"\n",
    "NEO4J_PASSWORD=\"lOnpSSiAFQg0uWzA1EvYYBhK45_rWbxXb9SHRDwZRfk\""
   ]
  },
  {
   "cell_type": "code",
   "execution_count": 3,
   "id": "98c313d0-a039-4c12-a526-fc4002ecd381",
   "metadata": {},
   "outputs": [],
   "source": [
    "# Configure Neo4j and load embeddings\n",
    "os.environ[\"NEO4J_URI\"] = NEO4J_URI\n",
    "os.environ[\"NEO4J_USERNAME\"] = NEO4J_USERNAME\n",
    "os.environ[\"NEO4J_PASSWORD\"] = NEO4J_PASSWORD"
   ]
  },
  {
   "cell_type": "code",
   "execution_count": 4,
   "id": "a799f7c7-c5e8-47af-ba55-cb3716e9c0f5",
   "metadata": {},
   "outputs": [],
   "source": [
    "graph = Neo4jGraph()"
   ]
  },
  {
   "cell_type": "code",
   "execution_count": 5,
   "id": "3921a7d1-659c-4c0b-8056-443b0b7ccf9a",
   "metadata": {},
   "outputs": [],
   "source": [
    "graph_documents = Neo4jGraph(\n",
    "    url=os.environ[\"NEO4J_URI\"], username=os.environ[\"NEO4J_USERNAME\"], password=os.environ[\"NEO4J_PASSWORD\"]\n",
    ")"
   ]
  },
  {
   "cell_type": "code",
   "execution_count": 6,
   "id": "9ad00295-89a4-4a57-a33f-0d82e0645891",
   "metadata": {},
   "outputs": [
    {
     "name": "stderr",
     "output_type": "stream",
     "text": [
      "/tmp/ipykernel_13485/995793401.py:3: LangChainDeprecationWarning: The class `HuggingFaceEmbeddings` was deprecated in LangChain 0.2.2 and will be removed in 1.0. An updated version of the class exists in the :class:`~langchain-huggingface package and should be used instead. To use it run `pip install -U :class:`~langchain-huggingface` and import as `from :class:`~langchain_huggingface import HuggingFaceEmbeddings``.\n",
      "  embeddings = HuggingFaceEmbeddings(model_name=embedding_model_name, model_kwargs=model_kwargs)\n",
      "/home/mouli/miniconda3/envs/gastro/lib/python3.12/site-packages/sentence_transformers/cross_encoder/CrossEncoder.py:13: TqdmExperimentalWarning: Using `tqdm.autonotebook.tqdm` in notebook mode. Use `tqdm.tqdm` instead to force console mode (e.g. in jupyter console)\n",
      "  from tqdm.autonotebook import tqdm, trange\n"
     ]
    }
   ],
   "source": [
    "embedding_model_name = \"sentence-transformers/all-mpnet-base-v2\"\n",
    "model_kwargs = {\"device\": \"cuda\"}\n",
    "embeddings = HuggingFaceEmbeddings(model_name=embedding_model_name, model_kwargs=model_kwargs)"
   ]
  },
  {
   "cell_type": "code",
   "execution_count": 9,
   "id": "83cb4a5b-f4f0-47a2-97c5-c2edbb2ac9cd",
   "metadata": {},
   "outputs": [],
   "source": [
    "vector_index = Neo4jVector.from_existing_graph(\n",
    "    embeddings,\n",
    "    search_type=\"hybrid\",\n",
    "    node_label=\"Document\",\n",
    "    text_node_properties=[\"text\"],\n",
    "    embedding_node_property=\"embedding\"\n",
    ")"
   ]
  },
  {
   "cell_type": "code",
   "execution_count": 27,
   "id": "06adb082-a705-49d3-9054-3d8f4d3db9cb",
   "metadata": {},
   "outputs": [],
   "source": [
    "llm = ChatOllama(model='llama3.2', temperature=0)"
   ]
  },
  {
   "cell_type": "code",
   "execution_count": 10,
   "id": "9d13552e-bc7a-4ccd-b9f6-b65b4ae93590",
   "metadata": {},
   "outputs": [],
   "source": [
    "# llm = OllamaLLM(model=\"llama3.2\")"
   ]
  },
  {
   "cell_type": "code",
   "execution_count": 11,
   "id": "c6d720e3-c273-467e-8986-e744daabb63b",
   "metadata": {},
   "outputs": [],
   "source": [
    "fusion_template = \"\"\"\n",
    "        Task: You are an assistant that generates multiple variations of a given question. \n",
    "        For each variation, maintain the original intent of the question, but change the phrasing, structure, \n",
    "        or tone to create a diverse set of queries.\n",
    "\n",
    "Generate 5-7 variations that cover:\n",
    "\n",
    "Synonym replacements while keeping the question concise.\n",
    "Alternative structures, such as rephrasing into \"why,\" \"how,\" or \"what\" forms if relevant.\n",
    "Casual and formal tones.\n",
    "Slightly more specific or broader wording.\n",
    "Examples:\n",
    "\n",
    "Original Question: \"How is a gastric ulcer diagnosed?\"\n",
    "Variations:\n",
    "    \"What tests can be used to detect stomach ulcers?\"\n",
    "    \"Why are endoscopies commonly used in gastric ulcer diagnosis?\"\n",
    "    \"How do doctors figure out if someone has a stomach ulcer?\"\n",
    "    \"Can an upper endoscopy be used to diagnose all types of gastric ulcers, or are there other methods more effective for certain cases?\"\n",
    "    \"What tests and procedures are typically involved in diagnosing gastric ulcers, including acid reflux disease?\"\n",
    "    \"How can a patient determine if they have been diagnosed with a stomach ulcer based on symptoms, test results, or imaging studies?\"\n",
    "    \"When considering the diagnosis of a gastric ulcer, what role does symptom severity play in determining the need for further testing or treatment?\"\n",
    "\n",
    "\n",
    "the final answer should be a python list: [\n",
    "    \"What tests can be used to detect stomach ulcers?\",\n",
    "    \"Why are endoscopies commonly used in gastric ulcer diagnosis?\",\n",
    "    \"How do doctors figure out if someone has a stomach ulcer?\",\n",
    "    \"Can an upper endoscopy be used to diagnose all types of gastric ulcers, or are there other methods more effective for certain cases?\",\n",
    "    \"What tests and procedures are typically involved in diagnosing gastric ulcers, including acid reflux disease?\",\n",
    "    \"How can a patient determine if they have been diagnosed with a stomach ulcer based on symptoms, test results, or imaging studies?\",\n",
    "    \"When considering the diagnosis of a gastric ulcer, what role does symptom severity play in determining the need for further testing or treatment?\"\n",
    "]\n",
    "\n",
    "Now generate the list of variations for the given question\n",
    "        \"\"\""
   ]
  },
  {
   "cell_type": "code",
   "execution_count": 28,
   "id": "e57d8a15-8d8b-486a-afdc-a47e23f33973",
   "metadata": {},
   "outputs": [],
   "source": [
    "prompt = ChatPromptTemplate(input_variables=['original_query'],\n",
    "                            messages=[SystemMessagePromptTemplate(prompt=PromptTemplate(input_variables=[],template=fusion_template)),\n",
    "                            HumanMessagePromptTemplate(prompt=PromptTemplate(input_variables=['original_query'], template='Generate multiple search queries related to: {question} \\n OUTPUT (5 queries):'))])\n",
    "     "
   ]
  },
  {
   "cell_type": "code",
   "execution_count": 29,
   "id": "162078c2-735d-4cd9-9246-0690de01e230",
   "metadata": {},
   "outputs": [],
   "source": [
    "original_query = 'How do NSAIDs induce gastric mucosal injury leading to ulcers?'"
   ]
  },
  {
   "cell_type": "code",
   "execution_count": 30,
   "id": "e4780867-1cce-4ebf-9944-f0bd0bb4ae5c",
   "metadata": {},
   "outputs": [],
   "source": [
    "generate_queries = prompt | llm | StrOutputParser() | (lambda x: x.split(\"\\n\"))"
   ]
  },
  {
   "cell_type": "code",
   "execution_count": 41,
   "id": "ae798c06-e01b-4545-b771-d7c25b56f138",
   "metadata": {},
   "outputs": [
    {
     "data": {
      "text/plain": [
       "['Here are 5 variations of the search query:',\n",
       " '',\n",
       " '1. \"What is the mechanism by which NSAIDs cause stomach lining damage and lead to ulcer formation?\"',\n",
       " '2. \"How do nonsteroidal anti-inflammatory drugs (NSAIDs) contribute to gastric mucosal injury and subsequent ulcers?\"',\n",
       " '3. \"Why does taking NSAIDs increase the risk of developing stomach ulcers, and what are the underlying biochemical pathways involved?\"',\n",
       " '4. \"Can chronic use of NSAIDs lead to long-term damage to the stomach lining, resulting in ulcer formation, and if so, how does this occur?\"',\n",
       " '5. \"What is the relationship between NSAID-induced gastric mucosal injury and the development of peptic ulcers, including the role of acid secretion and mucus production?\"',\n",
       " '',\n",
       " 'These variations maintain the original intent of the question while changing the phrasing, structure, or tone to create a diverse set of queries.']"
      ]
     },
     "execution_count": 41,
     "metadata": {},
     "output_type": "execute_result"
    }
   ],
   "source": [
    "generate_queries.invoke('How do NSAIDs induce gastric mucosal injury leading to ulcers?')"
   ]
  },
  {
   "cell_type": "code",
   "execution_count": 32,
   "id": "e910109a-50c5-4bb3-932d-07efd9b665a5",
   "metadata": {},
   "outputs": [],
   "source": [
    "# Define the schema without validators to avoid deepcopy issues\n",
    "class Entities(BaseModel):\n",
    "    \"\"\"Identifying information about entities.\"\"\"\n",
    "\n",
    "    nodes: List[str] = Field(\n",
    "        ...,\n",
    "        description=\"All the Disease, Cause, Symptom, Complication, Treatment, Medication, Test, Risk Factor, Diagnosis, Side Effect, Procedure, Condition Stage, Disease Type, Imaging Type\"\n",
    "                    \"that appear in the text\"\n",
    "    )"
   ]
  },
  {
   "cell_type": "code",
   "execution_count": 33,
   "id": "611f4595-a9b7-4b89-afa7-27deaf4276d4",
   "metadata": {},
   "outputs": [],
   "source": [
    "# Define the prompt template with instructions for node extraction\n",
    "prompt = ChatPromptTemplate.from_messages(\n",
    "    [\n",
    "        (\n",
    "            \"system\",\n",
    "            \"You are tasked with extracting the diseases, conditions, Diagnosis or symptoms from the qiven question \"\n",
    "            \" for example, for the question: How is a gastric ulcer diagnosed?, you are going to find that gastric ulcer is a dieases and you also found that diagnosis is used in the question, so you are going to return gastric ulcer\"\n",
    "            # \"You are tasked with extracting Disease, Cause, Symptom, Complication, Treatment, Medication, Test, Risk Factor, Diagnosis, Side Effect, Procedure, Condition Stage, Disease Type, Imaging Type from the text\"\n",
    "        ),\n",
    "        (\n",
    "            \"human\",\n",
    "            \"Use the specified format to extract information from the following input: {question}.\"\n",
    "        ),\n",
    "    ]\n",
    ")"
   ]
  },
  {
   "cell_type": "code",
   "execution_count": 34,
   "id": "db68fc20-d465-47a9-8773-e3ea2e0404e7",
   "metadata": {},
   "outputs": [],
   "source": [
    "entity_chain = prompt | llm.with_structured_output(Entities)"
   ]
  },
  {
   "cell_type": "code",
   "execution_count": 35,
   "id": "7c353e2d-2cc2-4fa4-b39a-442bb6cfd3f0",
   "metadata": {},
   "outputs": [
    {
     "data": {
      "text/plain": [
       "Entities(nodes=['Gastric ulcer', 'NSAID-induced gastric mucosal injury'])"
      ]
     },
     "execution_count": 35,
     "metadata": {},
     "output_type": "execute_result"
    }
   ],
   "source": [
    "entity_chain.invoke({\"question\": \"How do NSAIDs induce gastric mucosal injury leading to ulcers?\"})"
   ]
  },
  {
   "cell_type": "code",
   "execution_count": 36,
   "id": "9843f0dd-f06a-4216-818f-c2fd21efaca3",
   "metadata": {},
   "outputs": [],
   "source": [
    "def generate_full_text_query(input: str) -> str:\n",
    "    full_text_query = \"\"\n",
    "    words = [el for el in remove_lucene_chars(input).split() if el]\n",
    "    for word in words[:-1]:\n",
    "        full_text_query += f\" {word}~2 AND\"\n",
    "    full_text_query += f\" {words[-1]}~2\"\n",
    "    return full_text_query.strip()"
   ]
  },
  {
   "cell_type": "code",
   "execution_count": 50,
   "id": "8dbb0b58-ea8a-4fa7-9333-2b96a0eeb977",
   "metadata": {},
   "outputs": [],
   "source": [
    "# def structured_retriever(question: str) -> str:\n",
    "#     result = \"\"\n",
    "#     # Extract entities\n",
    "#     entities = entity_chain.invoke({\"question\": question})\n",
    "#     if not entities.nodes:\n",
    "#         raise ValueError(f\"No entities extracted from the question: {question}\")\n",
    "    \n",
    "#     # Query each entity\n",
    "#     for entity in entities.nodes:\n",
    "#         query = generate_full_text_query(entity)\n",
    "#         if not query:\n",
    "#             raise ValueError(f\"Generated an empty full-text query for entity: {entity}\")\n",
    "        \n",
    "#         # Execute the full-text query\n",
    "#         response = graph.query(\n",
    "#             \"\"\"\n",
    "#             CALL db.index.fulltext.queryNodes('entityIndex', $query)\n",
    "#             YIELD node, score\n",
    "#             RETURN node.name AS name, score\n",
    "#             \"\"\",\n",
    "#             {\"query\": query}\n",
    "#         )\n",
    "        \n",
    "#         # Handle no results\n",
    "#         if not response:\n",
    "#             result += f\"No results found for entity: {entity}\\n\"\n",
    "#         else:\n",
    "#             result += \"\\n\".join([f\"Entity: {record['name']}, Score: {record['score']}\" for record in response])\n",
    "#     return result\n"
   ]
  },
  {
   "cell_type": "code",
   "execution_count": 52,
   "id": "ce0ce6c2-eb5a-492f-8b62-4541b9c0c7f9",
   "metadata": {},
   "outputs": [],
   "source": [
    "# Fulltext index query\n",
    "def structured_retriever(question: str) -> str:\n",
    "    result = \"\"\n",
    "    entities = entity_chain.invoke({\"question\": question})\n",
    "    for entity in entities.nodes:\n",
    "        response = graph.query(\n",
    "            \"\"\"CALL db.index.fulltext.queryNodes('entity', $query)\n",
    "            YIELD node,score\n",
    "            CALL {\n",
    "              WITH node\n",
    "              MATCH (node)-[r:!MENTIONS]->(neighbor)\n",
    "              RETURN node.id + ' - ' + type(r) + ' -> ' + neighbor.id AS output\n",
    "              UNION ALL\n",
    "              WITH node\n",
    "              MATCH (node)<-[r:!MENTIONS]-(neighbor)\n",
    "              RETURN neighbor.id + ' - ' + type(r) + ' -> ' +  node.id AS output\n",
    "            }\n",
    "            RETURN output\n",
    "            \"\"\",\n",
    "            {\"query\": generate_full_text_query(entity)},\n",
    "        )\n",
    "        result += \"\\n\".join([el['output'] for el in response])\n",
    "    return result"
   ]
  },
  {
   "cell_type": "code",
   "execution_count": 54,
   "id": "e076ce2d-43cf-4b1c-a19a-b17f74dde121",
   "metadata": {},
   "outputs": [
    {
     "name": "stderr",
     "output_type": "stream",
     "text": [
      "Received notification from DBMS server: {severity: WARNING} {code: Neo.ClientNotification.Statement.FeatureDeprecationWarning} {category: DEPRECATION} {title: This feature is deprecated and will be removed in future versions.} {description: CALL subquery without a variable scope clause is now deprecated. Use CALL (node, node) { ... }} {position: line: 3, column: 13, offset: 93} for query: \"CALL db.index.fulltext.queryNodes('entity', $query)\\n            YIELD node,score\\n            CALL {\\n              WITH node\\n              MATCH (node)-[r:!MENTIONS]->(neighbor)\\n              RETURN node.id + ' - ' + type(r) + ' -> ' + neighbor.id AS output\\n              UNION ALL\\n              WITH node\\n              MATCH (node)<-[r:!MENTIONS]-(neighbor)\\n              RETURN neighbor.id + ' - ' + type(r) + ' -> ' +  node.id AS output\\n            }\\n            RETURN output\\n            \"\n"
     ]
    },
    {
     "name": "stdout",
     "output_type": "stream",
     "text": [
      "Gastric ulcer - ASSOCIATED_WITH -> Bleeding\n",
      "Gastric ulcer - ASSOCIATED_WITH -> Peptic ulcer disease\n",
      "Gastric ulcer - ASSOCIATED_WITH -> Mass\n",
      "Gastric ulcer - HAS_SYMPTOM -> Vomiting\n",
      "Gastric ulcer - HAS_SYMPTOM -> Nausea\n",
      "Gastric ulcer - HAS_SYMPTOM -> Pain soon after meals\n",
      "Gastric ulcer - HAS_SYMPTOM -> Weight loss\n",
      "Gastric ulcer - HAS_SYMPTOM -> Anorexia\n",
      "H2RAs - TREATED_WITH -> Gastric ulcer\n",
      "PPIs - TREATED_WITH -> Gastric ulcer\n",
      "Sucralfate - TREATED_WITH -> Gastric ulcer\n",
      "Misoprostol - TREATED_WITH -> Gastric ulcer\n",
      "Proton pump inhibitors - TREATED_WITH -> Gastric ulcer\n",
      "P-CAB - TREATED_WITH -> Gastric ulcer\n",
      "Pirenzepine - TREATED_WITH -> Gastric ulcer\n",
      "proton pump inhibitors - TREATED_WITH -> gastric ulcer\n",
      "Gastric Ulcer - HAS_SYMPTOM -> ulcer stenosis; pyloric stenosis; oesophageal gastric varices; Barrett's oesophagus measuring >3 cm; intractable ulcer; digestive ulcer perforation or malignancy on upper GI endoscopy\n",
      "Gastric Ulcer - HAS_SYMPTOM -> GI symptoms\n",
      "Gastric Ulcer - COMPLICATES -> adverse events (AEs)\n",
      "Gastric Ulcer - HAS_RISK_FACTOR -> Helicobacter pylori\n",
      "Gastric Ulcer - DIAGNOSED_BY -> upper gastrointestinal (GI) endoscopy\n",
      "Lansoprazole - TREATED_WITH -> Gastric Ulcer\n",
      "Tegoprazan - TREATED_WITH -> Gastric Ulcer\n",
      "Helicobacter pylori - CAUSES -> Gastric Ulcer\n",
      "Lansoprazole - HAS_RISK_FACTOR -> Gastric Ulcer\n",
      "Tegoprazan - HAS_RISK_FACTOR -> Gastric Ulcer\n",
      "Upper GI Endoscopy - DIAGNOSED_BY -> Gastric Ulcer\n",
      "Gastric ulcers - ASSOCIATED_WITH -> Malignant disease\n",
      "Pepsinogen - ASSOCIATED_WITH -> Gastric ulcers\n",
      "Lansoprazole - TREATED_WITH -> Gastric ulcers\n",
      "Bacterial eradication therapy - TREATED_WITH -> Gastric ulcers\n",
      "Tegoprazan - TREATED_WITH -> Gastric ulcers\n",
      "Thrombin injection - COMPLICATES -> Gastric ulcers\n",
      "Cyanoacrylate glue injection - HAS_RISK_FACTOR -> Gastric ulcers\n",
      "GASTRIC ULCERS - ASSOCIATED_WITH -> malignancy\n",
      "gastric ulcers - ASSOCIATED_WITH -> NSAID therapy\n",
      "gastric ulcers - TREATED_WITH -> COX-2 selective inhibitors\n",
      "gastric ulcers - HAS_RISK_FACTOR -> malignant disease\n",
      "H pylori infection - ASSOCIATED_WITH -> gastric ulcers\n",
      "PPIs - TREATED_WITH -> gastric ulcers\n",
      "misoprostol - TREATED_WITH -> gastric ulcers\n",
      "peptic ulcer disease - HAS_SYMPTOM -> gastric ulcers\n",
      "Helicobacter pylori - CAUSES -> gastric ulcers\n",
      "H pylori - CAUSES -> gastric ulcers\n",
      "H pylori infection - CAUSES -> gastric ulcers\n",
      "Gastric Ulcers - COMPLICATES -> Peptic Ulcer Perforation\n",
      "Helicobacter pylori - CAUSES -> gastric ulcer disease\n",
      "Lansoprazole - ASSOCIATED_WITH -> Gastric Ulcer Healing\n",
      "Tegoprazan - ASSOCIATED_WITH -> Gastric Ulcer Healing\n",
      "Hyperparathyroidism - ASSOCIATED_WITH -> Gastric ulcer disease\n",
      "NSAIDs - CAUSES -> gastric ulcer development\n",
      "PPI - TREATED_WITH -> remnant gastric ulcer\n",
      "Ligation - COMPLICATES -> Bleeding gastric ulcers\n",
      "Butyl-cyanoacrylate - CAUSES -> Bleeding gastric ulcers\n",
      "Peptic Ulcer Disease - HAS_SYMPTOM -> Hemorrhagic Gastric Ulcers\n",
      "Patients with Gastric Ulcer - TREATED_WITH -> CJ-12420\n",
      "Patients with Gastric Ulcer - HAS_RISK_FACTOR -> clinically significant hepatic, renal, cardiovascular, respiratory, endocrine or central nervous system disorder\n",
      "acid suppression therapy - TREATED_WITH -> NSAID-induced gastric ulcers\n",
      "PPI groups - HAS_RISK_FACTOR -> gastric or duodenal ulcers\n",
      "H2 antagonists - TREATED_WITH -> NSAID-associated gastric ulcers\n",
      "misoprostol - TREATED_WITH -> gastric and duodenal ulcers\n",
      "pump inhibitors - TREATED_WITH -> gastric and duodenal ulcers\n",
      "omeprazole - TREATED_WITH -> ulcers in the gastric remnant\n",
      "misoprostol - TREATED_WITH -> ulcers in the gastric remnant\n",
      "PPI - TREATED_WITH -> ulcers in the gastric remnant\n",
      "sucralfate - TREATED_WITH -> ulcers in the gastric remnant\n",
      "colloidal bismuth - TREATED_WITH -> ulcers in the gastric remnant\n",
      "cimetidine - TREATED_WITH -> ulcers in the gastric remnant\n",
      "PPIs - TREATED_WITH -> Gastric and duodenal ulcers in NSAID users\n",
      "Zollinger-Ellison syndrome - ASSOCIATED_WITH -> severe peptic ulcer disease caused by a gastrin-producing endocrine tumor\n",
      "Gastric Ulcer - HAS_SYMPTOM -> ulcer stenosis; pyloric stenosis; oesophageal gastric varices; Barrett's oesophagus measuring >3 cm; intractable ulcer; digestive ulcer perforation or malignancy on upper GI endoscopy\n",
      "primary prevention of peptic ulcers and gastric cancer - ASSOCIATED_WITH -> be screened for\n",
      "hemostatic clips - TREATED_WITH -> Forest Ia, Ib, and IIa gastric or duodenal ulcers\n"
     ]
    }
   ],
   "source": [
    "print(structured_retriever(\"How is a gastric ulcer diagnosed?\"))"
   ]
  },
  {
   "cell_type": "code",
   "execution_count": 55,
   "id": "e85d7467-0ac3-4b80-9131-1a14b7e48aef",
   "metadata": {},
   "outputs": [],
   "source": [
    "def combined_retriever(queries):\n",
    "    combined_results = []\n",
    "    for query in queries:\n",
    "        structured_data = structured_retriever(query)\n",
    "        unstructured_data = [\n",
    "            doc.page_content for doc in vector_index.similarity_search(query)\n",
    "        ]\n",
    "        combined_results.append({\"structured\": structured_data, \"unstructured\": \"#Document \". join(unstructured_data)})\n",
    "    return combined_results"
   ]
  },
  {
   "cell_type": "code",
   "execution_count": 60,
   "id": "749e00a1-c4cb-4120-92e4-65587371835f",
   "metadata": {},
   "outputs": [],
   "source": [
    "# Combining results and generating the final response\n",
    "def combined_fusion_graph_rag(original_query):\n",
    "    # Step 1: Generate query variations\n",
    "    raw_output = generate_queries.invoke(original_query)\n",
    "\n",
    "    # Debugging: print raw output\n",
    "    print(\"Raw Output from generate_queries:\", raw_output)\n",
    "\n",
    "    # Extract queries from raw output\n",
    "    queries = []\n",
    "    for line in raw_output:\n",
    "        line = line.strip()\n",
    "        if line.startswith('\"') and line.endswith('\",'):\n",
    "            # Remove trailing comma and quotes\n",
    "            queries.append(line.strip('\",'))\n",
    "        elif line.startswith('\"') and line.endswith('\"'):\n",
    "            queries.append(line.strip('\"'))\n",
    "\n",
    "    # Debugging: print parsed queries\n",
    "    print(\"Parsed Queries:\", queries)\n",
    "    \n",
    "    # Step 2: Retrieve data for each query\n",
    "    retrieved_data = combined_retriever(queries)\n",
    "    \n",
    "    # Step 3: Combine retrieved results\n",
    "    combined_context = \"\\n\".join(\n",
    "        f\"Structured:\\n{result['structured']}\\nUnstructured:\\n{' '.join(result['unstructured'])}\"\n",
    "        for result in retrieved_data\n",
    "    )\n",
    "    \n",
    "    # Step 4: Generate final response\n",
    "    answer_template = \"\"\"Answer the question based only on the following context:\n",
    "    {context}\n",
    "    \n",
    "    Question: {question}\n",
    "    \"\"\"\n",
    "    final_prompt = ChatPromptTemplate.from_template(answer_template)\n",
    "    chain = final_prompt | llm | StrOutputParser()\n",
    "    return chain.invoke({\"context\": combined_context, \"question\": original_query})"
   ]
  },
  {
   "cell_type": "code",
   "execution_count": 61,
   "id": "1701291d-7f9d-477b-9987-6c0634833a47",
   "metadata": {},
   "outputs": [
    {
     "name": "stdout",
     "output_type": "stream",
     "text": [
      "Raw Output from generate_queries: ['Here are 5 variations of the original question:', '', '```', '[', '    \"What tests can be used to detect stomach ulcers?\",', '    \"Why are endoscopies commonly used in gastric ulcer diagnosis?\",', '    \"How do doctors figure out if someone has a stomach ulcer?\",', '    \"Can an upper endoscopy be used to diagnose all types of gastric ulcers, or are there other methods more effective for certain cases?\",', '    \"What diagnostic procedures and medical tests are typically used to confirm the presence of a gastric ulcer?\"', ']', '```', '', 'These variations maintain the original intent of the question but change the phrasing, structure, or tone to create diverse queries.']\n",
      "Parsed Queries: ['What tests can be used to detect stomach ulcers?', 'Why are endoscopies commonly used in gastric ulcer diagnosis?', 'How do doctors figure out if someone has a stomach ulcer?', 'Can an upper endoscopy be used to diagnose all types of gastric ulcers, or are there other methods more effective for certain cases?', 'What diagnostic procedures and medical tests are typically used to confirm the presence of a gastric ulcer?']\n"
     ]
    },
    {
     "name": "stderr",
     "output_type": "stream",
     "text": [
      "Received notification from DBMS server: {severity: WARNING} {code: Neo.ClientNotification.Statement.FeatureDeprecationWarning} {category: DEPRECATION} {title: This feature is deprecated and will be removed in future versions.} {description: CALL subquery without a variable scope clause is now deprecated. Use CALL (node, node) { ... }} {position: line: 3, column: 13, offset: 93} for query: \"CALL db.index.fulltext.queryNodes('entity', $query)\\n            YIELD node,score\\n            CALL {\\n              WITH node\\n              MATCH (node)-[r:!MENTIONS]->(neighbor)\\n              RETURN node.id + ' - ' + type(r) + ' -> ' + neighbor.id AS output\\n              UNION ALL\\n              WITH node\\n              MATCH (node)<-[r:!MENTIONS]-(neighbor)\\n              RETURN neighbor.id + ' - ' + type(r) + ' -> ' +  node.id AS output\\n            }\\n            RETURN output\\n            \"\n",
      "Received notification from DBMS server: {severity: WARNING} {code: Neo.ClientNotification.Statement.FeatureDeprecationWarning} {category: DEPRECATION} {title: This feature is deprecated and will be removed in future versions.} {description: CALL subquery without a variable scope clause is now deprecated. Use CALL (node, node) { ... }} {position: line: 3, column: 13, offset: 93} for query: \"CALL db.index.fulltext.queryNodes('entity', $query)\\n            YIELD node,score\\n            CALL {\\n              WITH node\\n              MATCH (node)-[r:!MENTIONS]->(neighbor)\\n              RETURN node.id + ' - ' + type(r) + ' -> ' + neighbor.id AS output\\n              UNION ALL\\n              WITH node\\n              MATCH (node)<-[r:!MENTIONS]-(neighbor)\\n              RETURN neighbor.id + ' - ' + type(r) + ' -> ' +  node.id AS output\\n            }\\n            RETURN output\\n            \"\n",
      "Received notification from DBMS server: {severity: WARNING} {code: Neo.ClientNotification.Statement.FeatureDeprecationWarning} {category: DEPRECATION} {title: This feature is deprecated and will be removed in future versions.} {description: CALL subquery without a variable scope clause is now deprecated. Use CALL () { ... }} {position: line: 1, column: 1, offset: 0} for query: \"CALL { CALL db.index.vector.queryNodes($index, $k, $embedding) YIELD node, score WITH collect({node:node, score:score}) AS nodes, max(score) AS max UNWIND nodes AS n RETURN n.node AS node, (n.score / max) AS score UNION CALL db.index.fulltext.queryNodes($keyword_index, $query, {limit: $k}) YIELD node, score WITH collect({node:node, score:score}) AS nodes, max(score) AS max UNWIND nodes AS n RETURN n.node AS node, (n.score / max) AS score } WITH node, max(score) AS score ORDER BY score DESC LIMIT $k RETURN reduce(str='', k IN ['text'] | str + '\\\\n' + k + ': ' + coalesce(node[k], '')) AS text, node {.*, `embedding`: Null, id: Null, `text`: Null} AS metadata, score\"\n",
      "Received notification from DBMS server: {severity: WARNING} {code: Neo.ClientNotification.Statement.FeatureDeprecationWarning} {category: DEPRECATION} {title: This feature is deprecated and will be removed in future versions.} {description: CALL subquery without a variable scope clause is now deprecated. Use CALL (node, node) { ... }} {position: line: 3, column: 13, offset: 93} for query: \"CALL db.index.fulltext.queryNodes('entity', $query)\\n            YIELD node,score\\n            CALL {\\n              WITH node\\n              MATCH (node)-[r:!MENTIONS]->(neighbor)\\n              RETURN node.id + ' - ' + type(r) + ' -> ' + neighbor.id AS output\\n              UNION ALL\\n              WITH node\\n              MATCH (node)<-[r:!MENTIONS]-(neighbor)\\n              RETURN neighbor.id + ' - ' + type(r) + ' -> ' +  node.id AS output\\n            }\\n            RETURN output\\n            \"\n",
      "Received notification from DBMS server: {severity: WARNING} {code: Neo.ClientNotification.Statement.FeatureDeprecationWarning} {category: DEPRECATION} {title: This feature is deprecated and will be removed in future versions.} {description: CALL subquery without a variable scope clause is now deprecated. Use CALL () { ... }} {position: line: 1, column: 1, offset: 0} for query: \"CALL { CALL db.index.vector.queryNodes($index, $k, $embedding) YIELD node, score WITH collect({node:node, score:score}) AS nodes, max(score) AS max UNWIND nodes AS n RETURN n.node AS node, (n.score / max) AS score UNION CALL db.index.fulltext.queryNodes($keyword_index, $query, {limit: $k}) YIELD node, score WITH collect({node:node, score:score}) AS nodes, max(score) AS max UNWIND nodes AS n RETURN n.node AS node, (n.score / max) AS score } WITH node, max(score) AS score ORDER BY score DESC LIMIT $k RETURN reduce(str='', k IN ['text'] | str + '\\\\n' + k + ': ' + coalesce(node[k], '')) AS text, node {.*, `embedding`: Null, id: Null, `text`: Null} AS metadata, score\"\n",
      "Received notification from DBMS server: {severity: WARNING} {code: Neo.ClientNotification.Statement.FeatureDeprecationWarning} {category: DEPRECATION} {title: This feature is deprecated and will be removed in future versions.} {description: CALL subquery without a variable scope clause is now deprecated. Use CALL (node, node) { ... }} {position: line: 3, column: 13, offset: 93} for query: \"CALL db.index.fulltext.queryNodes('entity', $query)\\n            YIELD node,score\\n            CALL {\\n              WITH node\\n              MATCH (node)-[r:!MENTIONS]->(neighbor)\\n              RETURN node.id + ' - ' + type(r) + ' -> ' + neighbor.id AS output\\n              UNION ALL\\n              WITH node\\n              MATCH (node)<-[r:!MENTIONS]-(neighbor)\\n              RETURN neighbor.id + ' - ' + type(r) + ' -> ' +  node.id AS output\\n            }\\n            RETURN output\\n            \"\n",
      "Received notification from DBMS server: {severity: WARNING} {code: Neo.ClientNotification.Statement.FeatureDeprecationWarning} {category: DEPRECATION} {title: This feature is deprecated and will be removed in future versions.} {description: CALL subquery without a variable scope clause is now deprecated. Use CALL () { ... }} {position: line: 1, column: 1, offset: 0} for query: \"CALL { CALL db.index.vector.queryNodes($index, $k, $embedding) YIELD node, score WITH collect({node:node, score:score}) AS nodes, max(score) AS max UNWIND nodes AS n RETURN n.node AS node, (n.score / max) AS score UNION CALL db.index.fulltext.queryNodes($keyword_index, $query, {limit: $k}) YIELD node, score WITH collect({node:node, score:score}) AS nodes, max(score) AS max UNWIND nodes AS n RETURN n.node AS node, (n.score / max) AS score } WITH node, max(score) AS score ORDER BY score DESC LIMIT $k RETURN reduce(str='', k IN ['text'] | str + '\\\\n' + k + ': ' + coalesce(node[k], '')) AS text, node {.*, `embedding`: Null, id: Null, `text`: Null} AS metadata, score\"\n",
      "Received notification from DBMS server: {severity: WARNING} {code: Neo.ClientNotification.Statement.FeatureDeprecationWarning} {category: DEPRECATION} {title: This feature is deprecated and will be removed in future versions.} {description: CALL subquery without a variable scope clause is now deprecated. Use CALL (node, node) { ... }} {position: line: 3, column: 13, offset: 93} for query: \"CALL db.index.fulltext.queryNodes('entity', $query)\\n            YIELD node,score\\n            CALL {\\n              WITH node\\n              MATCH (node)-[r:!MENTIONS]->(neighbor)\\n              RETURN node.id + ' - ' + type(r) + ' -> ' + neighbor.id AS output\\n              UNION ALL\\n              WITH node\\n              MATCH (node)<-[r:!MENTIONS]-(neighbor)\\n              RETURN neighbor.id + ' - ' + type(r) + ' -> ' +  node.id AS output\\n            }\\n            RETURN output\\n            \"\n",
      "Received notification from DBMS server: {severity: WARNING} {code: Neo.ClientNotification.Statement.FeatureDeprecationWarning} {category: DEPRECATION} {title: This feature is deprecated and will be removed in future versions.} {description: CALL subquery without a variable scope clause is now deprecated. Use CALL () { ... }} {position: line: 1, column: 1, offset: 0} for query: \"CALL { CALL db.index.vector.queryNodes($index, $k, $embedding) YIELD node, score WITH collect({node:node, score:score}) AS nodes, max(score) AS max UNWIND nodes AS n RETURN n.node AS node, (n.score / max) AS score UNION CALL db.index.fulltext.queryNodes($keyword_index, $query, {limit: $k}) YIELD node, score WITH collect({node:node, score:score}) AS nodes, max(score) AS max UNWIND nodes AS n RETURN n.node AS node, (n.score / max) AS score } WITH node, max(score) AS score ORDER BY score DESC LIMIT $k RETURN reduce(str='', k IN ['text'] | str + '\\\\n' + k + ': ' + coalesce(node[k], '')) AS text, node {.*, `embedding`: Null, id: Null, `text`: Null} AS metadata, score\"\n",
      "Received notification from DBMS server: {severity: WARNING} {code: Neo.ClientNotification.Statement.FeatureDeprecationWarning} {category: DEPRECATION} {title: This feature is deprecated and will be removed in future versions.} {description: CALL subquery without a variable scope clause is now deprecated. Use CALL (node, node) { ... }} {position: line: 3, column: 13, offset: 93} for query: \"CALL db.index.fulltext.queryNodes('entity', $query)\\n            YIELD node,score\\n            CALL {\\n              WITH node\\n              MATCH (node)-[r:!MENTIONS]->(neighbor)\\n              RETURN node.id + ' - ' + type(r) + ' -> ' + neighbor.id AS output\\n              UNION ALL\\n              WITH node\\n              MATCH (node)<-[r:!MENTIONS]-(neighbor)\\n              RETURN neighbor.id + ' - ' + type(r) + ' -> ' +  node.id AS output\\n            }\\n            RETURN output\\n            \"\n",
      "Received notification from DBMS server: {severity: WARNING} {code: Neo.ClientNotification.Statement.FeatureDeprecationWarning} {category: DEPRECATION} {title: This feature is deprecated and will be removed in future versions.} {description: CALL subquery without a variable scope clause is now deprecated. Use CALL () { ... }} {position: line: 1, column: 1, offset: 0} for query: \"CALL { CALL db.index.vector.queryNodes($index, $k, $embedding) YIELD node, score WITH collect({node:node, score:score}) AS nodes, max(score) AS max UNWIND nodes AS n RETURN n.node AS node, (n.score / max) AS score UNION CALL db.index.fulltext.queryNodes($keyword_index, $query, {limit: $k}) YIELD node, score WITH collect({node:node, score:score}) AS nodes, max(score) AS max UNWIND nodes AS n RETURN n.node AS node, (n.score / max) AS score } WITH node, max(score) AS score ORDER BY score DESC LIMIT $k RETURN reduce(str='', k IN ['text'] | str + '\\\\n' + k + ': ' + coalesce(node[k], '')) AS text, node {.*, `embedding`: Null, id: Null, `text`: Null} AS metadata, score\"\n"
     ]
    },
    {
     "name": "stdout",
     "output_type": "stream",
     "text": [
      "A gastric ulcer is typically diagnosed using a combination of clinical evaluation, laboratory tests, and imaging studies. Here are some common methods used to diagnose a gastric ulcer:\n",
      "\n",
      "1. **Endoscopy**: A flexible tube with a camera and light on the end (endoscope) is inserted through the mouth to visualize the inside of the stomach and duodenum (the first part of the small intestine). The doctor can look for signs of ulcers, such as bleeding or inflammation.\n",
      "2. **Biopsy**: During the endoscopy, a biopsy may be taken from the suspected ulcer site to examine tissue under a microscope for signs of inflammation or cancer.\n",
      "3. **Imaging studies**: X-rays, CT scans, or MRI scans may be used to visualize the stomach and duodenum and help identify ulcers.\n",
      "4. **Upper GI series**: A barium swallow test is performed by swallowing a liquid containing barium sulfate, which shows up on X-ray images. This helps visualize the stomach and duodenum and can show signs of ulcers.\n",
      "5. **Endoscopic ultrasound (EUS)**: An EUS uses high-frequency sound waves to produce detailed images of the layers of tissue in the stomach and duodenum, helping to identify ulcers and other abnormalities.\n",
      "6. **Blood tests**: Blood tests may be ordered to check for anemia or inflammation, which can indicate a gastric ulcer.\n",
      "7. **Stool tests**: Stool tests may be performed to check for blood or occult blood (hidden blood) in the stool, which can indicate bleeding from a gastric ulcer.\n",
      "\n",
      "In some cases, additional testing may be necessary, such as:\n",
      "\n",
      "* **CT scan with contrast**: To visualize the stomach and duodenum more clearly.\n",
      "* **MRI scan**: To get detailed images of the stomach and duodenum.\n",
      "* **PET scan**: To check for cancer or other abnormalities in the stomach and duodenum.\n",
      "\n",
      "It's worth noting that some gastric ulcers may not be visible on imaging studies, especially if they are small or located in a hard-to-reach area. In these cases, an endoscopy with biopsy is usually necessary to confirm the diagnosis.\n"
     ]
    }
   ],
   "source": [
    "final_result = combined_fusion_graph_rag(\"How is a gastric ulcer diagnosed?\")\n",
    "print(final_result)"
   ]
  },
  {
   "cell_type": "code",
   "execution_count": null,
   "id": "a75cdf96-ec67-439f-bb57-61bea48d2f8a",
   "metadata": {},
   "outputs": [],
   "source": []
  }
 ],
 "metadata": {
  "kernelspec": {
   "display_name": "Python 3 (ipykernel)",
   "language": "python",
   "name": "python3"
  },
  "language_info": {
   "codemirror_mode": {
    "name": "ipython",
    "version": 3
   },
   "file_extension": ".py",
   "mimetype": "text/x-python",
   "name": "python",
   "nbconvert_exporter": "python",
   "pygments_lexer": "ipython3",
   "version": "3.12.3"
  }
 },
 "nbformat": 4,
 "nbformat_minor": 5
}
