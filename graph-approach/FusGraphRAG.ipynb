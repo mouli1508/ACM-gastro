{
 "cells": [
  {
   "cell_type": "code",
   "execution_count": 1,
   "id": "20231154-0d4b-429f-a85c-3767d0825e90",
   "metadata": {},
   "outputs": [
    {
     "name": "stderr",
     "output_type": "stream",
     "text": [
      "/home/mouli/miniconda3/envs/fusgraph/lib/python3.12/site-packages/IPython/core/interactiveshell.py:3577: LangChainDeprecationWarning: As of langchain-core 0.3.0, LangChain uses pydantic v2 internally. The langchain_core.pydantic_v1 module was a compatibility shim for pydantic v1, and should no longer be used. Please update the code to import from Pydantic directly.\n",
      "\n",
      "For example, replace imports like: `from langchain_core.pydantic_v1 import BaseModel`\n",
      "with: `from pydantic import BaseModel`\n",
      "or the v1 compatibility namespace if you are working in a code base that has not been fully upgraded to pydantic 2 yet. \tfrom pydantic.v1 import BaseModel\n",
      "\n",
      "  exec(code_obj, self.user_global_ns, self.user_ns)\n"
     ]
    }
   ],
   "source": [
    "from langchain_text_splitters import RecursiveCharacterTextSplitter\n",
    "from langchain.embeddings import HuggingFaceEmbeddings\n",
    "from langchain.vectorstores import FAISS\n",
    "from langchain_ollama.llms import OllamaLLM\n",
    "from langchain_core.prompts import ChatPromptTemplate\n",
    "from langchain_core.prompts.prompt import PromptTemplate\n",
    "from langchain_core.output_parsers import StrOutputParser\n",
    "from langchain_community.graphs import Neo4jGraph\n",
    "from langchain_community.vectorstores.neo4j_vector import remove_lucene_chars\n",
    "from langchain_core.runnables import RunnablePassthrough, RunnableParallel\n",
    "from langchain_experimental.graph_transformers import LLMGraphTransformer\n",
    "from langchain_core.pydantic_v1 import BaseModel, Field\n",
    "import pickle\n",
    "import os\n",
    "from neo4j import GraphDatabase\n",
    "from langchain_community.vectorstores import Neo4jVector\n",
    "\n",
    "from langchain.prompts import SystemMessagePromptTemplate, HumanMessagePromptTemplate\n",
    "from langchain.prompts import ChatMessagePromptTemplate, PromptTemplate\n",
    "\n",
    "from typing import Tuple, List, Optional\n",
    "\n",
    "from langchain_ollama import ChatOllama\n",
    "import torch"
   ]
  },
  {
   "cell_type": "code",
   "execution_count": 2,
   "id": "cd4d7caa-ebfd-43cf-9f52-c6bc58a96e37",
   "metadata": {},
   "outputs": [],
   "source": [
    "NEO4J_URI=\"neo4j+s://9269fc71.databases.neo4j.io\"\n",
    "NEO4J_USERNAME=\"neo4j\"\n",
    "NEO4J_PASSWORD=\"lOnpSSiAFQg0uWzA1EvYYBhK45_rWbxXb9SHRDwZRfk\""
   ]
  },
  {
   "cell_type": "code",
   "execution_count": 3,
   "id": "98c313d0-a039-4c12-a526-fc4002ecd381",
   "metadata": {},
   "outputs": [],
   "source": [
    "# Configure Neo4j and load embeddings\n",
    "os.environ[\"NEO4J_URI\"] = NEO4J_URI\n",
    "os.environ[\"NEO4J_USERNAME\"] = NEO4J_USERNAME\n",
    "os.environ[\"NEO4J_PASSWORD\"] = NEO4J_PASSWORD"
   ]
  },
  {
   "cell_type": "code",
   "execution_count": 4,
   "id": "a799f7c7-c5e8-47af-ba55-cb3716e9c0f5",
   "metadata": {},
   "outputs": [],
   "source": [
    "graph = Neo4jGraph()"
   ]
  },
  {
   "cell_type": "code",
   "execution_count": 5,
   "id": "3921a7d1-659c-4c0b-8056-443b0b7ccf9a",
   "metadata": {},
   "outputs": [],
   "source": [
    "graph_documents = Neo4jGraph(\n",
    "    url=os.environ[\"NEO4J_URI\"], username=os.environ[\"NEO4J_USERNAME\"], password=os.environ[\"NEO4J_PASSWORD\"]\n",
    ")"
   ]
  },
  {
   "cell_type": "code",
   "execution_count": 10,
   "id": "fca90d9c-34a9-40d7-a08b-ef31811e720b",
   "metadata": {},
   "outputs": [],
   "source": [
    "embedding_device = torch.device(\"cuda:0\")  # GPU 0 for embedding model\n",
    "llm_device = torch.device(\"cuda:1\")"
   ]
  },
  {
   "cell_type": "code",
   "execution_count": 14,
   "id": "cacb3064-74d2-4550-bb9a-4e43dabf3c7f",
   "metadata": {},
   "outputs": [
    {
     "data": {
      "text/plain": [
       "device(type='cuda', index=0)"
      ]
     },
     "execution_count": 14,
     "metadata": {},
     "output_type": "execute_result"
    }
   ],
   "source": [
    "embedding_device"
   ]
  },
  {
   "cell_type": "code",
   "execution_count": 15,
   "id": "9ad00295-89a4-4a57-a33f-0d82e0645891",
   "metadata": {},
   "outputs": [
    {
     "name": "stderr",
     "output_type": "stream",
     "text": [
      "/tmp/ipykernel_5215/4173282442.py:3: LangChainDeprecationWarning: The class `HuggingFaceEmbeddings` was deprecated in LangChain 0.2.2 and will be removed in 1.0. An updated version of the class exists in the :class:`~langchain-huggingface package and should be used instead. To use it run `pip install -U :class:`~langchain-huggingface` and import as `from :class:`~langchain_huggingface import HuggingFaceEmbeddings``.\n",
      "  embeddings = HuggingFaceEmbeddings(model_name=embedding_model_name, model_kwargs=model_kwargs)\n",
      "/home/mouli/miniconda3/envs/fusgraph/lib/python3.12/site-packages/tqdm/auto.py:21: TqdmWarning: IProgress not found. Please update jupyter and ipywidgets. See https://ipywidgets.readthedocs.io/en/stable/user_install.html\n",
      "  from .autonotebook import tqdm as notebook_tqdm\n"
     ]
    }
   ],
   "source": [
    "embedding_model_name = \"sentence-transformers/all-mpnet-base-v2\"\n",
    "model_kwargs = {\"device\": embedding_device.type}\n",
    "embeddings = HuggingFaceEmbeddings(model_name=embedding_model_name, model_kwargs=model_kwargs)"
   ]
  },
  {
   "cell_type": "code",
   "execution_count": 16,
   "id": "83cb4a5b-f4f0-47a2-97c5-c2edbb2ac9cd",
   "metadata": {},
   "outputs": [],
   "source": [
    "vector_index = Neo4jVector.from_existing_graph(\n",
    "    embeddings,\n",
    "    search_type=\"hybrid\",\n",
    "    node_label=\"Document\",\n",
    "    text_node_properties=[\"text\"],\n",
    "    embedding_node_property=\"embedding\"\n",
    ")"
   ]
  },
  {
   "cell_type": "code",
   "execution_count": 17,
   "id": "06adb082-a705-49d3-9054-3d8f4d3db9cb",
   "metadata": {},
   "outputs": [],
   "source": [
    "llm = ChatOllama(model='llama3.2', temperature=0, num_gpu=1)"
   ]
  },
  {
   "cell_type": "code",
   "execution_count": 17,
   "id": "9d13552e-bc7a-4ccd-b9f6-b65b4ae93590",
   "metadata": {},
   "outputs": [],
   "source": [
    "# llm = OllamaLLM(model=\"llama3.2\")"
   ]
  },
  {
   "cell_type": "code",
   "execution_count": 18,
   "id": "c6d720e3-c273-467e-8986-e744daabb63b",
   "metadata": {},
   "outputs": [],
   "source": [
    "fusion_template = \"\"\"\n",
    "        Task: You are an assistant that generates multiple variations of a given question. \n",
    "        For each variation, maintain the original intent of the question, but change the phrasing, structure, \n",
    "        or tone to create a diverse set of queries.\n",
    "\n",
    "Generate 5-7 variations that cover:\n",
    "\n",
    "Synonym replacements while keeping the question concise.\n",
    "Alternative structures, such as rephrasing into \"why,\" \"how,\" or \"what\" forms if relevant.\n",
    "Casual and formal tones.\n",
    "Slightly more specific or broader wording.\n",
    "Examples:\n",
    "\n",
    "Original Question: \"How is a gastric ulcer diagnosed?\"\n",
    "Variations:\n",
    "    \"What tests can be used to detect stomach ulcers?\"\n",
    "    \"Why are endoscopies commonly used in gastric ulcer diagnosis?\"\n",
    "    \"How do doctors figure out if someone has a stomach ulcer?\"\n",
    "    \"Can an upper endoscopy be used to diagnose all types of gastric ulcers, or are there other methods more effective for certain cases?\"\n",
    "    \"What tests and procedures are typically involved in diagnosing gastric ulcers, including acid reflux disease?\"\n",
    "    \"How can a patient determine if they have been diagnosed with a stomach ulcer based on symptoms, test results, or imaging studies?\"\n",
    "    \"When considering the diagnosis of a gastric ulcer, what role does symptom severity play in determining the need for further testing or treatment?\"\n",
    "\n",
    "Now generate just the list of variations one on each line for the given question and nothing else\n",
    "        \"\"\""
   ]
  },
  {
   "cell_type": "code",
   "execution_count": 19,
   "id": "e57d8a15-8d8b-486a-afdc-a47e23f33973",
   "metadata": {},
   "outputs": [],
   "source": [
    "prompt = ChatPromptTemplate(input_variables=['original_query'],\n",
    "                            messages=[SystemMessagePromptTemplate(prompt=PromptTemplate(input_variables=[],template=fusion_template)),\n",
    "                            HumanMessagePromptTemplate(prompt=PromptTemplate(input_variables=['original_query'], template='Generate multiple search queries related to: {question} \\n OUTPUT (5 queries):'))])\n",
    "     "
   ]
  },
  {
   "cell_type": "code",
   "execution_count": 20,
   "id": "162078c2-735d-4cd9-9246-0690de01e230",
   "metadata": {},
   "outputs": [],
   "source": [
    "original_query = 'How do NSAIDs induce gastric mucosal injury leading to ulcers?'"
   ]
  },
  {
   "cell_type": "code",
   "execution_count": 21,
   "id": "e4780867-1cce-4ebf-9944-f0bd0bb4ae5c",
   "metadata": {},
   "outputs": [],
   "source": [
    "generate_queries = prompt | llm | StrOutputParser() | (lambda x: x.split(\"\\n\"))"
   ]
  },
  {
   "cell_type": "code",
   "execution_count": 22,
   "id": "ae798c06-e01b-4545-b771-d7c25b56f138",
   "metadata": {},
   "outputs": [
    {
     "data": {
      "text/plain": [
       "['What triggers stomach ulcers?',\n",
       " 'How do gastric ulcers form in the body?',\n",
       " 'What are the common causes of stomach ulcers?',\n",
       " 'Can stress contribute to the development of gastric ulcers?',\n",
       " 'What medical conditions increase the risk of developing a gastric ulcer?']"
      ]
     },
     "execution_count": 22,
     "metadata": {},
     "output_type": "execute_result"
    }
   ],
   "source": [
    "generate_queries.invoke('What causes gastric ulcers?')"
   ]
  },
  {
   "cell_type": "code",
   "execution_count": 23,
   "id": "e910109a-50c5-4bb3-932d-07efd9b665a5",
   "metadata": {},
   "outputs": [],
   "source": [
    "# Define the schema without validators to avoid deepcopy issues\n",
    "class Entities(BaseModel):\n",
    "    \"\"\"Identifying information about entities.\"\"\"\n",
    "\n",
    "    nodes: List[str] = Field(\n",
    "        ...,\n",
    "        description=\"All the Disease, Cause, Symptom, Complication, Treatment, Medication, Test, Risk Factor, Diagnosis, Side Effect, Procedure, Condition Stage, Disease Type, Imaging Type\"\n",
    "                    \"that appear in the text\"\n",
    "    )"
   ]
  },
  {
   "cell_type": "code",
   "execution_count": 24,
   "id": "611f4595-a9b7-4b89-afa7-27deaf4276d4",
   "metadata": {},
   "outputs": [],
   "source": [
    "# Define the prompt template with instructions for node extraction\n",
    "prompt = ChatPromptTemplate.from_messages(\n",
    "    [\n",
    "        (\n",
    "            \"system\",\n",
    "            \"You are tasked with extracting the diseases, conditions, Diagnosis or symptoms from the qiven question \"\n",
    "            \" for example, for the question: How is a gastric ulcer diagnosed?, you are going to find that gastric ulcer is a dieases and you also found that diagnosis is used in the question, so you are going to return gastric ulcer\"\n",
    "            # \"You are tasked with extracting Disease, Cause, Symptom, Complication, Treatment, Medication, Test, Risk Factor, Diagnosis, Side Effect, Procedure, Condition Stage, Disease Type, Imaging Type from the text\"\n",
    "        ),\n",
    "        (\n",
    "            \"human\",\n",
    "            \"Use the specified format to extract information from the following input: {question}.\"\n",
    "        ),\n",
    "    ]\n",
    ")"
   ]
  },
  {
   "cell_type": "code",
   "execution_count": 25,
   "id": "db68fc20-d465-47a9-8773-e3ea2e0404e7",
   "metadata": {},
   "outputs": [],
   "source": [
    "entity_chain = prompt | llm.with_structured_output(Entities)"
   ]
  },
  {
   "cell_type": "code",
   "execution_count": 26,
   "id": "7c353e2d-2cc2-4fa4-b39a-442bb6cfd3f0",
   "metadata": {},
   "outputs": [
    {
     "data": {
      "text/plain": [
       "Entities(nodes=['Gastric ulcer', 'NSAID-induced gastric mucosal injury'])"
      ]
     },
     "execution_count": 26,
     "metadata": {},
     "output_type": "execute_result"
    }
   ],
   "source": [
    "entity_chain.invoke({\"question\": \"How do NSAIDs induce gastric mucosal injury leading to ulcers?\"})"
   ]
  },
  {
   "cell_type": "code",
   "execution_count": 27,
   "id": "9843f0dd-f06a-4216-818f-c2fd21efaca3",
   "metadata": {},
   "outputs": [],
   "source": [
    "def generate_full_text_query(input: str) -> str:\n",
    "    full_text_query = \"\"\n",
    "    words = [el for el in remove_lucene_chars(input).split() if el]\n",
    "    for word in words[:-1]:\n",
    "        full_text_query += f\" {word}~2 AND\"\n",
    "    full_text_query += f\" {words[-1]}~2\"\n",
    "    return full_text_query.strip()"
   ]
  },
  {
   "cell_type": "code",
   "execution_count": 50,
   "id": "8dbb0b58-ea8a-4fa7-9333-2b96a0eeb977",
   "metadata": {},
   "outputs": [],
   "source": [
    "# def structured_retriever(question: str) -> str:\n",
    "#     result = \"\"\n",
    "#     # Extract entities\n",
    "#     entities = entity_chain.invoke({\"question\": question})\n",
    "#     if not entities.nodes:\n",
    "#         raise ValueError(f\"No entities extracted from the question: {question}\")\n",
    "    \n",
    "#     # Query each entity\n",
    "#     for entity in entities.nodes:\n",
    "#         query = generate_full_text_query(entity)\n",
    "#         if not query:\n",
    "#             raise ValueError(f\"Generated an empty full-text query for entity: {entity}\")\n",
    "        \n",
    "#         # Execute the full-text query\n",
    "#         response = graph.query(\n",
    "#             \"\"\"\n",
    "#             CALL db.index.fulltext.queryNodes('entityIndex', $query)\n",
    "#             YIELD node, score\n",
    "#             RETURN node.name AS name, score\n",
    "#             \"\"\",\n",
    "#             {\"query\": query}\n",
    "#         )\n",
    "        \n",
    "#         # Handle no results\n",
    "#         if not response:\n",
    "#             result += f\"No results found for entity: {entity}\\n\"\n",
    "#         else:\n",
    "#             result += \"\\n\".join([f\"Entity: {record['name']}, Score: {record['score']}\" for record in response])\n",
    "#     return result\n"
   ]
  },
  {
   "cell_type": "code",
   "execution_count": 28,
   "id": "ce0ce6c2-eb5a-492f-8b62-4541b9c0c7f9",
   "metadata": {},
   "outputs": [],
   "source": [
    "# Fulltext index query\n",
    "def structured_retriever(question: str) -> str:\n",
    "    result = \"\"\n",
    "    entities = entity_chain.invoke({\"question\": question})\n",
    "    for entity in entities.nodes:\n",
    "        response = graph.query(\n",
    "            \"\"\"CALL db.index.fulltext.queryNodes('entity', $query)\n",
    "            YIELD node,score\n",
    "            CALL {\n",
    "              WITH node\n",
    "              MATCH (node)-[r:!MENTIONS]->(neighbor)\n",
    "              RETURN node.id + ' - ' + type(r) + ' -> ' + neighbor.id AS output\n",
    "              UNION ALL\n",
    "              WITH node\n",
    "              MATCH (node)<-[r:!MENTIONS]-(neighbor)\n",
    "              RETURN neighbor.id + ' - ' + type(r) + ' -> ' +  node.id AS output\n",
    "            }\n",
    "            RETURN output\n",
    "            \"\"\",\n",
    "            {\"query\": generate_full_text_query(entity)},\n",
    "        )\n",
    "        result += \"\\n\".join([el['output'] for el in response])\n",
    "    return result"
   ]
  },
  {
   "cell_type": "code",
   "execution_count": 29,
   "id": "e076ce2d-43cf-4b1c-a19a-b17f74dde121",
   "metadata": {},
   "outputs": [
    {
     "name": "stderr",
     "output_type": "stream",
     "text": [
      "Received notification from DBMS server: {severity: WARNING} {code: Neo.ClientNotification.Statement.FeatureDeprecationWarning} {category: DEPRECATION} {title: This feature is deprecated and will be removed in future versions.} {description: CALL subquery without a variable scope clause is now deprecated. Use CALL (node, node) { ... }} {position: line: 3, column: 13, offset: 93} for query: \"CALL db.index.fulltext.queryNodes('entity', $query)\\n            YIELD node,score\\n            CALL {\\n              WITH node\\n              MATCH (node)-[r:!MENTIONS]->(neighbor)\\n              RETURN node.id + ' - ' + type(r) + ' -> ' + neighbor.id AS output\\n              UNION ALL\\n              WITH node\\n              MATCH (node)<-[r:!MENTIONS]-(neighbor)\\n              RETURN neighbor.id + ' - ' + type(r) + ' -> ' +  node.id AS output\\n            }\\n            RETURN output\\n            \"\n"
     ]
    },
    {
     "name": "stdout",
     "output_type": "stream",
     "text": [
      "Gastric ulcer - ASSOCIATED_WITH -> Bleeding\n",
      "Gastric ulcer - ASSOCIATED_WITH -> Peptic ulcer disease\n",
      "Gastric ulcer - ASSOCIATED_WITH -> Mass\n",
      "Gastric ulcer - HAS_SYMPTOM -> Vomiting\n",
      "Gastric ulcer - HAS_SYMPTOM -> Nausea\n",
      "Gastric ulcer - HAS_SYMPTOM -> Pain soon after meals\n",
      "Gastric ulcer - HAS_SYMPTOM -> Weight loss\n",
      "Gastric ulcer - HAS_SYMPTOM -> Anorexia\n",
      "H2RAs - TREATED_WITH -> Gastric ulcer\n",
      "PPIs - TREATED_WITH -> Gastric ulcer\n",
      "Sucralfate - TREATED_WITH -> Gastric ulcer\n",
      "Misoprostol - TREATED_WITH -> Gastric ulcer\n",
      "Proton pump inhibitors - TREATED_WITH -> Gastric ulcer\n",
      "P-CAB - TREATED_WITH -> Gastric ulcer\n",
      "Pirenzepine - TREATED_WITH -> Gastric ulcer\n",
      "proton pump inhibitors - TREATED_WITH -> gastric ulcer\n",
      "Gastric Ulcer - HAS_SYMPTOM -> ulcer stenosis; pyloric stenosis; oesophageal gastric varices; Barrett's oesophagus measuring >3 cm; intractable ulcer; digestive ulcer perforation or malignancy on upper GI endoscopy\n",
      "Gastric Ulcer - HAS_SYMPTOM -> GI symptoms\n",
      "Gastric Ulcer - COMPLICATES -> adverse events (AEs)\n",
      "Gastric Ulcer - HAS_RISK_FACTOR -> Helicobacter pylori\n",
      "Gastric Ulcer - DIAGNOSED_BY -> upper gastrointestinal (GI) endoscopy\n",
      "Lansoprazole - TREATED_WITH -> Gastric Ulcer\n",
      "Tegoprazan - TREATED_WITH -> Gastric Ulcer\n",
      "Helicobacter pylori - CAUSES -> Gastric Ulcer\n",
      "Lansoprazole - HAS_RISK_FACTOR -> Gastric Ulcer\n",
      "Tegoprazan - HAS_RISK_FACTOR -> Gastric Ulcer\n",
      "Upper GI Endoscopy - DIAGNOSED_BY -> Gastric Ulcer\n",
      "Gastric ulcers - ASSOCIATED_WITH -> Malignant disease\n",
      "Pepsinogen - ASSOCIATED_WITH -> Gastric ulcers\n",
      "Lansoprazole - TREATED_WITH -> Gastric ulcers\n",
      "Bacterial eradication therapy - TREATED_WITH -> Gastric ulcers\n",
      "Tegoprazan - TREATED_WITH -> Gastric ulcers\n",
      "Thrombin injection - COMPLICATES -> Gastric ulcers\n",
      "Cyanoacrylate glue injection - HAS_RISK_FACTOR -> Gastric ulcers\n",
      "GASTRIC ULCERS - ASSOCIATED_WITH -> malignancy\n",
      "gastric ulcers - ASSOCIATED_WITH -> NSAID therapy\n",
      "gastric ulcers - TREATED_WITH -> COX-2 selective inhibitors\n",
      "gastric ulcers - HAS_RISK_FACTOR -> malignant disease\n",
      "H pylori infection - ASSOCIATED_WITH -> gastric ulcers\n",
      "PPIs - TREATED_WITH -> gastric ulcers\n",
      "misoprostol - TREATED_WITH -> gastric ulcers\n",
      "peptic ulcer disease - HAS_SYMPTOM -> gastric ulcers\n",
      "Helicobacter pylori - CAUSES -> gastric ulcers\n",
      "H pylori - CAUSES -> gastric ulcers\n",
      "H pylori infection - CAUSES -> gastric ulcers\n",
      "Gastric Ulcers - COMPLICATES -> Peptic Ulcer Perforation\n",
      "Helicobacter pylori - CAUSES -> gastric ulcer disease\n",
      "Lansoprazole - ASSOCIATED_WITH -> Gastric Ulcer Healing\n",
      "Tegoprazan - ASSOCIATED_WITH -> Gastric Ulcer Healing\n",
      "Hyperparathyroidism - ASSOCIATED_WITH -> Gastric ulcer disease\n",
      "NSAIDs - CAUSES -> gastric ulcer development\n",
      "PPI - TREATED_WITH -> remnant gastric ulcer\n",
      "Ligation - COMPLICATES -> Bleeding gastric ulcers\n",
      "Butyl-cyanoacrylate - CAUSES -> Bleeding gastric ulcers\n",
      "Peptic Ulcer Disease - HAS_SYMPTOM -> Hemorrhagic Gastric Ulcers\n",
      "Patients with Gastric Ulcer - TREATED_WITH -> CJ-12420\n",
      "Patients with Gastric Ulcer - HAS_RISK_FACTOR -> clinically significant hepatic, renal, cardiovascular, respiratory, endocrine or central nervous system disorder\n",
      "acid suppression therapy - TREATED_WITH -> NSAID-induced gastric ulcers\n",
      "PPI groups - HAS_RISK_FACTOR -> gastric or duodenal ulcers\n",
      "H2 antagonists - TREATED_WITH -> NSAID-associated gastric ulcers\n",
      "misoprostol - TREATED_WITH -> gastric and duodenal ulcers\n",
      "pump inhibitors - TREATED_WITH -> gastric and duodenal ulcers\n",
      "omeprazole - TREATED_WITH -> ulcers in the gastric remnant\n",
      "misoprostol - TREATED_WITH -> ulcers in the gastric remnant\n",
      "PPI - TREATED_WITH -> ulcers in the gastric remnant\n",
      "sucralfate - TREATED_WITH -> ulcers in the gastric remnant\n",
      "colloidal bismuth - TREATED_WITH -> ulcers in the gastric remnant\n",
      "cimetidine - TREATED_WITH -> ulcers in the gastric remnant\n",
      "PPIs - TREATED_WITH -> Gastric and duodenal ulcers in NSAID users\n",
      "Zollinger-Ellison syndrome - ASSOCIATED_WITH -> severe peptic ulcer disease caused by a gastrin-producing endocrine tumor\n",
      "Gastric Ulcer - HAS_SYMPTOM -> ulcer stenosis; pyloric stenosis; oesophageal gastric varices; Barrett's oesophagus measuring >3 cm; intractable ulcer; digestive ulcer perforation or malignancy on upper GI endoscopy\n",
      "primary prevention of peptic ulcers and gastric cancer - ASSOCIATED_WITH -> be screened for\n",
      "hemostatic clips - TREATED_WITH -> Forest Ia, Ib, and IIa gastric or duodenal ulcers\n"
     ]
    }
   ],
   "source": [
    "print(structured_retriever(\"What causes gastric ulcers?\"))"
   ]
  },
  {
   "cell_type": "code",
   "execution_count": 30,
   "id": "e85d7467-0ac3-4b80-9131-1a14b7e48aef",
   "metadata": {},
   "outputs": [],
   "source": [
    "def combined_retriever(queries):\n",
    "    combined_results = []\n",
    "    for query in queries:\n",
    "        structured_data = structured_retriever(query)\n",
    "        unstructured_data = [\n",
    "            doc.page_content for doc in vector_index.similarity_search(query)\n",
    "        ]\n",
    "        combined_results.append({\"structured\": structured_data, \"unstructured\": \"#Document \". join(unstructured_data)})\n",
    "    return combined_results"
   ]
  },
  {
   "cell_type": "code",
   "execution_count": 31,
   "id": "749e00a1-c4cb-4120-92e4-65587371835f",
   "metadata": {},
   "outputs": [],
   "source": [
    "# Combining results and generating the final response\n",
    "def combined_fusion_graph_rag(original_query):\n",
    "    # Step 1: Generate query variations\n",
    "    # raw_output = generate_queries.invoke(original_query)\n",
    "\n",
    "    # # Debugging: print raw output\n",
    "    # print(\"Raw Output from generate_queries:\", raw_output)\n",
    "\n",
    "    # # Extract queries from raw output\n",
    "    # queries = []\n",
    "    # for line in raw_output:\n",
    "    #     line = line.strip()\n",
    "    #     if line.startswith('\"') and line.endswith('\",'):\n",
    "    #         # Remove trailing comma and quotes\n",
    "    #         queries.append(line.strip('\",'))\n",
    "    #     elif line.startswith('\"') and line.endswith('\"'):\n",
    "    #         queries.append(line.strip('\"'))\n",
    "\n",
    "    # # Debugging: print parsed queries\n",
    "    # print(\"Parsed Queries:\", queries)\n",
    "\n",
    "    queries = generate_queries.invoke(original_query)\n",
    "    \n",
    "    # Step 2: Retrieve data for each query\n",
    "    retrieved_data = combined_retriever(queries)\n",
    "    \n",
    "    # Step 3: Combine retrieved results\n",
    "    combined_context = \"\\n\".join(\n",
    "        f\"Structured:\\n{result['structured']}\\nUnstructured:\\n{' '.join(result['unstructured'])}\"\n",
    "        for result in retrieved_data\n",
    "    )\n",
    "    \n",
    "    # Step 4: Generate final response\n",
    "    answer_template = \"\"\"Answer the question based only on the following context:\n",
    "    {context}\n",
    "    \n",
    "    Question: {question}\n",
    "    \"\"\"\n",
    "    final_prompt = ChatPromptTemplate.from_template(answer_template)\n",
    "    chain = final_prompt | llm | StrOutputParser()\n",
    "    return chain.invoke({\"context\": combined_context, \"question\": original_query})"
   ]
  },
  {
   "cell_type": "code",
   "execution_count": 39,
   "id": "cd782991-bd70-4255-a46c-4808dd32f319",
   "metadata": {},
   "outputs": [],
   "source": [
    "import warnings\n",
    "warnings.filterwarnings('ignore')"
   ]
  },
  {
   "cell_type": "code",
   "execution_count": 54,
   "id": "bccbda1d-b0ed-4141-95a0-3bd629f7ecc5",
   "metadata": {},
   "outputs": [],
   "source": [
    "# answers = []"
   ]
  },
  {
   "cell_type": "code",
   "execution_count": 137,
   "id": "37958de8-688a-476b-9a54-1828637567eb",
   "metadata": {},
   "outputs": [],
   "source": [
    "sample = \"What are the differences between gastritis, gastric erosion, and gastric ulcers?\""
   ]
  },
  {
   "cell_type": "code",
   "execution_count": 138,
   "id": "1701291d-7f9d-477b-9987-6c0634833a47",
   "metadata": {},
   "outputs": [
    {
     "name": "stderr",
     "output_type": "stream",
     "text": [
      "Received notification from DBMS server: {severity: WARNING} {code: Neo.ClientNotification.Statement.FeatureDeprecationWarning} {category: DEPRECATION} {title: This feature is deprecated and will be removed in future versions.} {description: CALL subquery without a variable scope clause is now deprecated. Use CALL (node, node) { ... }} {position: line: 3, column: 13, offset: 93} for query: \"CALL db.index.fulltext.queryNodes('entity', $query)\\n            YIELD node,score\\n            CALL {\\n              WITH node\\n              MATCH (node)-[r:!MENTIONS]->(neighbor)\\n              RETURN node.id + ' - ' + type(r) + ' -> ' + neighbor.id AS output\\n              UNION ALL\\n              WITH node\\n              MATCH (node)<-[r:!MENTIONS]-(neighbor)\\n              RETURN neighbor.id + ' - ' + type(r) + ' -> ' +  node.id AS output\\n            }\\n            RETURN output\\n            \"\n",
      "Received notification from DBMS server: {severity: WARNING} {code: Neo.ClientNotification.Statement.FeatureDeprecationWarning} {category: DEPRECATION} {title: This feature is deprecated and will be removed in future versions.} {description: CALL subquery without a variable scope clause is now deprecated. Use CALL (node, node) { ... }} {position: line: 3, column: 13, offset: 93} for query: \"CALL db.index.fulltext.queryNodes('entity', $query)\\n            YIELD node,score\\n            CALL {\\n              WITH node\\n              MATCH (node)-[r:!MENTIONS]->(neighbor)\\n              RETURN node.id + ' - ' + type(r) + ' -> ' + neighbor.id AS output\\n              UNION ALL\\n              WITH node\\n              MATCH (node)<-[r:!MENTIONS]-(neighbor)\\n              RETURN neighbor.id + ' - ' + type(r) + ' -> ' +  node.id AS output\\n            }\\n            RETURN output\\n            \"\n",
      "Received notification from DBMS server: {severity: WARNING} {code: Neo.ClientNotification.Statement.FeatureDeprecationWarning} {category: DEPRECATION} {title: This feature is deprecated and will be removed in future versions.} {description: CALL subquery without a variable scope clause is now deprecated. Use CALL () { ... }} {position: line: 1, column: 1, offset: 0} for query: \"CALL { CALL db.index.vector.queryNodes($index, $k, $embedding) YIELD node, score WITH collect({node:node, score:score}) AS nodes, max(score) AS max UNWIND nodes AS n RETURN n.node AS node, (n.score / max) AS score UNION CALL db.index.fulltext.queryNodes($keyword_index, $query, {limit: $k}) YIELD node, score WITH collect({node:node, score:score}) AS nodes, max(score) AS max UNWIND nodes AS n RETURN n.node AS node, (n.score / max) AS score } WITH node, max(score) AS score ORDER BY score DESC LIMIT $k RETURN reduce(str='', k IN ['text'] | str + '\\\\n' + k + ': ' + coalesce(node[k], '')) AS text, node {.*, `embedding`: Null, id: Null, `text`: Null} AS metadata, score\"\n",
      "Received notification from DBMS server: {severity: WARNING} {code: Neo.ClientNotification.Statement.FeatureDeprecationWarning} {category: DEPRECATION} {title: This feature is deprecated and will be removed in future versions.} {description: CALL subquery without a variable scope clause is now deprecated. Use CALL (node, node) { ... }} {position: line: 3, column: 13, offset: 93} for query: \"CALL db.index.fulltext.queryNodes('entity', $query)\\n            YIELD node,score\\n            CALL {\\n              WITH node\\n              MATCH (node)-[r:!MENTIONS]->(neighbor)\\n              RETURN node.id + ' - ' + type(r) + ' -> ' + neighbor.id AS output\\n              UNION ALL\\n              WITH node\\n              MATCH (node)<-[r:!MENTIONS]-(neighbor)\\n              RETURN neighbor.id + ' - ' + type(r) + ' -> ' +  node.id AS output\\n            }\\n            RETURN output\\n            \"\n",
      "Received notification from DBMS server: {severity: WARNING} {code: Neo.ClientNotification.Statement.FeatureDeprecationWarning} {category: DEPRECATION} {title: This feature is deprecated and will be removed in future versions.} {description: CALL subquery without a variable scope clause is now deprecated. Use CALL (node, node) { ... }} {position: line: 3, column: 13, offset: 93} for query: \"CALL db.index.fulltext.queryNodes('entity', $query)\\n            YIELD node,score\\n            CALL {\\n              WITH node\\n              MATCH (node)-[r:!MENTIONS]->(neighbor)\\n              RETURN node.id + ' - ' + type(r) + ' -> ' + neighbor.id AS output\\n              UNION ALL\\n              WITH node\\n              MATCH (node)<-[r:!MENTIONS]-(neighbor)\\n              RETURN neighbor.id + ' - ' + type(r) + ' -> ' +  node.id AS output\\n            }\\n            RETURN output\\n            \"\n",
      "Received notification from DBMS server: {severity: WARNING} {code: Neo.ClientNotification.Statement.FeatureDeprecationWarning} {category: DEPRECATION} {title: This feature is deprecated and will be removed in future versions.} {description: CALL subquery without a variable scope clause is now deprecated. Use CALL () { ... }} {position: line: 1, column: 1, offset: 0} for query: \"CALL { CALL db.index.vector.queryNodes($index, $k, $embedding) YIELD node, score WITH collect({node:node, score:score}) AS nodes, max(score) AS max UNWIND nodes AS n RETURN n.node AS node, (n.score / max) AS score UNION CALL db.index.fulltext.queryNodes($keyword_index, $query, {limit: $k}) YIELD node, score WITH collect({node:node, score:score}) AS nodes, max(score) AS max UNWIND nodes AS n RETURN n.node AS node, (n.score / max) AS score } WITH node, max(score) AS score ORDER BY score DESC LIMIT $k RETURN reduce(str='', k IN ['text'] | str + '\\\\n' + k + ': ' + coalesce(node[k], '')) AS text, node {.*, `embedding`: Null, id: Null, `text`: Null} AS metadata, score\"\n",
      "Received notification from DBMS server: {severity: WARNING} {code: Neo.ClientNotification.Statement.FeatureDeprecationWarning} {category: DEPRECATION} {title: This feature is deprecated and will be removed in future versions.} {description: CALL subquery without a variable scope clause is now deprecated. Use CALL (node, node) { ... }} {position: line: 3, column: 13, offset: 93} for query: \"CALL db.index.fulltext.queryNodes('entity', $query)\\n            YIELD node,score\\n            CALL {\\n              WITH node\\n              MATCH (node)-[r:!MENTIONS]->(neighbor)\\n              RETURN node.id + ' - ' + type(r) + ' -> ' + neighbor.id AS output\\n              UNION ALL\\n              WITH node\\n              MATCH (node)<-[r:!MENTIONS]-(neighbor)\\n              RETURN neighbor.id + ' - ' + type(r) + ' -> ' +  node.id AS output\\n            }\\n            RETURN output\\n            \"\n",
      "Received notification from DBMS server: {severity: WARNING} {code: Neo.ClientNotification.Statement.FeatureDeprecationWarning} {category: DEPRECATION} {title: This feature is deprecated and will be removed in future versions.} {description: CALL subquery without a variable scope clause is now deprecated. Use CALL (node, node) { ... }} {position: line: 3, column: 13, offset: 93} for query: \"CALL db.index.fulltext.queryNodes('entity', $query)\\n            YIELD node,score\\n            CALL {\\n              WITH node\\n              MATCH (node)-[r:!MENTIONS]->(neighbor)\\n              RETURN node.id + ' - ' + type(r) + ' -> ' + neighbor.id AS output\\n              UNION ALL\\n              WITH node\\n              MATCH (node)<-[r:!MENTIONS]-(neighbor)\\n              RETURN neighbor.id + ' - ' + type(r) + ' -> ' +  node.id AS output\\n            }\\n            RETURN output\\n            \"\n",
      "Received notification from DBMS server: {severity: WARNING} {code: Neo.ClientNotification.Statement.FeatureDeprecationWarning} {category: DEPRECATION} {title: This feature is deprecated and will be removed in future versions.} {description: CALL subquery without a variable scope clause is now deprecated. Use CALL () { ... }} {position: line: 1, column: 1, offset: 0} for query: \"CALL { CALL db.index.vector.queryNodes($index, $k, $embedding) YIELD node, score WITH collect({node:node, score:score}) AS nodes, max(score) AS max UNWIND nodes AS n RETURN n.node AS node, (n.score / max) AS score UNION CALL db.index.fulltext.queryNodes($keyword_index, $query, {limit: $k}) YIELD node, score WITH collect({node:node, score:score}) AS nodes, max(score) AS max UNWIND nodes AS n RETURN n.node AS node, (n.score / max) AS score } WITH node, max(score) AS score ORDER BY score DESC LIMIT $k RETURN reduce(str='', k IN ['text'] | str + '\\\\n' + k + ': ' + coalesce(node[k], '')) AS text, node {.*, `embedding`: Null, id: Null, `text`: Null} AS metadata, score\"\n",
      "Received notification from DBMS server: {severity: WARNING} {code: Neo.ClientNotification.Statement.FeatureDeprecationWarning} {category: DEPRECATION} {title: This feature is deprecated and will be removed in future versions.} {description: CALL subquery without a variable scope clause is now deprecated. Use CALL (node, node) { ... }} {position: line: 3, column: 13, offset: 93} for query: \"CALL db.index.fulltext.queryNodes('entity', $query)\\n            YIELD node,score\\n            CALL {\\n              WITH node\\n              MATCH (node)-[r:!MENTIONS]->(neighbor)\\n              RETURN node.id + ' - ' + type(r) + ' -> ' + neighbor.id AS output\\n              UNION ALL\\n              WITH node\\n              MATCH (node)<-[r:!MENTIONS]-(neighbor)\\n              RETURN neighbor.id + ' - ' + type(r) + ' -> ' +  node.id AS output\\n            }\\n            RETURN output\\n            \"\n",
      "Received notification from DBMS server: {severity: WARNING} {code: Neo.ClientNotification.Statement.FeatureDeprecationWarning} {category: DEPRECATION} {title: This feature is deprecated and will be removed in future versions.} {description: CALL subquery without a variable scope clause is now deprecated. Use CALL (node, node) { ... }} {position: line: 3, column: 13, offset: 93} for query: \"CALL db.index.fulltext.queryNodes('entity', $query)\\n            YIELD node,score\\n            CALL {\\n              WITH node\\n              MATCH (node)-[r:!MENTIONS]->(neighbor)\\n              RETURN node.id + ' - ' + type(r) + ' -> ' + neighbor.id AS output\\n              UNION ALL\\n              WITH node\\n              MATCH (node)<-[r:!MENTIONS]-(neighbor)\\n              RETURN neighbor.id + ' - ' + type(r) + ' -> ' +  node.id AS output\\n            }\\n            RETURN output\\n            \"\n",
      "Received notification from DBMS server: {severity: WARNING} {code: Neo.ClientNotification.Statement.FeatureDeprecationWarning} {category: DEPRECATION} {title: This feature is deprecated and will be removed in future versions.} {description: CALL subquery without a variable scope clause is now deprecated. Use CALL () { ... }} {position: line: 1, column: 1, offset: 0} for query: \"CALL { CALL db.index.vector.queryNodes($index, $k, $embedding) YIELD node, score WITH collect({node:node, score:score}) AS nodes, max(score) AS max UNWIND nodes AS n RETURN n.node AS node, (n.score / max) AS score UNION CALL db.index.fulltext.queryNodes($keyword_index, $query, {limit: $k}) YIELD node, score WITH collect({node:node, score:score}) AS nodes, max(score) AS max UNWIND nodes AS n RETURN n.node AS node, (n.score / max) AS score } WITH node, max(score) AS score ORDER BY score DESC LIMIT $k RETURN reduce(str='', k IN ['text'] | str + '\\\\n' + k + ': ' + coalesce(node[k], '')) AS text, node {.*, `embedding`: Null, id: Null, `text`: Null} AS metadata, score\"\n",
      "Received notification from DBMS server: {severity: WARNING} {code: Neo.ClientNotification.Statement.FeatureDeprecationWarning} {category: DEPRECATION} {title: This feature is deprecated and will be removed in future versions.} {description: CALL subquery without a variable scope clause is now deprecated. Use CALL (node, node) { ... }} {position: line: 3, column: 13, offset: 93} for query: \"CALL db.index.fulltext.queryNodes('entity', $query)\\n            YIELD node,score\\n            CALL {\\n              WITH node\\n              MATCH (node)-[r:!MENTIONS]->(neighbor)\\n              RETURN node.id + ' - ' + type(r) + ' -> ' + neighbor.id AS output\\n              UNION ALL\\n              WITH node\\n              MATCH (node)<-[r:!MENTIONS]-(neighbor)\\n              RETURN neighbor.id + ' - ' + type(r) + ' -> ' +  node.id AS output\\n            }\\n            RETURN output\\n            \"\n",
      "Received notification from DBMS server: {severity: WARNING} {code: Neo.ClientNotification.Statement.FeatureDeprecationWarning} {category: DEPRECATION} {title: This feature is deprecated and will be removed in future versions.} {description: CALL subquery without a variable scope clause is now deprecated. Use CALL (node, node) { ... }} {position: line: 3, column: 13, offset: 93} for query: \"CALL db.index.fulltext.queryNodes('entity', $query)\\n            YIELD node,score\\n            CALL {\\n              WITH node\\n              MATCH (node)-[r:!MENTIONS]->(neighbor)\\n              RETURN node.id + ' - ' + type(r) + ' -> ' + neighbor.id AS output\\n              UNION ALL\\n              WITH node\\n              MATCH (node)<-[r:!MENTIONS]-(neighbor)\\n              RETURN neighbor.id + ' - ' + type(r) + ' -> ' +  node.id AS output\\n            }\\n            RETURN output\\n            \"\n",
      "Received notification from DBMS server: {severity: WARNING} {code: Neo.ClientNotification.Statement.FeatureDeprecationWarning} {category: DEPRECATION} {title: This feature is deprecated and will be removed in future versions.} {description: CALL subquery without a variable scope clause is now deprecated. Use CALL (node, node) { ... }} {position: line: 3, column: 13, offset: 93} for query: \"CALL db.index.fulltext.queryNodes('entity', $query)\\n            YIELD node,score\\n            CALL {\\n              WITH node\\n              MATCH (node)-[r:!MENTIONS]->(neighbor)\\n              RETURN node.id + ' - ' + type(r) + ' -> ' + neighbor.id AS output\\n              UNION ALL\\n              WITH node\\n              MATCH (node)<-[r:!MENTIONS]-(neighbor)\\n              RETURN neighbor.id + ' - ' + type(r) + ' -> ' +  node.id AS output\\n            }\\n            RETURN output\\n            \"\n",
      "Received notification from DBMS server: {severity: WARNING} {code: Neo.ClientNotification.Statement.FeatureDeprecationWarning} {category: DEPRECATION} {title: This feature is deprecated and will be removed in future versions.} {description: CALL subquery without a variable scope clause is now deprecated. Use CALL () { ... }} {position: line: 1, column: 1, offset: 0} for query: \"CALL { CALL db.index.vector.queryNodes($index, $k, $embedding) YIELD node, score WITH collect({node:node, score:score}) AS nodes, max(score) AS max UNWIND nodes AS n RETURN n.node AS node, (n.score / max) AS score UNION CALL db.index.fulltext.queryNodes($keyword_index, $query, {limit: $k}) YIELD node, score WITH collect({node:node, score:score}) AS nodes, max(score) AS max UNWIND nodes AS n RETURN n.node AS node, (n.score / max) AS score } WITH node, max(score) AS score ORDER BY score DESC LIMIT $k RETURN reduce(str='', k IN ['text'] | str + '\\\\n' + k + ': ' + coalesce(node[k], '')) AS text, node {.*, `embedding`: Null, id: Null, `text`: Null} AS metadata, score\"\n"
     ]
    },
    {
     "name": "stdout",
     "output_type": "stream",
     "text": [
      "The text does not explicitly compare and contrast gastritis, gastric erosion, and gastric ulcers. However, based on general medical knowledge, here is a summary of their differences:\n",
      "\n",
      "1. **Gastritis**: Inflammation of the stomach lining (mucosa) due to various causes such as infection, injury, or irritation. It can be acute or chronic and may not always produce symptoms.\n",
      "2. **Gastric Erosion**: A superficial lesion on the gastric mucosa caused by acid-pepsin damage, often resulting from a peptic ulcer disease (PUD). Gastric erosion is typically asymptomatic but can lead to bleeding if it erodes into a blood vessel.\n",
      "3. **Gastric Ulcer**: A deeper lesion in the stomach lining that results from chronic inflammation and damage caused by acid-pepsin. Gastric ulcers are more likely to cause symptoms such as abdominal pain, nausea, vomiting, and weight loss.\n",
      "\n",
      "Key differences:\n",
      "\n",
      "*   Gastritis is an inflammatory condition, while gastric erosion and ulceration involve tissue damage.\n",
      "*   Gastric erosion is typically superficial, whereas gastric ulcers can be deeper and more severe.\n",
      "*   Gastric ulcers are often associated with peptic ulcer disease (PUD), which involves chronic inflammation and damage to the stomach lining.\n",
      "\n",
      "These distinctions highlight the importance of accurate diagnosis and treatment for each condition.\n",
      "CPU times: user 440 ms, sys: 55.7 ms, total: 495 ms\n",
      "Wall time: 1min 27s\n"
     ]
    }
   ],
   "source": [
    "%%time\n",
    "final_result = combined_fusion_graph_rag(sample)\n",
    "print(final_result)\n",
    "answers.append(final_result)"
   ]
  },
  {
   "cell_type": "code",
   "execution_count": 141,
   "id": "a75cdf96-ec67-439f-bb57-61bea48d2f8a",
   "metadata": {},
   "outputs": [
    {
     "name": "stdout",
     "output_type": "stream",
     "text": [
      "The text does not explicitly compare and contrast gastritis, gastric erosion, and gastric ulcers. However, based on general medical knowledge, here is a summary of their differences:\n",
      "\n",
      "1. **Gastritis**: Inflammation of the stomach lining (mucosa) due to various causes such as infection, injury, or irritation. It can be acute or chronic and may not always produce symptoms.\n",
      "2. **Gastric Erosion**: A superficial lesion on the gastric mucosa caused by acid-pepsin damage, often resulting from a peptic ulcer disease (PUD). Gastric erosion is typically asymptomatic but can lead to bleeding if it erodes into a blood vessel.\n",
      "3. **Gastric Ulcer**: A deeper lesion in the stomach lining that results from chronic inflammation and damage caused by acid-pepsin. Gastric ulcers are more likely to cause symptoms such as abdominal pain, nausea, vomiting, and weight loss.\n",
      "\n",
      "Key differences:\n",
      "\n",
      "*   Gastritis is an inflammatory condition, while gastric erosion and ulceration involve tissue damage.\n",
      "*   Gastric erosion is typically superficial, whereas gastric ulcers can be deeper and more severe.\n",
      "*   Gastric ulcers are often associated with peptic ulcer disease (PUD), which involves chronic inflammation and damage to the stomach lining.\n",
      "\n",
      "These distinctions highlight the importance of accurate diagnosis and treatment for each condition.\n"
     ]
    }
   ],
   "source": [
    "print(answers[24])"
   ]
  },
  {
   "cell_type": "code",
   "execution_count": 140,
   "id": "7755a743-a2b1-45ab-9d79-e29c2d492a00",
   "metadata": {},
   "outputs": [
    {
     "data": {
      "text/plain": [
       "25"
      ]
     },
     "execution_count": 140,
     "metadata": {},
     "output_type": "execute_result"
    }
   ],
   "source": [
    "len(answers)"
   ]
  },
  {
   "cell_type": "code",
   "execution_count": null,
   "id": "fc7c5024-1b80-42d9-a16f-a3d588155621",
   "metadata": {},
   "outputs": [],
   "source": []
  },
  {
   "cell_type": "code",
   "execution_count": 142,
   "id": "aa34e521-72ef-40b1-8c69-376af47e59b3",
   "metadata": {},
   "outputs": [],
   "source": [
    "import pickle\n",
    "with open('sample', 'wb') as f:\n",
    "    pickle.dump(answers, f)"
   ]
  },
  {
   "cell_type": "code",
   "execution_count": 143,
   "id": "818a11a8-7027-490a-b9c5-380785cb4cb0",
   "metadata": {},
   "outputs": [],
   "source": [
    "questions = [\n",
    "    \"What is a gastric ulcer?\",\n",
    "    \"What causes gastric ulcers?\",\n",
    "    \"How does H. pylori infection contribute to gastric ulcers?\",\n",
    "    \"What are the common symptoms of a gastric ulcer?\",\n",
    "    \"How is a gastric ulcer diagnosed?\",\n",
    "    \"What tests are used to detect H. pylori infection?\",\n",
    "    \"What are the common treatments for gastric ulcers?\",\n",
    "    \"What are the potential side effects of ulcer medications?\",\n",
    "    \"How do proton pump inhibitors (PPIs) work to treat gastric ulcers?\",\n",
    "    \"What are the long-term effects of untreated gastric ulcers?\",\n",
    "    \"What are the signs that a gastric ulcer is bleeding?\",\n",
    "    \"What should I do if I suspect my gastric ulcer is bleeding?\",\n",
    "    \"How is a bleeding gastric ulcer treated in an emergency?\",\n",
    "    \"What are the symptoms of a perforated gastric ulcer?\",\n",
    "    \"How is a perforated gastric ulcer treated?\",\n",
    "    \"How does anemia relate to gastric ulcers?\",\n",
    "    \"What are the alternatives to NSAIDs if I have a history of gastric ulcers?\",\n",
    "    \"How does gastric acid secretion influence the formation of stomach ulcers?\",\n",
    "    \"How is the urea breath test used to diagnose H. pylori infection?\",\n",
    "    \"How do NSAIDs induce gastric mucosal injury leading to ulcers?\",\n",
    "    \"What is the role of endoscopy in the management of peptic ulcer disease?\",\n",
    "    \"How does chronic use of corticosteroids influence peptic ulcer formation?\",\n",
    "    \"How do you differentiate between benign and malignant gastric ulcers during endoscopy?\",\n",
    "    \"What are the indications for endoscopic biopsy in patients with suspected gastric ulcers?\",\n",
    "    \"What are the differences between gastritis, gastric erosion, and gastric ulcers?\"\n",
    "]"
   ]
  },
  {
   "cell_type": "code",
   "execution_count": 145,
   "id": "00fb42c2-64a9-46bb-bae2-2bfd6e736a46",
   "metadata": {},
   "outputs": [],
   "source": [
    "import pandas as pd"
   ]
  },
  {
   "cell_type": "code",
   "execution_count": 147,
   "id": "c81aaaed-9ab3-469a-ab64-8720bb60bb8d",
   "metadata": {},
   "outputs": [
    {
     "name": "stdout",
     "output_type": "stream",
     "text": [
      "Answers saved to gastric_ulcer_answers.xlsx\n"
     ]
    }
   ],
   "source": [
    "\n",
    "\n",
    "# Save to Excel\n",
    "data = {\"Question\": questions, \"Answer\": answers}\n",
    "df = pd.DataFrame(data)\n",
    "output_path = \"gastric_ulcer_answers.xlsx\"\n",
    "df.to_excel(output_path, index=False)\n",
    "df.to_csv('fus_graph_output.csv', index=False)\n",
    "\n",
    "print(f\"Answers saved to {output_path}\")"
   ]
  },
  {
   "cell_type": "code",
   "execution_count": 148,
   "id": "29af1159-40ef-484d-8456-7fdbc34fb586",
   "metadata": {},
   "outputs": [
    {
     "data": {
      "text/html": [
       "<div>\n",
       "<style scoped>\n",
       "    .dataframe tbody tr th:only-of-type {\n",
       "        vertical-align: middle;\n",
       "    }\n",
       "\n",
       "    .dataframe tbody tr th {\n",
       "        vertical-align: top;\n",
       "    }\n",
       "\n",
       "    .dataframe thead th {\n",
       "        text-align: right;\n",
       "    }\n",
       "</style>\n",
       "<table border=\"1\" class=\"dataframe\">\n",
       "  <thead>\n",
       "    <tr style=\"text-align: right;\">\n",
       "      <th></th>\n",
       "      <th>Question</th>\n",
       "      <th>Answer</th>\n",
       "    </tr>\n",
       "  </thead>\n",
       "  <tbody>\n",
       "    <tr>\n",
       "      <th>0</th>\n",
       "      <td>What is a gastric ulcer?</td>\n",
       "      <td>A gastric ulcer is a type of peptic ulcer that...</td>\n",
       "    </tr>\n",
       "    <tr>\n",
       "      <th>1</th>\n",
       "      <td>What causes gastric ulcers?</td>\n",
       "      <td>Gastric ulcers can be caused by several factor...</td>\n",
       "    </tr>\n",
       "    <tr>\n",
       "      <th>2</th>\n",
       "      <td>How does H. pylori infection contribute to gas...</td>\n",
       "      <td>H. pylori infection is believed to contribute ...</td>\n",
       "    </tr>\n",
       "    <tr>\n",
       "      <th>3</th>\n",
       "      <td>What are the common symptoms of a gastric ulcer?</td>\n",
       "      <td>The question is not directly related to the pr...</td>\n",
       "    </tr>\n",
       "    <tr>\n",
       "      <th>4</th>\n",
       "      <td>How is a gastric ulcer diagnosed?</td>\n",
       "      <td>A gastric ulcer can be diagnosed through vario...</td>\n",
       "    </tr>\n",
       "    <tr>\n",
       "      <th>5</th>\n",
       "      <td>What tests are used to detect H. pylori infect...</td>\n",
       "      <td>According to the text, the following tests are...</td>\n",
       "    </tr>\n",
       "    <tr>\n",
       "      <th>6</th>\n",
       "      <td>What are the common treatments for gastric ulc...</td>\n",
       "      <td>Based on the provided text, the following are ...</td>\n",
       "    </tr>\n",
       "    <tr>\n",
       "      <th>7</th>\n",
       "      <td>What are the potential side effects of ulcer m...</td>\n",
       "      <td>The text does not explicitly state \"ulcer medi...</td>\n",
       "    </tr>\n",
       "    <tr>\n",
       "      <th>8</th>\n",
       "      <td>How do proton pump inhibitors (PPIs) work to t...</td>\n",
       "      <td>Proton pump inhibitors (PPIs) are medications ...</td>\n",
       "    </tr>\n",
       "    <tr>\n",
       "      <th>9</th>\n",
       "      <td>What are the long-term effects of untreated ga...</td>\n",
       "      <td>The text does not explicitly state the long-te...</td>\n",
       "    </tr>\n",
       "    <tr>\n",
       "      <th>10</th>\n",
       "      <td>What are the signs that a gastric ulcer is ble...</td>\n",
       "      <td>According to the provided tables, the signs th...</td>\n",
       "    </tr>\n",
       "    <tr>\n",
       "      <th>11</th>\n",
       "      <td>What should I do if I suspect my gastric ulcer...</td>\n",
       "      <td>I can't provide medical advice, but if you sus...</td>\n",
       "    </tr>\n",
       "    <tr>\n",
       "      <th>12</th>\n",
       "      <td>How is a bleeding gastric ulcer treated in an ...</td>\n",
       "      <td>According to the provided text, a bleeding gas...</td>\n",
       "    </tr>\n",
       "    <tr>\n",
       "      <th>13</th>\n",
       "      <td>What are the symptoms of a perforated gastric ...</td>\n",
       "      <td>The text does not explicitly mention \"perforat...</td>\n",
       "    </tr>\n",
       "    <tr>\n",
       "      <th>14</th>\n",
       "      <td>How is a perforated gastric ulcer treated?</td>\n",
       "      <td>According to the text, treatment for a perfora...</td>\n",
       "    </tr>\n",
       "    <tr>\n",
       "      <th>15</th>\n",
       "      <td>How does anemia relate to gastric ulcers?</td>\n",
       "      <td>Anemia is related to gastric ulcers in several...</td>\n",
       "    </tr>\n",
       "    <tr>\n",
       "      <th>16</th>\n",
       "      <td>What are the alternatives to NSAIDs if I have ...</td>\n",
       "      <td>If you have a history of gastric ulcers, there...</td>\n",
       "    </tr>\n",
       "    <tr>\n",
       "      <th>17</th>\n",
       "      <td>How does gastric acid secretion influence the ...</td>\n",
       "      <td>Gastric acid plays an important role in the fo...</td>\n",
       "    </tr>\n",
       "    <tr>\n",
       "      <th>18</th>\n",
       "      <td>How is the urea breath test used to diagnose H...</td>\n",
       "      <td>The urea breath test is used to diagnose H. py...</td>\n",
       "    </tr>\n",
       "    <tr>\n",
       "      <th>19</th>\n",
       "      <td>How do NSAIDs induce gastric mucosal injury le...</td>\n",
       "      <td>NSAIDs (Nonsteroidal Anti-Inflammatory Drugs) ...</td>\n",
       "    </tr>\n",
       "    <tr>\n",
       "      <th>20</th>\n",
       "      <td>What is the role of endoscopy in the managemen...</td>\n",
       "      <td>The text does not explicitly state the role of...</td>\n",
       "    </tr>\n",
       "    <tr>\n",
       "      <th>21</th>\n",
       "      <td>How does chronic use of corticosteroids influe...</td>\n",
       "      <td>Chronic use of corticosteroids can increase th...</td>\n",
       "    </tr>\n",
       "    <tr>\n",
       "      <th>22</th>\n",
       "      <td>How do you differentiate between benign and ma...</td>\n",
       "      <td>During endoscopy, differentiation between beni...</td>\n",
       "    </tr>\n",
       "    <tr>\n",
       "      <th>23</th>\n",
       "      <td>What are the indications for endoscopic biopsy...</td>\n",
       "      <td>According to the text, the indications for end...</td>\n",
       "    </tr>\n",
       "    <tr>\n",
       "      <th>24</th>\n",
       "      <td>What are the differences between gastritis, ga...</td>\n",
       "      <td>The text does not explicitly compare and contr...</td>\n",
       "    </tr>\n",
       "  </tbody>\n",
       "</table>\n",
       "</div>"
      ],
      "text/plain": [
       "                                             Question  \\\n",
       "0                            What is a gastric ulcer?   \n",
       "1                         What causes gastric ulcers?   \n",
       "2   How does H. pylori infection contribute to gas...   \n",
       "3    What are the common symptoms of a gastric ulcer?   \n",
       "4                   How is a gastric ulcer diagnosed?   \n",
       "5   What tests are used to detect H. pylori infect...   \n",
       "6   What are the common treatments for gastric ulc...   \n",
       "7   What are the potential side effects of ulcer m...   \n",
       "8   How do proton pump inhibitors (PPIs) work to t...   \n",
       "9   What are the long-term effects of untreated ga...   \n",
       "10  What are the signs that a gastric ulcer is ble...   \n",
       "11  What should I do if I suspect my gastric ulcer...   \n",
       "12  How is a bleeding gastric ulcer treated in an ...   \n",
       "13  What are the symptoms of a perforated gastric ...   \n",
       "14         How is a perforated gastric ulcer treated?   \n",
       "15          How does anemia relate to gastric ulcers?   \n",
       "16  What are the alternatives to NSAIDs if I have ...   \n",
       "17  How does gastric acid secretion influence the ...   \n",
       "18  How is the urea breath test used to diagnose H...   \n",
       "19  How do NSAIDs induce gastric mucosal injury le...   \n",
       "20  What is the role of endoscopy in the managemen...   \n",
       "21  How does chronic use of corticosteroids influe...   \n",
       "22  How do you differentiate between benign and ma...   \n",
       "23  What are the indications for endoscopic biopsy...   \n",
       "24  What are the differences between gastritis, ga...   \n",
       "\n",
       "                                               Answer  \n",
       "0   A gastric ulcer is a type of peptic ulcer that...  \n",
       "1   Gastric ulcers can be caused by several factor...  \n",
       "2   H. pylori infection is believed to contribute ...  \n",
       "3   The question is not directly related to the pr...  \n",
       "4   A gastric ulcer can be diagnosed through vario...  \n",
       "5   According to the text, the following tests are...  \n",
       "6   Based on the provided text, the following are ...  \n",
       "7   The text does not explicitly state \"ulcer medi...  \n",
       "8   Proton pump inhibitors (PPIs) are medications ...  \n",
       "9   The text does not explicitly state the long-te...  \n",
       "10  According to the provided tables, the signs th...  \n",
       "11  I can't provide medical advice, but if you sus...  \n",
       "12  According to the provided text, a bleeding gas...  \n",
       "13  The text does not explicitly mention \"perforat...  \n",
       "14  According to the text, treatment for a perfora...  \n",
       "15  Anemia is related to gastric ulcers in several...  \n",
       "16  If you have a history of gastric ulcers, there...  \n",
       "17  Gastric acid plays an important role in the fo...  \n",
       "18  The urea breath test is used to diagnose H. py...  \n",
       "19  NSAIDs (Nonsteroidal Anti-Inflammatory Drugs) ...  \n",
       "20  The text does not explicitly state the role of...  \n",
       "21  Chronic use of corticosteroids can increase th...  \n",
       "22  During endoscopy, differentiation between beni...  \n",
       "23  According to the text, the indications for end...  \n",
       "24  The text does not explicitly compare and contr...  "
      ]
     },
     "execution_count": 148,
     "metadata": {},
     "output_type": "execute_result"
    }
   ],
   "source": [
    "df"
   ]
  },
  {
   "cell_type": "code",
   "execution_count": 71,
   "id": "9ddb5b52-99ee-4e15-8787-c03862fcc5a2",
   "metadata": {},
   "outputs": [],
   "source": [
    "output_path = \"gastric_ulcer_answers.xlsx\"\n",
    "df.to_excel(output_path, index=False)"
   ]
  },
  {
   "cell_type": "code",
   "execution_count": null,
   "id": "0c9a14e1-f484-4280-96a3-2a5a32112a61",
   "metadata": {},
   "outputs": [],
   "source": []
  }
 ],
 "metadata": {
  "kernelspec": {
   "display_name": "Python 3 (ipykernel)",
   "language": "python",
   "name": "python3"
  },
  "language_info": {
   "codemirror_mode": {
    "name": "ipython",
    "version": 3
   },
   "file_extension": ".py",
   "mimetype": "text/x-python",
   "name": "python",
   "nbconvert_exporter": "python",
   "pygments_lexer": "ipython3",
   "version": "3.12.7"
  }
 },
 "nbformat": 4,
 "nbformat_minor": 5
}
