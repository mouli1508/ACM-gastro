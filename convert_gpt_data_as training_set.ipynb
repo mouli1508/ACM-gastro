{
 "cells": [
  {
   "cell_type": "code",
   "execution_count": 2,
   "id": "62efa8e5-dc26-4347-927b-a7fd42c3175e",
   "metadata": {},
   "outputs": [],
   "source": [
    "import pandas as pd"
   ]
  },
  {
   "cell_type": "code",
   "execution_count": 6,
   "id": "d9a9004c-0630-47d0-a71d-1a5ac5763a1e",
   "metadata": {},
   "outputs": [],
   "source": [
    "pd.set_option('display.max_colwidth', None)"
   ]
  },
  {
   "cell_type": "code",
   "execution_count": 7,
   "id": "7c2f52f9-e408-4433-b339-0d03d866a361",
   "metadata": {},
   "outputs": [],
   "source": [
    "df = pd.read_csv('gastric_ulcer_questions_answers.csv')"
   ]
  },
  {
   "cell_type": "code",
   "execution_count": 8,
   "id": "aa852588-2c5d-449c-b6fc-62329d432b71",
   "metadata": {},
   "outputs": [
    {
     "data": {
      "text/html": [
       "<div>\n",
       "<style scoped>\n",
       "    .dataframe tbody tr th:only-of-type {\n",
       "        vertical-align: middle;\n",
       "    }\n",
       "\n",
       "    .dataframe tbody tr th {\n",
       "        vertical-align: top;\n",
       "    }\n",
       "\n",
       "    .dataframe thead th {\n",
       "        text-align: right;\n",
       "    }\n",
       "</style>\n",
       "<table border=\"1\" class=\"dataframe\">\n",
       "  <thead>\n",
       "    <tr style=\"text-align: right;\">\n",
       "      <th></th>\n",
       "      <th>Question</th>\n",
       "      <th>Answer</th>\n",
       "    </tr>\n",
       "  </thead>\n",
       "  <tbody>\n",
       "    <tr>\n",
       "      <th>0</th>\n",
       "      <td>What is a gastric ulcer?</td>\n",
       "      <td>A gastric ulcer, also known as a stomach ulcer, is a type of peptic ulcer that specifically occurs in the stomach lining. It is a sore or lesion that develops when the stomach's protective mucus lining is diminished, which allows the acidic digestive juices to erode the tissues that line the stomach. This can lead to pain, bleeding, and other gastrointestinal symptoms.\\n\\nThe most common cause of gastric ulcers is the prolonged use of nonsteroidal anti-inflammatory drugs (NSAIDs) such as ibuprofen and aspirin, and infection with the bacterium Helicobacter pylori. Other factors that can contribute to the development of gastric ulcers include excessive alcohol consumption, smoking, severe stress, and the use of certain other medications.\\n\\nSymptoms of a gastric ulcer can include:\\n- Burning stomach pain\\n- Feeling of fullness, bloating or belching\\n- Intolerance to fatty foods\\n- Heartburn\\n- Nausea\\n\\nThe severity of the symptoms can vary and often worsens with an empty stomach. Treatment for gastric ulcers typically involves medication to reduce stomach acid, protect the lining of the stomach, and sometimes antibiotics to treat Helicobacter pylori infection. Lifestyle changes, such as avoiding NSAIDs, reducing stress, and quitting smoking, are also recommended to help heal and prevent further ulcers.</td>\n",
       "    </tr>\n",
       "    <tr>\n",
       "      <th>1</th>\n",
       "      <td>What causes gastric ulcers?</td>\n",
       "      <td>Gastric ulcers, also known as stomach ulcers, are painful sores that develop on the lining of the stomach. They are a type of peptic ulcer disease. Gastric ulcers are primarily caused by:\\n\\n1. **Helicobacter pylori (H. pylori) infection:** This bacterium commonly lives in the mucous layer that covers and protects tissues lining the stomach and small intestine. Often, H. pylori can cause no problems, but it can lead to inflammation of the stomach's inner layer, producing an ulcer.\\n\\n2. **Prolonged use of nonsteroidal anti-inflammatory drugs (NSAIDs):** Common NSAIDs such as aspirin, ibuprofen, and naproxen can irritate or inflame the lining of the stomach and small intestine, leading to ulcers.\\n\\n3. **Other factors:** These include smoking, excessive alcohol consumption, stress, and eating spicy foods, which can exacerbate the risk of developing ulcers, though they do not cause them directly.\\n\\nLess common causes include:\\n- Zollinger-Ellison syndrome, a condition in which the stomach produces too much acid.\\n- Certain other medications, like steroids or selective serotonin reuptake inhibitors (SSRIs), can also contribute to ulcer formation when used in combination with NSAIDs.\\n\\nIt's important to diagnose and treat gastric ulcers early to prevent complications such as bleeding, perforation, and obstruction of the stomach. Treatment typically involves medication to reduce stomach acid, protect the lining of the stomach, and if necessary, antibiotics to treat H. pylori infection.</td>\n",
       "    </tr>\n",
       "    <tr>\n",
       "      <th>2</th>\n",
       "      <td>How does H. pylori infection contribute to gastric ulcers?</td>\n",
       "      <td>Helicobacter pylori (H. pylori) infection contributes to the development of gastric ulcers primarily through the inflammation and damage it causes to the stomach lining. Here’s a detailed explanation of the process:\\n\\n1. **Colonization of the Stomach**: H. pylori is able to survive in the acidic environment of the stomach by producing an enzyme called urease. This enzyme converts urea present in the stomach to ammonia, which neutralizes the acid around the bacteria, allowing them to colonize the stomach lining.\\n\\n2. **Inflammation**: Once H. pylori bacteria have colonized the stomach lining, they provoke an immune response. The body sends immune cells to attack the bacteria, but H. pylori is adapted to survive the immune response, and the result is a chronic inflammation of the stomach lining (gastritis).\\n\\n3. **Damage to the Stomach Lining**: Chronic inflammation caused by the immune response to H. pylori can damage the protective lining of the stomach and duodenum (the first part of the small intestine). This damage can lead to erosion of the lining, creating a sore or ulcer.\\n\\n4. **Production of Toxins**: H. pylori can produce cytotoxins that further contribute to the damage of stomach cells and can inhibit the repair of the gastric mucosa.\\n\\n5. **Decreased Mucosal Protection**: H. pylori infection can lead to decreased production of bicarbonate and mucous, which are essential for protecting the lining of the stomach from acidic gastric juices. This reduction in protective factors makes the stomach lining more susceptible to damage from gastric acids.\\n\\n6. **Interference with Gastric Secretions**: The presence of H. pylori can also affect the regulation of acid in the stomach, potentially leading to either increased or decreased acid secretion, which can exacerbate the development of ulcers.\\n\\nThe presence of H. pylori is a major risk factor for the development of gastric ulcers, and treatment typically involves a combination of antibiotics to eradicate the bacteria and medications to reduce and manage stomach acid.</td>\n",
       "    </tr>\n",
       "    <tr>\n",
       "      <th>3</th>\n",
       "      <td>What are the common symptoms of a gastric ulcer?</td>\n",
       "      <td>Common symptoms of a gastric ulcer include:\\n\\n1. **Burning Stomach Pain**: This pain is often felt between the chest and belly button. It can be more intense when the stomach is empty and might temporarily ease after eating or taking antacids.\\n\\n2. **Indigestion**: Also known as dyspepsia, it can cause bloating, belching, and a feeling of discomfort or pain in the stomach area.\\n\\n3. **Nausea**: The feeling of wanting to vomit.\\n\\n4. **Loss of Appetite**: Feeling less desire to eat due to stomach discomfort.\\n\\n5. **Weight Loss**: Unintentional weight loss might occur due to decreased appetite or eating less because of pain.\\n\\n6. **Bloating**: Feeling full after eating only a small amount of food.\\n\\n7. **Heartburn**: A burning sensation in the chest that can extend to the neck, throat, and angle of the jaw.\\n\\n8. **Vomiting**: In severe cases, vomiting may occur, which can sometimes include blood.\\n\\n9. **Dark, Tarry Stools**: This can indicate bleeding in the stomach, which requires immediate medical attention.\\n\\nIf you or someone you know is experiencing these symptoms, it is important to consult a healthcare provider for proper diagnosis and treatment.</td>\n",
       "    </tr>\n",
       "    <tr>\n",
       "      <th>4</th>\n",
       "      <td>How are gastric ulcers and duodenal ulcers different?</td>\n",
       "      <td>Gastric ulcers and duodenal ulcers are both types of peptic ulcers, which are sores that develop in the lining of the digestive system. However, they differ in several key aspects:\\n\\n1. **Location**:\\n   - **Gastric ulcers** occur on the inside of the stomach.\\n   - **Duodenal ulcers** occur in the duodenum, which is the first part of the small intestine immediately beyond the stomach.\\n\\n2. **Pain Timing Relative to Eating**:\\n   - **Gastric ulcer** pain is often aggravated by eating. People may experience pain soon after meals because food can increase stomach acid or stretch the stomach, aggravating the ulcer.\\n   - **Duodenal ulcer** pain typically improves after eating but may return two to three hours later. Eating may initially buffer stomach acid or redirect it, temporarily relieving the pain.\\n\\n3. **Causes**:\\n   - Both ulcer types can be caused by the overuse of nonsteroidal anti-inflammatory drugs (NSAIDs) like ibuprofen and aspirin, and by an infection with the bacterium Helicobacter pylori.\\n   - However, lifestyle factors such as stress and smoking may have different impacts on their development.\\n\\n4. **Risk Factors**:\\n   - **Gastric ulcers** might be more influenced by factors like alcohol consumption, smoking, and chronic stress, which can impair the stomach's ability to protect itself from gastric acids.\\n   - **Duodenal ulcers** are more commonly associated with excessive acid production, which can overcome the duodenum's natural defenses.\\n\\n5. **Complications**:\\n   - Both can lead to serious complications, including bleeding, perforation, and obstruction.\\n   - The risk of complications might differ slightly based on the ulcer’s location and the response to the initial treatment.\\n\\nUnderstanding these differences is crucial for effective treatment and management of these conditions. Treatments may include the use of proton pump inhibitors, H2-receptor antagonists, antibiotics to treat Helicobacter pylori infection, and lifestyle modifications to reduce the recurrence of ulcers.</td>\n",
       "    </tr>\n",
       "  </tbody>\n",
       "</table>\n",
       "</div>"
      ],
      "text/plain": [
       "                                                     Question  \\\n",
       "0                                    What is a gastric ulcer?   \n",
       "1                                 What causes gastric ulcers?   \n",
       "2  How does H. pylori infection contribute to gastric ulcers?   \n",
       "3            What are the common symptoms of a gastric ulcer?   \n",
       "4       How are gastric ulcers and duodenal ulcers different?   \n",
       "\n",
       "                                                                                                                                                                                                                                                                                                                                                                                                                                                                                                                                                                                                                                                                                                                                                                                                                                                                                                                                                                                                                                                                                                                                                                                                                                                                                                                                                                                                                                                                                                                                                                                                                                                                                                                                                                                                                                                                                                                                                                                                                                                                                                                                          Answer  \n",
       "0                                                                                                                                                                                                                                                                                                                                                                                                                                                                                                                                                                                                                                                                                                                                                                     A gastric ulcer, also known as a stomach ulcer, is a type of peptic ulcer that specifically occurs in the stomach lining. It is a sore or lesion that develops when the stomach's protective mucus lining is diminished, which allows the acidic digestive juices to erode the tissues that line the stomach. This can lead to pain, bleeding, and other gastrointestinal symptoms.\\n\\nThe most common cause of gastric ulcers is the prolonged use of nonsteroidal anti-inflammatory drugs (NSAIDs) such as ibuprofen and aspirin, and infection with the bacterium Helicobacter pylori. Other factors that can contribute to the development of gastric ulcers include excessive alcohol consumption, smoking, severe stress, and the use of certain other medications.\\n\\nSymptoms of a gastric ulcer can include:\\n- Burning stomach pain\\n- Feeling of fullness, bloating or belching\\n- Intolerance to fatty foods\\n- Heartburn\\n- Nausea\\n\\nThe severity of the symptoms can vary and often worsens with an empty stomach. Treatment for gastric ulcers typically involves medication to reduce stomach acid, protect the lining of the stomach, and sometimes antibiotics to treat Helicobacter pylori infection. Lifestyle changes, such as avoiding NSAIDs, reducing stress, and quitting smoking, are also recommended to help heal and prevent further ulcers.  \n",
       "1                                                                                                                                                                                                                                                                                                                                                                                                                                                                                                                                                                            Gastric ulcers, also known as stomach ulcers, are painful sores that develop on the lining of the stomach. They are a type of peptic ulcer disease. Gastric ulcers are primarily caused by:\\n\\n1. **Helicobacter pylori (H. pylori) infection:** This bacterium commonly lives in the mucous layer that covers and protects tissues lining the stomach and small intestine. Often, H. pylori can cause no problems, but it can lead to inflammation of the stomach's inner layer, producing an ulcer.\\n\\n2. **Prolonged use of nonsteroidal anti-inflammatory drugs (NSAIDs):** Common NSAIDs such as aspirin, ibuprofen, and naproxen can irritate or inflame the lining of the stomach and small intestine, leading to ulcers.\\n\\n3. **Other factors:** These include smoking, excessive alcohol consumption, stress, and eating spicy foods, which can exacerbate the risk of developing ulcers, though they do not cause them directly.\\n\\nLess common causes include:\\n- Zollinger-Ellison syndrome, a condition in which the stomach produces too much acid.\\n- Certain other medications, like steroids or selective serotonin reuptake inhibitors (SSRIs), can also contribute to ulcer formation when used in combination with NSAIDs.\\n\\nIt's important to diagnose and treat gastric ulcers early to prevent complications such as bleeding, perforation, and obstruction of the stomach. Treatment typically involves medication to reduce stomach acid, protect the lining of the stomach, and if necessary, antibiotics to treat H. pylori infection.  \n",
       "2  Helicobacter pylori (H. pylori) infection contributes to the development of gastric ulcers primarily through the inflammation and damage it causes to the stomach lining. Here’s a detailed explanation of the process:\\n\\n1. **Colonization of the Stomach**: H. pylori is able to survive in the acidic environment of the stomach by producing an enzyme called urease. This enzyme converts urea present in the stomach to ammonia, which neutralizes the acid around the bacteria, allowing them to colonize the stomach lining.\\n\\n2. **Inflammation**: Once H. pylori bacteria have colonized the stomach lining, they provoke an immune response. The body sends immune cells to attack the bacteria, but H. pylori is adapted to survive the immune response, and the result is a chronic inflammation of the stomach lining (gastritis).\\n\\n3. **Damage to the Stomach Lining**: Chronic inflammation caused by the immune response to H. pylori can damage the protective lining of the stomach and duodenum (the first part of the small intestine). This damage can lead to erosion of the lining, creating a sore or ulcer.\\n\\n4. **Production of Toxins**: H. pylori can produce cytotoxins that further contribute to the damage of stomach cells and can inhibit the repair of the gastric mucosa.\\n\\n5. **Decreased Mucosal Protection**: H. pylori infection can lead to decreased production of bicarbonate and mucous, which are essential for protecting the lining of the stomach from acidic gastric juices. This reduction in protective factors makes the stomach lining more susceptible to damage from gastric acids.\\n\\n6. **Interference with Gastric Secretions**: The presence of H. pylori can also affect the regulation of acid in the stomach, potentially leading to either increased or decreased acid secretion, which can exacerbate the development of ulcers.\\n\\nThe presence of H. pylori is a major risk factor for the development of gastric ulcers, and treatment typically involves a combination of antibiotics to eradicate the bacteria and medications to reduce and manage stomach acid.  \n",
       "3                                                                                                                                                                                                                                                                                                                                                                                                                                                                                                                                                                                                                                                                                                                                                                                                                                                                                                                     Common symptoms of a gastric ulcer include:\\n\\n1. **Burning Stomach Pain**: This pain is often felt between the chest and belly button. It can be more intense when the stomach is empty and might temporarily ease after eating or taking antacids.\\n\\n2. **Indigestion**: Also known as dyspepsia, it can cause bloating, belching, and a feeling of discomfort or pain in the stomach area.\\n\\n3. **Nausea**: The feeling of wanting to vomit.\\n\\n4. **Loss of Appetite**: Feeling less desire to eat due to stomach discomfort.\\n\\n5. **Weight Loss**: Unintentional weight loss might occur due to decreased appetite or eating less because of pain.\\n\\n6. **Bloating**: Feeling full after eating only a small amount of food.\\n\\n7. **Heartburn**: A burning sensation in the chest that can extend to the neck, throat, and angle of the jaw.\\n\\n8. **Vomiting**: In severe cases, vomiting may occur, which can sometimes include blood.\\n\\n9. **Dark, Tarry Stools**: This can indicate bleeding in the stomach, which requires immediate medical attention.\\n\\nIf you or someone you know is experiencing these symptoms, it is important to consult a healthcare provider for proper diagnosis and treatment.  \n",
       "4                         Gastric ulcers and duodenal ulcers are both types of peptic ulcers, which are sores that develop in the lining of the digestive system. However, they differ in several key aspects:\\n\\n1. **Location**:\\n   - **Gastric ulcers** occur on the inside of the stomach.\\n   - **Duodenal ulcers** occur in the duodenum, which is the first part of the small intestine immediately beyond the stomach.\\n\\n2. **Pain Timing Relative to Eating**:\\n   - **Gastric ulcer** pain is often aggravated by eating. People may experience pain soon after meals because food can increase stomach acid or stretch the stomach, aggravating the ulcer.\\n   - **Duodenal ulcer** pain typically improves after eating but may return two to three hours later. Eating may initially buffer stomach acid or redirect it, temporarily relieving the pain.\\n\\n3. **Causes**:\\n   - Both ulcer types can be caused by the overuse of nonsteroidal anti-inflammatory drugs (NSAIDs) like ibuprofen and aspirin, and by an infection with the bacterium Helicobacter pylori.\\n   - However, lifestyle factors such as stress and smoking may have different impacts on their development.\\n\\n4. **Risk Factors**:\\n   - **Gastric ulcers** might be more influenced by factors like alcohol consumption, smoking, and chronic stress, which can impair the stomach's ability to protect itself from gastric acids.\\n   - **Duodenal ulcers** are more commonly associated with excessive acid production, which can overcome the duodenum's natural defenses.\\n\\n5. **Complications**:\\n   - Both can lead to serious complications, including bleeding, perforation, and obstruction.\\n   - The risk of complications might differ slightly based on the ulcer’s location and the response to the initial treatment.\\n\\nUnderstanding these differences is crucial for effective treatment and management of these conditions. Treatments may include the use of proton pump inhibitors, H2-receptor antagonists, antibiotics to treat Helicobacter pylori infection, and lifestyle modifications to reduce the recurrence of ulcers.  "
      ]
     },
     "execution_count": 8,
     "metadata": {},
     "output_type": "execute_result"
    }
   ],
   "source": [
    "df.head(5)"
   ]
  },
  {
   "cell_type": "code",
   "execution_count": 9,
   "id": "6327a4be-6a62-43d4-92ce-feec74164941",
   "metadata": {},
   "outputs": [],
   "source": [
    "df['Answer'] = df['Answer'].str.replace('\\n', ' ')"
   ]
  },
  {
   "cell_type": "code",
   "execution_count": 10,
   "id": "a426d72f-181e-4e50-94d8-c209f3361b82",
   "metadata": {},
   "outputs": [
    {
     "data": {
      "text/html": [
       "<div>\n",
       "<style scoped>\n",
       "    .dataframe tbody tr th:only-of-type {\n",
       "        vertical-align: middle;\n",
       "    }\n",
       "\n",
       "    .dataframe tbody tr th {\n",
       "        vertical-align: top;\n",
       "    }\n",
       "\n",
       "    .dataframe thead th {\n",
       "        text-align: right;\n",
       "    }\n",
       "</style>\n",
       "<table border=\"1\" class=\"dataframe\">\n",
       "  <thead>\n",
       "    <tr style=\"text-align: right;\">\n",
       "      <th></th>\n",
       "      <th>Question</th>\n",
       "      <th>Answer</th>\n",
       "    </tr>\n",
       "  </thead>\n",
       "  <tbody>\n",
       "    <tr>\n",
       "      <th>0</th>\n",
       "      <td>What is a gastric ulcer?</td>\n",
       "      <td>A gastric ulcer, also known as a stomach ulcer, is a type of peptic ulcer that specifically occurs in the stomach lining. It is a sore or lesion that develops when the stomach's protective mucus lining is diminished, which allows the acidic digestive juices to erode the tissues that line the stomach. This can lead to pain, bleeding, and other gastrointestinal symptoms.  The most common cause of gastric ulcers is the prolonged use of nonsteroidal anti-inflammatory drugs (NSAIDs) such as ibuprofen and aspirin, and infection with the bacterium Helicobacter pylori. Other factors that can contribute to the development of gastric ulcers include excessive alcohol consumption, smoking, severe stress, and the use of certain other medications.  Symptoms of a gastric ulcer can include: - Burning stomach pain - Feeling of fullness, bloating or belching - Intolerance to fatty foods - Heartburn - Nausea  The severity of the symptoms can vary and often worsens with an empty stomach. Treatment for gastric ulcers typically involves medication to reduce stomach acid, protect the lining of the stomach, and sometimes antibiotics to treat Helicobacter pylori infection. Lifestyle changes, such as avoiding NSAIDs, reducing stress, and quitting smoking, are also recommended to help heal and prevent further ulcers.</td>\n",
       "    </tr>\n",
       "    <tr>\n",
       "      <th>1</th>\n",
       "      <td>What causes gastric ulcers?</td>\n",
       "      <td>Gastric ulcers, also known as stomach ulcers, are painful sores that develop on the lining of the stomach. They are a type of peptic ulcer disease. Gastric ulcers are primarily caused by:  1. **Helicobacter pylori (H. pylori) infection:** This bacterium commonly lives in the mucous layer that covers and protects tissues lining the stomach and small intestine. Often, H. pylori can cause no problems, but it can lead to inflammation of the stomach's inner layer, producing an ulcer.  2. **Prolonged use of nonsteroidal anti-inflammatory drugs (NSAIDs):** Common NSAIDs such as aspirin, ibuprofen, and naproxen can irritate or inflame the lining of the stomach and small intestine, leading to ulcers.  3. **Other factors:** These include smoking, excessive alcohol consumption, stress, and eating spicy foods, which can exacerbate the risk of developing ulcers, though they do not cause them directly.  Less common causes include: - Zollinger-Ellison syndrome, a condition in which the stomach produces too much acid. - Certain other medications, like steroids or selective serotonin reuptake inhibitors (SSRIs), can also contribute to ulcer formation when used in combination with NSAIDs.  It's important to diagnose and treat gastric ulcers early to prevent complications such as bleeding, perforation, and obstruction of the stomach. Treatment typically involves medication to reduce stomach acid, protect the lining of the stomach, and if necessary, antibiotics to treat H. pylori infection.</td>\n",
       "    </tr>\n",
       "    <tr>\n",
       "      <th>2</th>\n",
       "      <td>How does H. pylori infection contribute to gastric ulcers?</td>\n",
       "      <td>Helicobacter pylori (H. pylori) infection contributes to the development of gastric ulcers primarily through the inflammation and damage it causes to the stomach lining. Here’s a detailed explanation of the process:  1. **Colonization of the Stomach**: H. pylori is able to survive in the acidic environment of the stomach by producing an enzyme called urease. This enzyme converts urea present in the stomach to ammonia, which neutralizes the acid around the bacteria, allowing them to colonize the stomach lining.  2. **Inflammation**: Once H. pylori bacteria have colonized the stomach lining, they provoke an immune response. The body sends immune cells to attack the bacteria, but H. pylori is adapted to survive the immune response, and the result is a chronic inflammation of the stomach lining (gastritis).  3. **Damage to the Stomach Lining**: Chronic inflammation caused by the immune response to H. pylori can damage the protective lining of the stomach and duodenum (the first part of the small intestine). This damage can lead to erosion of the lining, creating a sore or ulcer.  4. **Production of Toxins**: H. pylori can produce cytotoxins that further contribute to the damage of stomach cells and can inhibit the repair of the gastric mucosa.  5. **Decreased Mucosal Protection**: H. pylori infection can lead to decreased production of bicarbonate and mucous, which are essential for protecting the lining of the stomach from acidic gastric juices. This reduction in protective factors makes the stomach lining more susceptible to damage from gastric acids.  6. **Interference with Gastric Secretions**: The presence of H. pylori can also affect the regulation of acid in the stomach, potentially leading to either increased or decreased acid secretion, which can exacerbate the development of ulcers.  The presence of H. pylori is a major risk factor for the development of gastric ulcers, and treatment typically involves a combination of antibiotics to eradicate the bacteria and medications to reduce and manage stomach acid.</td>\n",
       "    </tr>\n",
       "    <tr>\n",
       "      <th>3</th>\n",
       "      <td>What are the common symptoms of a gastric ulcer?</td>\n",
       "      <td>Common symptoms of a gastric ulcer include:  1. **Burning Stomach Pain**: This pain is often felt between the chest and belly button. It can be more intense when the stomach is empty and might temporarily ease after eating or taking antacids.  2. **Indigestion**: Also known as dyspepsia, it can cause bloating, belching, and a feeling of discomfort or pain in the stomach area.  3. **Nausea**: The feeling of wanting to vomit.  4. **Loss of Appetite**: Feeling less desire to eat due to stomach discomfort.  5. **Weight Loss**: Unintentional weight loss might occur due to decreased appetite or eating less because of pain.  6. **Bloating**: Feeling full after eating only a small amount of food.  7. **Heartburn**: A burning sensation in the chest that can extend to the neck, throat, and angle of the jaw.  8. **Vomiting**: In severe cases, vomiting may occur, which can sometimes include blood.  9. **Dark, Tarry Stools**: This can indicate bleeding in the stomach, which requires immediate medical attention.  If you or someone you know is experiencing these symptoms, it is important to consult a healthcare provider for proper diagnosis and treatment.</td>\n",
       "    </tr>\n",
       "    <tr>\n",
       "      <th>4</th>\n",
       "      <td>How are gastric ulcers and duodenal ulcers different?</td>\n",
       "      <td>Gastric ulcers and duodenal ulcers are both types of peptic ulcers, which are sores that develop in the lining of the digestive system. However, they differ in several key aspects:  1. **Location**:    - **Gastric ulcers** occur on the inside of the stomach.    - **Duodenal ulcers** occur in the duodenum, which is the first part of the small intestine immediately beyond the stomach.  2. **Pain Timing Relative to Eating**:    - **Gastric ulcer** pain is often aggravated by eating. People may experience pain soon after meals because food can increase stomach acid or stretch the stomach, aggravating the ulcer.    - **Duodenal ulcer** pain typically improves after eating but may return two to three hours later. Eating may initially buffer stomach acid or redirect it, temporarily relieving the pain.  3. **Causes**:    - Both ulcer types can be caused by the overuse of nonsteroidal anti-inflammatory drugs (NSAIDs) like ibuprofen and aspirin, and by an infection with the bacterium Helicobacter pylori.    - However, lifestyle factors such as stress and smoking may have different impacts on their development.  4. **Risk Factors**:    - **Gastric ulcers** might be more influenced by factors like alcohol consumption, smoking, and chronic stress, which can impair the stomach's ability to protect itself from gastric acids.    - **Duodenal ulcers** are more commonly associated with excessive acid production, which can overcome the duodenum's natural defenses.  5. **Complications**:    - Both can lead to serious complications, including bleeding, perforation, and obstruction.    - The risk of complications might differ slightly based on the ulcer’s location and the response to the initial treatment.  Understanding these differences is crucial for effective treatment and management of these conditions. Treatments may include the use of proton pump inhibitors, H2-receptor antagonists, antibiotics to treat Helicobacter pylori infection, and lifestyle modifications to reduce the recurrence of ulcers.</td>\n",
       "    </tr>\n",
       "  </tbody>\n",
       "</table>\n",
       "</div>"
      ],
      "text/plain": [
       "                                                     Question  \\\n",
       "0                                    What is a gastric ulcer?   \n",
       "1                                 What causes gastric ulcers?   \n",
       "2  How does H. pylori infection contribute to gastric ulcers?   \n",
       "3            What are the common symptoms of a gastric ulcer?   \n",
       "4       How are gastric ulcers and duodenal ulcers different?   \n",
       "\n",
       "                                                                                                                                                                                                                                                                                                                                                                                                                                                                                                                                                                                                                                                                                                                                                                                                                                                                                                                                                                                                                                                                                                                                                                                                                                                                                                                                                                                                                                                                                                                                                                                                                                                                                                                                                                                                                                                                                                                                                                                                                                                                                                                            Answer  \n",
       "0                                                                                                                                                                                                                                                                                                                                                                                                                                                                                                                                                                                                                                                                                                                                                                  A gastric ulcer, also known as a stomach ulcer, is a type of peptic ulcer that specifically occurs in the stomach lining. It is a sore or lesion that develops when the stomach's protective mucus lining is diminished, which allows the acidic digestive juices to erode the tissues that line the stomach. This can lead to pain, bleeding, and other gastrointestinal symptoms.  The most common cause of gastric ulcers is the prolonged use of nonsteroidal anti-inflammatory drugs (NSAIDs) such as ibuprofen and aspirin, and infection with the bacterium Helicobacter pylori. Other factors that can contribute to the development of gastric ulcers include excessive alcohol consumption, smoking, severe stress, and the use of certain other medications.  Symptoms of a gastric ulcer can include: - Burning stomach pain - Feeling of fullness, bloating or belching - Intolerance to fatty foods - Heartburn - Nausea  The severity of the symptoms can vary and often worsens with an empty stomach. Treatment for gastric ulcers typically involves medication to reduce stomach acid, protect the lining of the stomach, and sometimes antibiotics to treat Helicobacter pylori infection. Lifestyle changes, such as avoiding NSAIDs, reducing stress, and quitting smoking, are also recommended to help heal and prevent further ulcers.  \n",
       "1                                                                                                                                                                                                                                                                                                                                                                                                                                                                                                                                                                          Gastric ulcers, also known as stomach ulcers, are painful sores that develop on the lining of the stomach. They are a type of peptic ulcer disease. Gastric ulcers are primarily caused by:  1. **Helicobacter pylori (H. pylori) infection:** This bacterium commonly lives in the mucous layer that covers and protects tissues lining the stomach and small intestine. Often, H. pylori can cause no problems, but it can lead to inflammation of the stomach's inner layer, producing an ulcer.  2. **Prolonged use of nonsteroidal anti-inflammatory drugs (NSAIDs):** Common NSAIDs such as aspirin, ibuprofen, and naproxen can irritate or inflame the lining of the stomach and small intestine, leading to ulcers.  3. **Other factors:** These include smoking, excessive alcohol consumption, stress, and eating spicy foods, which can exacerbate the risk of developing ulcers, though they do not cause them directly.  Less common causes include: - Zollinger-Ellison syndrome, a condition in which the stomach produces too much acid. - Certain other medications, like steroids or selective serotonin reuptake inhibitors (SSRIs), can also contribute to ulcer formation when used in combination with NSAIDs.  It's important to diagnose and treat gastric ulcers early to prevent complications such as bleeding, perforation, and obstruction of the stomach. Treatment typically involves medication to reduce stomach acid, protect the lining of the stomach, and if necessary, antibiotics to treat H. pylori infection.  \n",
       "2  Helicobacter pylori (H. pylori) infection contributes to the development of gastric ulcers primarily through the inflammation and damage it causes to the stomach lining. Here’s a detailed explanation of the process:  1. **Colonization of the Stomach**: H. pylori is able to survive in the acidic environment of the stomach by producing an enzyme called urease. This enzyme converts urea present in the stomach to ammonia, which neutralizes the acid around the bacteria, allowing them to colonize the stomach lining.  2. **Inflammation**: Once H. pylori bacteria have colonized the stomach lining, they provoke an immune response. The body sends immune cells to attack the bacteria, but H. pylori is adapted to survive the immune response, and the result is a chronic inflammation of the stomach lining (gastritis).  3. **Damage to the Stomach Lining**: Chronic inflammation caused by the immune response to H. pylori can damage the protective lining of the stomach and duodenum (the first part of the small intestine). This damage can lead to erosion of the lining, creating a sore or ulcer.  4. **Production of Toxins**: H. pylori can produce cytotoxins that further contribute to the damage of stomach cells and can inhibit the repair of the gastric mucosa.  5. **Decreased Mucosal Protection**: H. pylori infection can lead to decreased production of bicarbonate and mucous, which are essential for protecting the lining of the stomach from acidic gastric juices. This reduction in protective factors makes the stomach lining more susceptible to damage from gastric acids.  6. **Interference with Gastric Secretions**: The presence of H. pylori can also affect the regulation of acid in the stomach, potentially leading to either increased or decreased acid secretion, which can exacerbate the development of ulcers.  The presence of H. pylori is a major risk factor for the development of gastric ulcers, and treatment typically involves a combination of antibiotics to eradicate the bacteria and medications to reduce and manage stomach acid.  \n",
       "3                                                                                                                                                                                                                                                                                                                                                                                                                                                                                                                                                                                                                                                                                                                                                                                                                                                                                                                           Common symptoms of a gastric ulcer include:  1. **Burning Stomach Pain**: This pain is often felt between the chest and belly button. It can be more intense when the stomach is empty and might temporarily ease after eating or taking antacids.  2. **Indigestion**: Also known as dyspepsia, it can cause bloating, belching, and a feeling of discomfort or pain in the stomach area.  3. **Nausea**: The feeling of wanting to vomit.  4. **Loss of Appetite**: Feeling less desire to eat due to stomach discomfort.  5. **Weight Loss**: Unintentional weight loss might occur due to decreased appetite or eating less because of pain.  6. **Bloating**: Feeling full after eating only a small amount of food.  7. **Heartburn**: A burning sensation in the chest that can extend to the neck, throat, and angle of the jaw.  8. **Vomiting**: In severe cases, vomiting may occur, which can sometimes include blood.  9. **Dark, Tarry Stools**: This can indicate bleeding in the stomach, which requires immediate medical attention.  If you or someone you know is experiencing these symptoms, it is important to consult a healthcare provider for proper diagnosis and treatment.  \n",
       "4                                 Gastric ulcers and duodenal ulcers are both types of peptic ulcers, which are sores that develop in the lining of the digestive system. However, they differ in several key aspects:  1. **Location**:    - **Gastric ulcers** occur on the inside of the stomach.    - **Duodenal ulcers** occur in the duodenum, which is the first part of the small intestine immediately beyond the stomach.  2. **Pain Timing Relative to Eating**:    - **Gastric ulcer** pain is often aggravated by eating. People may experience pain soon after meals because food can increase stomach acid or stretch the stomach, aggravating the ulcer.    - **Duodenal ulcer** pain typically improves after eating but may return two to three hours later. Eating may initially buffer stomach acid or redirect it, temporarily relieving the pain.  3. **Causes**:    - Both ulcer types can be caused by the overuse of nonsteroidal anti-inflammatory drugs (NSAIDs) like ibuprofen and aspirin, and by an infection with the bacterium Helicobacter pylori.    - However, lifestyle factors such as stress and smoking may have different impacts on their development.  4. **Risk Factors**:    - **Gastric ulcers** might be more influenced by factors like alcohol consumption, smoking, and chronic stress, which can impair the stomach's ability to protect itself from gastric acids.    - **Duodenal ulcers** are more commonly associated with excessive acid production, which can overcome the duodenum's natural defenses.  5. **Complications**:    - Both can lead to serious complications, including bleeding, perforation, and obstruction.    - The risk of complications might differ slightly based on the ulcer’s location and the response to the initial treatment.  Understanding these differences is crucial for effective treatment and management of these conditions. Treatments may include the use of proton pump inhibitors, H2-receptor antagonists, antibiotics to treat Helicobacter pylori infection, and lifestyle modifications to reduce the recurrence of ulcers.  "
      ]
     },
     "execution_count": 10,
     "metadata": {},
     "output_type": "execute_result"
    }
   ],
   "source": [
    "df.head(5)"
   ]
  },
  {
   "cell_type": "code",
   "execution_count": 11,
   "id": "d0aaac74-2c3e-4bac-8612-a8d1d8f9f87f",
   "metadata": {},
   "outputs": [],
   "source": [
    "df['Answer'] = df['Answer'].str.replace('**', ' ')"
   ]
  },
  {
   "cell_type": "code",
   "execution_count": 12,
   "id": "7ba3fe8e-6a67-46f4-b301-6d830483727a",
   "metadata": {},
   "outputs": [
    {
     "data": {
      "text/html": [
       "<div>\n",
       "<style scoped>\n",
       "    .dataframe tbody tr th:only-of-type {\n",
       "        vertical-align: middle;\n",
       "    }\n",
       "\n",
       "    .dataframe tbody tr th {\n",
       "        vertical-align: top;\n",
       "    }\n",
       "\n",
       "    .dataframe thead th {\n",
       "        text-align: right;\n",
       "    }\n",
       "</style>\n",
       "<table border=\"1\" class=\"dataframe\">\n",
       "  <thead>\n",
       "    <tr style=\"text-align: right;\">\n",
       "      <th></th>\n",
       "      <th>Question</th>\n",
       "      <th>Answer</th>\n",
       "    </tr>\n",
       "  </thead>\n",
       "  <tbody>\n",
       "    <tr>\n",
       "      <th>0</th>\n",
       "      <td>What is a gastric ulcer?</td>\n",
       "      <td>A gastric ulcer, also known as a stomach ulcer, is a type of peptic ulcer that specifically occurs in the stomach lining. It is a sore or lesion that develops when the stomach's protective mucus lining is diminished, which allows the acidic digestive juices to erode the tissues that line the stomach. This can lead to pain, bleeding, and other gastrointestinal symptoms.  The most common cause of gastric ulcers is the prolonged use of nonsteroidal anti-inflammatory drugs (NSAIDs) such as ibuprofen and aspirin, and infection with the bacterium Helicobacter pylori. Other factors that can contribute to the development of gastric ulcers include excessive alcohol consumption, smoking, severe stress, and the use of certain other medications.  Symptoms of a gastric ulcer can include: - Burning stomach pain - Feeling of fullness, bloating or belching - Intolerance to fatty foods - Heartburn - Nausea  The severity of the symptoms can vary and often worsens with an empty stomach. Treatment for gastric ulcers typically involves medication to reduce stomach acid, protect the lining of the stomach, and sometimes antibiotics to treat Helicobacter pylori infection. Lifestyle changes, such as avoiding NSAIDs, reducing stress, and quitting smoking, are also recommended to help heal and prevent further ulcers.</td>\n",
       "    </tr>\n",
       "    <tr>\n",
       "      <th>1</th>\n",
       "      <td>What causes gastric ulcers?</td>\n",
       "      <td>Gastric ulcers, also known as stomach ulcers, are painful sores that develop on the lining of the stomach. They are a type of peptic ulcer disease. Gastric ulcers are primarily caused by:  1.  Helicobacter pylori (H. pylori) infection:  This bacterium commonly lives in the mucous layer that covers and protects tissues lining the stomach and small intestine. Often, H. pylori can cause no problems, but it can lead to inflammation of the stomach's inner layer, producing an ulcer.  2.  Prolonged use of nonsteroidal anti-inflammatory drugs (NSAIDs):  Common NSAIDs such as aspirin, ibuprofen, and naproxen can irritate or inflame the lining of the stomach and small intestine, leading to ulcers.  3.  Other factors:  These include smoking, excessive alcohol consumption, stress, and eating spicy foods, which can exacerbate the risk of developing ulcers, though they do not cause them directly.  Less common causes include: - Zollinger-Ellison syndrome, a condition in which the stomach produces too much acid. - Certain other medications, like steroids or selective serotonin reuptake inhibitors (SSRIs), can also contribute to ulcer formation when used in combination with NSAIDs.  It's important to diagnose and treat gastric ulcers early to prevent complications such as bleeding, perforation, and obstruction of the stomach. Treatment typically involves medication to reduce stomach acid, protect the lining of the stomach, and if necessary, antibiotics to treat H. pylori infection.</td>\n",
       "    </tr>\n",
       "  </tbody>\n",
       "</table>\n",
       "</div>"
      ],
      "text/plain": [
       "                      Question  \\\n",
       "0     What is a gastric ulcer?   \n",
       "1  What causes gastric ulcers?   \n",
       "\n",
       "                                                                                                                                                                                                                                                                                                                                                                                                                                                                                                                                                                                                                                                                                                                                                                                                                                                                                                                                                                                                                                                                                                                                                                                                                                                                                                                                                                                                                                                                                                                                              Answer  \n",
       "0                                                                                                                                                                                    A gastric ulcer, also known as a stomach ulcer, is a type of peptic ulcer that specifically occurs in the stomach lining. It is a sore or lesion that develops when the stomach's protective mucus lining is diminished, which allows the acidic digestive juices to erode the tissues that line the stomach. This can lead to pain, bleeding, and other gastrointestinal symptoms.  The most common cause of gastric ulcers is the prolonged use of nonsteroidal anti-inflammatory drugs (NSAIDs) such as ibuprofen and aspirin, and infection with the bacterium Helicobacter pylori. Other factors that can contribute to the development of gastric ulcers include excessive alcohol consumption, smoking, severe stress, and the use of certain other medications.  Symptoms of a gastric ulcer can include: - Burning stomach pain - Feeling of fullness, bloating or belching - Intolerance to fatty foods - Heartburn - Nausea  The severity of the symptoms can vary and often worsens with an empty stomach. Treatment for gastric ulcers typically involves medication to reduce stomach acid, protect the lining of the stomach, and sometimes antibiotics to treat Helicobacter pylori infection. Lifestyle changes, such as avoiding NSAIDs, reducing stress, and quitting smoking, are also recommended to help heal and prevent further ulcers.  \n",
       "1  Gastric ulcers, also known as stomach ulcers, are painful sores that develop on the lining of the stomach. They are a type of peptic ulcer disease. Gastric ulcers are primarily caused by:  1.  Helicobacter pylori (H. pylori) infection:  This bacterium commonly lives in the mucous layer that covers and protects tissues lining the stomach and small intestine. Often, H. pylori can cause no problems, but it can lead to inflammation of the stomach's inner layer, producing an ulcer.  2.  Prolonged use of nonsteroidal anti-inflammatory drugs (NSAIDs):  Common NSAIDs such as aspirin, ibuprofen, and naproxen can irritate or inflame the lining of the stomach and small intestine, leading to ulcers.  3.  Other factors:  These include smoking, excessive alcohol consumption, stress, and eating spicy foods, which can exacerbate the risk of developing ulcers, though they do not cause them directly.  Less common causes include: - Zollinger-Ellison syndrome, a condition in which the stomach produces too much acid. - Certain other medications, like steroids or selective serotonin reuptake inhibitors (SSRIs), can also contribute to ulcer formation when used in combination with NSAIDs.  It's important to diagnose and treat gastric ulcers early to prevent complications such as bleeding, perforation, and obstruction of the stomach. Treatment typically involves medication to reduce stomach acid, protect the lining of the stomach, and if necessary, antibiotics to treat H. pylori infection.  "
      ]
     },
     "execution_count": 12,
     "metadata": {},
     "output_type": "execute_result"
    }
   ],
   "source": [
    "df.head(2)"
   ]
  },
  {
   "cell_type": "code",
   "execution_count": 13,
   "id": "3f30cc3e-d73a-48b5-a468-31b25e8eaecb",
   "metadata": {},
   "outputs": [],
   "source": [
    "df.to_csv('cleaned_data_for_finetuning.csv', index=False)"
   ]
  },
  {
   "cell_type": "code",
   "execution_count": 14,
   "id": "0159e432-7ae9-46d5-a163-4615a520233c",
   "metadata": {},
   "outputs": [
    {
     "data": {
      "text/html": [
       "<div>\n",
       "<style scoped>\n",
       "    .dataframe tbody tr th:only-of-type {\n",
       "        vertical-align: middle;\n",
       "    }\n",
       "\n",
       "    .dataframe tbody tr th {\n",
       "        vertical-align: top;\n",
       "    }\n",
       "\n",
       "    .dataframe thead th {\n",
       "        text-align: right;\n",
       "    }\n",
       "</style>\n",
       "<table border=\"1\" class=\"dataframe\">\n",
       "  <thead>\n",
       "    <tr style=\"text-align: right;\">\n",
       "      <th></th>\n",
       "      <th>Question</th>\n",
       "      <th>Answer</th>\n",
       "    </tr>\n",
       "  </thead>\n",
       "  <tbody>\n",
       "    <tr>\n",
       "      <th>0</th>\n",
       "      <td>What is a gastric ulcer?</td>\n",
       "      <td>A gastric ulcer, also known as a stomach ulcer, is a type of peptic ulcer that specifically occurs in the stomach lining. It is a sore or lesion that develops when the stomach's protective mucus lining is diminished, which allows the acidic digestive juices to erode the tissues that line the stomach. This can lead to pain, bleeding, and other gastrointestinal symptoms.  The most common cause of gastric ulcers is the prolonged use of nonsteroidal anti-inflammatory drugs (NSAIDs) such as ibuprofen and aspirin, and infection with the bacterium Helicobacter pylori. Other factors that can contribute to the development of gastric ulcers include excessive alcohol consumption, smoking, severe stress, and the use of certain other medications.  Symptoms of a gastric ulcer can include: - Burning stomach pain - Feeling of fullness, bloating or belching - Intolerance to fatty foods - Heartburn - Nausea  The severity of the symptoms can vary and often worsens with an empty stomach. Treatment for gastric ulcers typically involves medication to reduce stomach acid, protect the lining of the stomach, and sometimes antibiotics to treat Helicobacter pylori infection. Lifestyle changes, such as avoiding NSAIDs, reducing stress, and quitting smoking, are also recommended to help heal and prevent further ulcers.</td>\n",
       "    </tr>\n",
       "    <tr>\n",
       "      <th>1</th>\n",
       "      <td>What causes gastric ulcers?</td>\n",
       "      <td>Gastric ulcers, also known as stomach ulcers, are painful sores that develop on the lining of the stomach. They are a type of peptic ulcer disease. Gastric ulcers are primarily caused by:  1.  Helicobacter pylori (H. pylori) infection:  This bacterium commonly lives in the mucous layer that covers and protects tissues lining the stomach and small intestine. Often, H. pylori can cause no problems, but it can lead to inflammation of the stomach's inner layer, producing an ulcer.  2.  Prolonged use of nonsteroidal anti-inflammatory drugs (NSAIDs):  Common NSAIDs such as aspirin, ibuprofen, and naproxen can irritate or inflame the lining of the stomach and small intestine, leading to ulcers.  3.  Other factors:  These include smoking, excessive alcohol consumption, stress, and eating spicy foods, which can exacerbate the risk of developing ulcers, though they do not cause them directly.  Less common causes include: - Zollinger-Ellison syndrome, a condition in which the stomach produces too much acid. - Certain other medications, like steroids or selective serotonin reuptake inhibitors (SSRIs), can also contribute to ulcer formation when used in combination with NSAIDs.  It's important to diagnose and treat gastric ulcers early to prevent complications such as bleeding, perforation, and obstruction of the stomach. Treatment typically involves medication to reduce stomach acid, protect the lining of the stomach, and if necessary, antibiotics to treat H. pylori infection.</td>\n",
       "    </tr>\n",
       "    <tr>\n",
       "      <th>2</th>\n",
       "      <td>How does H. pylori infection contribute to gastric ulcers?</td>\n",
       "      <td>Helicobacter pylori (H. pylori) infection contributes to the development of gastric ulcers primarily through the inflammation and damage it causes to the stomach lining. Here’s a detailed explanation of the process:  1.  Colonization of the Stomach : H. pylori is able to survive in the acidic environment of the stomach by producing an enzyme called urease. This enzyme converts urea present in the stomach to ammonia, which neutralizes the acid around the bacteria, allowing them to colonize the stomach lining.  2.  Inflammation : Once H. pylori bacteria have colonized the stomach lining, they provoke an immune response. The body sends immune cells to attack the bacteria, but H. pylori is adapted to survive the immune response, and the result is a chronic inflammation of the stomach lining (gastritis).  3.  Damage to the Stomach Lining : Chronic inflammation caused by the immune response to H. pylori can damage the protective lining of the stomach and duodenum (the first part of the small intestine). This damage can lead to erosion of the lining, creating a sore or ulcer.  4.  Production of Toxins : H. pylori can produce cytotoxins that further contribute to the damage of stomach cells and can inhibit the repair of the gastric mucosa.  5.  Decreased Mucosal Protection : H. pylori infection can lead to decreased production of bicarbonate and mucous, which are essential for protecting the lining of the stomach from acidic gastric juices. This reduction in protective factors makes the stomach lining more susceptible to damage from gastric acids.  6.  Interference with Gastric Secretions : The presence of H. pylori can also affect the regulation of acid in the stomach, potentially leading to either increased or decreased acid secretion, which can exacerbate the development of ulcers.  The presence of H. pylori is a major risk factor for the development of gastric ulcers, and treatment typically involves a combination of antibiotics to eradicate the bacteria and medications to reduce and manage stomach acid.</td>\n",
       "    </tr>\n",
       "    <tr>\n",
       "      <th>3</th>\n",
       "      <td>What are the common symptoms of a gastric ulcer?</td>\n",
       "      <td>Common symptoms of a gastric ulcer include:  1.  Burning Stomach Pain : This pain is often felt between the chest and belly button. It can be more intense when the stomach is empty and might temporarily ease after eating or taking antacids.  2.  Indigestion : Also known as dyspepsia, it can cause bloating, belching, and a feeling of discomfort or pain in the stomach area.  3.  Nausea : The feeling of wanting to vomit.  4.  Loss of Appetite : Feeling less desire to eat due to stomach discomfort.  5.  Weight Loss : Unintentional weight loss might occur due to decreased appetite or eating less because of pain.  6.  Bloating : Feeling full after eating only a small amount of food.  7.  Heartburn : A burning sensation in the chest that can extend to the neck, throat, and angle of the jaw.  8.  Vomiting : In severe cases, vomiting may occur, which can sometimes include blood.  9.  Dark, Tarry Stools : This can indicate bleeding in the stomach, which requires immediate medical attention.  If you or someone you know is experiencing these symptoms, it is important to consult a healthcare provider for proper diagnosis and treatment.</td>\n",
       "    </tr>\n",
       "    <tr>\n",
       "      <th>4</th>\n",
       "      <td>How are gastric ulcers and duodenal ulcers different?</td>\n",
       "      <td>Gastric ulcers and duodenal ulcers are both types of peptic ulcers, which are sores that develop in the lining of the digestive system. However, they differ in several key aspects:  1.  Location :    -  Gastric ulcers  occur on the inside of the stomach.    -  Duodenal ulcers  occur in the duodenum, which is the first part of the small intestine immediately beyond the stomach.  2.  Pain Timing Relative to Eating :    -  Gastric ulcer  pain is often aggravated by eating. People may experience pain soon after meals because food can increase stomach acid or stretch the stomach, aggravating the ulcer.    -  Duodenal ulcer  pain typically improves after eating but may return two to three hours later. Eating may initially buffer stomach acid or redirect it, temporarily relieving the pain.  3.  Causes :    - Both ulcer types can be caused by the overuse of nonsteroidal anti-inflammatory drugs (NSAIDs) like ibuprofen and aspirin, and by an infection with the bacterium Helicobacter pylori.    - However, lifestyle factors such as stress and smoking may have different impacts on their development.  4.  Risk Factors :    -  Gastric ulcers  might be more influenced by factors like alcohol consumption, smoking, and chronic stress, which can impair the stomach's ability to protect itself from gastric acids.    -  Duodenal ulcers  are more commonly associated with excessive acid production, which can overcome the duodenum's natural defenses.  5.  Complications :    - Both can lead to serious complications, including bleeding, perforation, and obstruction.    - The risk of complications might differ slightly based on the ulcer’s location and the response to the initial treatment.  Understanding these differences is crucial for effective treatment and management of these conditions. Treatments may include the use of proton pump inhibitors, H2-receptor antagonists, antibiotics to treat Helicobacter pylori infection, and lifestyle modifications to reduce the recurrence of ulcers.</td>\n",
       "    </tr>\n",
       "  </tbody>\n",
       "</table>\n",
       "</div>"
      ],
      "text/plain": [
       "                                                     Question  \\\n",
       "0                                    What is a gastric ulcer?   \n",
       "1                                 What causes gastric ulcers?   \n",
       "2  How does H. pylori infection contribute to gastric ulcers?   \n",
       "3            What are the common symptoms of a gastric ulcer?   \n",
       "4       How are gastric ulcers and duodenal ulcers different?   \n",
       "\n",
       "                                                                                                                                                                                                                                                                                                                                                                                                                                                                                                                                                                                                                                                                                                                                                                                                                                                                                                                                                                                                                                                                                                                                                                                                                                                                                                                                                                                                                                                                                                                                                                                                                                                                                                                                                                                                                                                                                                                                                                                                                                                                                                                Answer  \n",
       "0                                                                                                                                                                                                                                                                                                                                                                                                                                                                                                                                                                                                                                                                                                                                                      A gastric ulcer, also known as a stomach ulcer, is a type of peptic ulcer that specifically occurs in the stomach lining. It is a sore or lesion that develops when the stomach's protective mucus lining is diminished, which allows the acidic digestive juices to erode the tissues that line the stomach. This can lead to pain, bleeding, and other gastrointestinal symptoms.  The most common cause of gastric ulcers is the prolonged use of nonsteroidal anti-inflammatory drugs (NSAIDs) such as ibuprofen and aspirin, and infection with the bacterium Helicobacter pylori. Other factors that can contribute to the development of gastric ulcers include excessive alcohol consumption, smoking, severe stress, and the use of certain other medications.  Symptoms of a gastric ulcer can include: - Burning stomach pain - Feeling of fullness, bloating or belching - Intolerance to fatty foods - Heartburn - Nausea  The severity of the symptoms can vary and often worsens with an empty stomach. Treatment for gastric ulcers typically involves medication to reduce stomach acid, protect the lining of the stomach, and sometimes antibiotics to treat Helicobacter pylori infection. Lifestyle changes, such as avoiding NSAIDs, reducing stress, and quitting smoking, are also recommended to help heal and prevent further ulcers.  \n",
       "1                                                                                                                                                                                                                                                                                                                                                                                                                                                                                                                                                                    Gastric ulcers, also known as stomach ulcers, are painful sores that develop on the lining of the stomach. They are a type of peptic ulcer disease. Gastric ulcers are primarily caused by:  1.  Helicobacter pylori (H. pylori) infection:  This bacterium commonly lives in the mucous layer that covers and protects tissues lining the stomach and small intestine. Often, H. pylori can cause no problems, but it can lead to inflammation of the stomach's inner layer, producing an ulcer.  2.  Prolonged use of nonsteroidal anti-inflammatory drugs (NSAIDs):  Common NSAIDs such as aspirin, ibuprofen, and naproxen can irritate or inflame the lining of the stomach and small intestine, leading to ulcers.  3.  Other factors:  These include smoking, excessive alcohol consumption, stress, and eating spicy foods, which can exacerbate the risk of developing ulcers, though they do not cause them directly.  Less common causes include: - Zollinger-Ellison syndrome, a condition in which the stomach produces too much acid. - Certain other medications, like steroids or selective serotonin reuptake inhibitors (SSRIs), can also contribute to ulcer formation when used in combination with NSAIDs.  It's important to diagnose and treat gastric ulcers early to prevent complications such as bleeding, perforation, and obstruction of the stomach. Treatment typically involves medication to reduce stomach acid, protect the lining of the stomach, and if necessary, antibiotics to treat H. pylori infection.  \n",
       "2  Helicobacter pylori (H. pylori) infection contributes to the development of gastric ulcers primarily through the inflammation and damage it causes to the stomach lining. Here’s a detailed explanation of the process:  1.  Colonization of the Stomach : H. pylori is able to survive in the acidic environment of the stomach by producing an enzyme called urease. This enzyme converts urea present in the stomach to ammonia, which neutralizes the acid around the bacteria, allowing them to colonize the stomach lining.  2.  Inflammation : Once H. pylori bacteria have colonized the stomach lining, they provoke an immune response. The body sends immune cells to attack the bacteria, but H. pylori is adapted to survive the immune response, and the result is a chronic inflammation of the stomach lining (gastritis).  3.  Damage to the Stomach Lining : Chronic inflammation caused by the immune response to H. pylori can damage the protective lining of the stomach and duodenum (the first part of the small intestine). This damage can lead to erosion of the lining, creating a sore or ulcer.  4.  Production of Toxins : H. pylori can produce cytotoxins that further contribute to the damage of stomach cells and can inhibit the repair of the gastric mucosa.  5.  Decreased Mucosal Protection : H. pylori infection can lead to decreased production of bicarbonate and mucous, which are essential for protecting the lining of the stomach from acidic gastric juices. This reduction in protective factors makes the stomach lining more susceptible to damage from gastric acids.  6.  Interference with Gastric Secretions : The presence of H. pylori can also affect the regulation of acid in the stomach, potentially leading to either increased or decreased acid secretion, which can exacerbate the development of ulcers.  The presence of H. pylori is a major risk factor for the development of gastric ulcers, and treatment typically involves a combination of antibiotics to eradicate the bacteria and medications to reduce and manage stomach acid.  \n",
       "3                                                                                                                                                                                                                                                                                                                                                                                                                                                                                                                                                                                                                                                                                                                                                                                                                                                                                                                                 Common symptoms of a gastric ulcer include:  1.  Burning Stomach Pain : This pain is often felt between the chest and belly button. It can be more intense when the stomach is empty and might temporarily ease after eating or taking antacids.  2.  Indigestion : Also known as dyspepsia, it can cause bloating, belching, and a feeling of discomfort or pain in the stomach area.  3.  Nausea : The feeling of wanting to vomit.  4.  Loss of Appetite : Feeling less desire to eat due to stomach discomfort.  5.  Weight Loss : Unintentional weight loss might occur due to decreased appetite or eating less because of pain.  6.  Bloating : Feeling full after eating only a small amount of food.  7.  Heartburn : A burning sensation in the chest that can extend to the neck, throat, and angle of the jaw.  8.  Vomiting : In severe cases, vomiting may occur, which can sometimes include blood.  9.  Dark, Tarry Stools : This can indicate bleeding in the stomach, which requires immediate medical attention.  If you or someone you know is experiencing these symptoms, it is important to consult a healthcare provider for proper diagnosis and treatment.  \n",
       "4                                           Gastric ulcers and duodenal ulcers are both types of peptic ulcers, which are sores that develop in the lining of the digestive system. However, they differ in several key aspects:  1.  Location :    -  Gastric ulcers  occur on the inside of the stomach.    -  Duodenal ulcers  occur in the duodenum, which is the first part of the small intestine immediately beyond the stomach.  2.  Pain Timing Relative to Eating :    -  Gastric ulcer  pain is often aggravated by eating. People may experience pain soon after meals because food can increase stomach acid or stretch the stomach, aggravating the ulcer.    -  Duodenal ulcer  pain typically improves after eating but may return two to three hours later. Eating may initially buffer stomach acid or redirect it, temporarily relieving the pain.  3.  Causes :    - Both ulcer types can be caused by the overuse of nonsteroidal anti-inflammatory drugs (NSAIDs) like ibuprofen and aspirin, and by an infection with the bacterium Helicobacter pylori.    - However, lifestyle factors such as stress and smoking may have different impacts on their development.  4.  Risk Factors :    -  Gastric ulcers  might be more influenced by factors like alcohol consumption, smoking, and chronic stress, which can impair the stomach's ability to protect itself from gastric acids.    -  Duodenal ulcers  are more commonly associated with excessive acid production, which can overcome the duodenum's natural defenses.  5.  Complications :    - Both can lead to serious complications, including bleeding, perforation, and obstruction.    - The risk of complications might differ slightly based on the ulcer’s location and the response to the initial treatment.  Understanding these differences is crucial for effective treatment and management of these conditions. Treatments may include the use of proton pump inhibitors, H2-receptor antagonists, antibiotics to treat Helicobacter pylori infection, and lifestyle modifications to reduce the recurrence of ulcers.  "
      ]
     },
     "execution_count": 14,
     "metadata": {},
     "output_type": "execute_result"
    }
   ],
   "source": [
    "cleaned_data = pd.read_csv('cleaned_data_for_finetuning.csv')\n",
    "cleaned_data.head()"
   ]
  },
  {
   "cell_type": "code",
   "execution_count": null,
   "id": "9fae9df6-9266-4767-b89c-e09fb9742e02",
   "metadata": {},
   "outputs": [],
   "source": []
  }
 ],
 "metadata": {
  "kernelspec": {
   "display_name": "Python 3 (ipykernel)",
   "language": "python",
   "name": "python3"
  },
  "language_info": {
   "codemirror_mode": {
    "name": "ipython",
    "version": 3
   },
   "file_extension": ".py",
   "mimetype": "text/x-python",
   "name": "python",
   "nbconvert_exporter": "python",
   "pygments_lexer": "ipython3",
   "version": "3.10.14"
  }
 },
 "nbformat": 4,
 "nbformat_minor": 5
}
